{
 "cells": [
  {
   "cell_type": "code",
   "execution_count": 84,
   "id": "c5a0ce89-123b-4803-b59b-83ae1262d404",
   "metadata": {
    "tags": []
   },
   "outputs": [],
   "source": [
    "import numpy as np\n",
    "from tensorflow.keras.models import Sequential\n",
    "from tensorflow.keras.layers import LSTM, Dense, RepeatVector, TimeDistributed, BatchNormalization, Dropout\n",
    "from sklearn.preprocessing import MinMaxScaler, StandardScaler\n",
    "import pandas as pd\n",
    "from keras import optimizers\n",
    "import math"
   ]
  },
  {
   "cell_type": "code",
   "execution_count": 2,
   "id": "dd4604a1-d0ef-4b70-94e7-1be62f5eef98",
   "metadata": {
    "tags": []
   },
   "outputs": [],
   "source": [
    "df = pd.read_csv('./Glucose_Train_Set.csv')\n",
    "\n",
    "val_df = pd.read_csv('./Glucose_Validation_Set_Complete.csv')[['SID','Day','DailyTI_Index','Value']]\n",
    "val_missing = pd.read_csv('./Glucose_Validation_Set.csv')[['SID','Day','DailyTI_Index','Value']]"
   ]
  },
  {
   "cell_type": "code",
   "execution_count": 3,
   "id": "80aa76cd-a23d-405e-a7b1-03e3886a927a",
   "metadata": {
    "tags": []
   },
   "outputs": [],
   "source": [
    "missing_data = pd.merge(val_df, val_missing, on = ['SID','Day','DailyTI_Index'], how = 'left')\n",
    "missing_data.columns = ['SID','Day','DailyTI_Index','Value_complete', 'Value_missing']"
   ]
  },
  {
   "cell_type": "code",
   "execution_count": 4,
   "id": "3d918b12-048b-4c4b-b179-617bbaff0091",
   "metadata": {
    "tags": []
   },
   "outputs": [],
   "source": [
    "train_data = df.sort_values(by=['DailyTI_Index']).groupby(['SID', 'Day'])['Value'].apply(list).reset_index()\n",
    "validation_missing = missing_data.sort_values(by=['DailyTI_Index']).groupby(['SID', 'Day'])['Value_missing'].apply(list).reset_index()\n",
    "validation_complete = missing_data.sort_values(by=['DailyTI_Index']).groupby(['SID', 'Day'])['Value_complete'].apply(list).reset_index()\n"
   ]
  },
  {
   "cell_type": "code",
   "execution_count": 6,
   "id": "850902c8-5702-47e2-a62c-20e05d8cadf0",
   "metadata": {
    "tags": []
   },
   "outputs": [],
   "source": [
    "y_val = np.array(validation_missing['Value_missing'].to_list())"
   ]
  },
  {
   "cell_type": "code",
   "execution_count": 7,
   "id": "6fdf0298-10b4-4b68-9f16-e7fca6649c62",
   "metadata": {
    "tags": []
   },
   "outputs": [],
   "source": [
    "X_train = np.array(train_data['Value'].to_list())"
   ]
  },
  {
   "cell_type": "code",
   "execution_count": null,
   "id": "6ee7c4f9-224c-4a17-90ab-d5b77d1adf9e",
   "metadata": {},
   "outputs": [],
   "source": []
  },
  {
   "cell_type": "code",
   "execution_count": 53,
   "id": "dc859774-d4d5-4115-8fa6-ffff5369202b",
   "metadata": {
    "tags": []
   },
   "outputs": [
    {
     "name": "stdout",
     "output_type": "stream",
     "text": [
      "Epoch 1/20\n",
      "1107/1107 [==============================] - 401s 361ms/step - loss: 0.7065\n",
      "Epoch 2/20\n",
      "1107/1107 [==============================] - 811s 733ms/step - loss: 0.6577\n",
      "Epoch 3/20\n",
      "1107/1107 [==============================] - 418s 378ms/step - loss: 0.5919\n",
      "Epoch 4/20\n",
      "1107/1107 [==============================] - 1344s 1s/step - loss: 0.5380\n",
      "Epoch 5/20\n",
      "1107/1107 [==============================] - 407s 368ms/step - loss: 0.5159\n",
      "Epoch 6/20\n",
      "1107/1107 [==============================] - 416s 375ms/step - loss: 0.4517\n",
      "Epoch 7/20\n",
      "1107/1107 [==============================] - 426s 385ms/step - loss: 0.4144\n",
      "Epoch 8/20\n",
      "1107/1107 [==============================] - 460s 415ms/step - loss: 0.3817\n",
      "Epoch 9/20\n",
      "1107/1107 [==============================] - 500s 452ms/step - loss: 0.3480\n",
      "Epoch 10/20\n",
      "1107/1107 [==============================] - 433s 391ms/step - loss: 0.3284\n",
      "Epoch 11/20\n",
      "1107/1107 [==============================] - 446s 403ms/step - loss: 0.3074\n",
      "Epoch 12/20\n",
      "1107/1107 [==============================] - 460s 416ms/step - loss: 0.2852\n",
      "Epoch 13/20\n",
      "1107/1107 [==============================] - 448s 405ms/step - loss: 0.2707\n",
      "Epoch 14/20\n",
      "1107/1107 [==============================] - 1506s 1s/step - loss: 0.2575\n",
      "Epoch 15/20\n",
      "1107/1107 [==============================] - 1551s 1s/step - loss: 0.2482\n",
      "Epoch 16/20\n",
      "1107/1107 [==============================] - 2432s 2s/step - loss: 0.2366\n",
      "Epoch 17/20\n",
      "1107/1107 [==============================] - 1630s 1s/step - loss: 0.2273\n",
      "Epoch 18/20\n",
      "1107/1107 [==============================] - 2039s 2s/step - loss: 0.2184\n",
      "Epoch 19/20\n",
      "1107/1107 [==============================] - 1387s 1s/step - loss: 0.2097\n",
      "Epoch 20/20\n",
      "1107/1107 [==============================] - 386s 349ms/step - loss: 0.2007\n"
     ]
    },
    {
     "data": {
      "text/plain": [
       "<keras.callbacks.History at 0x162811120>"
      ]
     },
     "execution_count": 53,
     "metadata": {},
     "output_type": "execute_result"
    }
   ],
   "source": [
    "## Normalize the data\n",
    "# Standardize the data\n",
    "scaler = StandardScaler()\n",
    "X_train_scaled = scaler.fit_transform(X_train)\n",
    "\n",
    "# Reshaping X_train for the LSTM model, LSTM expects input to be in [samples, time steps, features]\n",
    "X_train_reshaped = X_train_scaled.reshape((X_train_scaled.shape[0], X_train_scaled.shape[1], 1))\n",
    "\n",
    "# Define a Seq2Seq LSTM model best was 50 and 50\n",
    "model = Sequential([\n",
    "    LSTM(100, activation='sigmoid', input_shape=(288, 1), return_sequences=False), # set to false for seq2seq\n",
    "    RepeatVector(288),  # Determines the length of the output sequence\n",
    "    LSTM(100, activation='sigmoid', return_sequences=True),\n",
    "    TimeDistributed(Dense(1))\n",
    "])\n",
    "\n",
    "optimizer = optimizers.Adam(learning_rate = 0.001, clipvalue=0.5) # for seq2seq clipvalue=0.5\n",
    "model.compile(optimizer=optimizer, loss='mse')\n",
    "\n",
    "# Train the model\n",
    "model.fit(X_train_reshaped, X_train_reshaped, epochs=20, batch_size=64, verbose=1)"
   ]
  },
  {
   "cell_type": "code",
   "execution_count": 54,
   "id": "e63af1bd-56d1-489c-be60-cdf31ff230c1",
   "metadata": {
    "tags": []
   },
   "outputs": [
    {
     "name": "stdout",
     "output_type": "stream",
     "text": [
      "Model: \"sequential_19\"\n",
      "_________________________________________________________________\n",
      " Layer (type)                Output Shape              Param #   \n",
      "=================================================================\n",
      " lstm_31 (LSTM)              (None, 100)               40800     \n",
      "                                                                 \n",
      " repeat_vector_13 (RepeatVec  (None, 288, 100)         0         \n",
      " tor)                                                            \n",
      "                                                                 \n",
      " lstm_32 (LSTM)              (None, 288, 100)          80400     \n",
      "                                                                 \n",
      " time_distributed_19 (TimeDi  (None, 288, 1)           101       \n",
      " stributed)                                                      \n",
      "                                                                 \n",
      "=================================================================\n",
      "Total params: 121,301\n",
      "Trainable params: 121,301\n",
      "Non-trainable params: 0\n",
      "_________________________________________________________________\n"
     ]
    }
   ],
   "source": [
    "model.summary()"
   ]
  },
  {
   "cell_type": "code",
   "execution_count": 55,
   "id": "d957ec99-0849-415e-a980-a86661fb9e87",
   "metadata": {
    "tags": []
   },
   "outputs": [
    {
     "name": "stdout",
     "output_type": "stream",
     "text": [
      "317/317 [==============================] - 21s 66ms/step\n"
     ]
    }
   ],
   "source": [
    "# Prepare the test sequence\n",
    "test_sequences = y_val\n",
    "# Handle NaNs for normalization (simple imputation, consider a better method for your use case)\n",
    "test_sequences_imputed = np.array([np.where(np.isnan(seq), np.nanmean(seq), seq) for seq in test_sequences])\n",
    "\n",
    "# Standardize the test sequences\n",
    "test_sequences_scaled = scaler.transform(test_sequences_imputed)\n",
    "\n",
    "# Reshape for the model\n",
    "test_sequences_scaled_reshaped = test_sequences_scaled.reshape((test_sequences_scaled.shape[0], 288, 1))\n",
    "\n",
    "# Predicting the sequences\n",
    "predicted_sequences_scaled = model.predict(test_sequences_scaled_reshaped)\n",
    "\n",
    "# Inverse transform to original scale\n",
    "predicted_sequences = scaler.inverse_transform(predicted_sequences_scaled.reshape(test_sequences_scaled.shape[0], 288))\n"
   ]
  },
  {
   "cell_type": "code",
   "execution_count": 88,
   "id": "ba5484b5-891b-4aea-8519-1bbde5f357a6",
   "metadata": {
    "tags": []
   },
   "outputs": [],
   "source": [
    "predictions = []\n",
    "\n",
    "# Iterate through each row in the array and append it as a list to data_for_df\n",
    "for row in predicted_sequences:\n",
    "    predictions.append(row)  # Each row becomes a list that is then wrapped in another list to represent a single cell in the DataFrame\n"
   ]
  },
  {
   "cell_type": "code",
   "execution_count": 89,
   "id": "2a3fcd9b-91b5-442d-84b2-9c1a61f2d877",
   "metadata": {
    "tags": []
   },
   "outputs": [],
   "source": [
    "validation_missing['Value_prediction_seq'] = predictions"
   ]
  },
  {
   "cell_type": "code",
   "execution_count": 90,
   "id": "d30b4915-96c1-4f02-a654-cd639a91e3fc",
   "metadata": {
    "tags": []
   },
   "outputs": [],
   "source": [
    "preds_vs_true = pd.merge(validation_missing, validation_complete)"
   ]
  },
  {
   "cell_type": "code",
   "execution_count": 91,
   "id": "4cdba3e4-31ca-45b0-acc9-3c17d77496a4",
   "metadata": {
    "tags": []
   },
   "outputs": [],
   "source": [
    "def find_nan_indices(lst):\n",
    "    \"\"\"\n",
    "    Returns a list of indices where the item in the list is NaN.\n",
    "    \n",
    "    :param lst: List to check for NaN values.\n",
    "    :return: List of indices with NaN values.\n",
    "    \"\"\"\n",
    "    return [i for i, x in enumerate(lst) if isinstance(x, float) and np.isnan(x)]\n",
    "\n",
    "# Now, apply the function to the 'Value_missing' column\n",
    "preds_vs_true['Missing_Indexes'] = preds_vs_true['Value_missing'].apply(find_nan_indices)"
   ]
  },
  {
   "cell_type": "code",
   "execution_count": 92,
   "id": "9d9962db-b7df-4ac9-bb30-4205cf44c0ef",
   "metadata": {
    "tags": []
   },
   "outputs": [],
   "source": [
    "RMSEs =[]\n",
    "missing_count = []\n",
    "predicted_values = []\n",
    "true_values = []\n",
    "\n",
    "for j in range(len(preds_vs_true)):\n",
    "    check_list = []\n",
    "    count = 0\n",
    "    pred_vals = []\n",
    "    true_val = []\n",
    "    for i in find_nan_indices(preds_vs_true['Value_missing'][j]):\n",
    "        check_list.append((preds_vs_true['Value_complete'][j][i] - preds_vs_true['Value_prediction_seq'][j][i])**2)\n",
    "        count += 1\n",
    "        pred_vals.append(preds_vs_true['Value_prediction_seq'][j][i])\n",
    "        true_val.append(preds_vs_true['Value_complete'][j][i])\n",
    "    \n",
    "    RMSEs.append(np.mean(check_list)**(1/2))\n",
    "    missing_count.append(count)\n",
    "    predicted_values.append(pred_vals)\n",
    "    true_values.append(true_val)"
   ]
  },
  {
   "cell_type": "code",
   "execution_count": 93,
   "id": "0646b8e8-293d-4375-b444-2125f736597f",
   "metadata": {
    "tags": []
   },
   "outputs": [],
   "source": [
    "preds_vs_true['Avg RMSE'] = RMSEs\n",
    "preds_vs_true['missing_count'] = missing_count\n",
    "preds_vs_true['Predicted_Values'] = predicted_values\n",
    "preds_vs_true['True_Values'] = true_values"
   ]
  },
  {
   "cell_type": "code",
   "execution_count": 94,
   "id": "8043726e-a793-4626-a0a3-4f055b15af35",
   "metadata": {
    "tags": []
   },
   "outputs": [],
   "source": [
    "preds_vs_true['offset_start'] = preds_vs_true['Missing_Indexes'].apply(np.array).apply(min)-1\n",
    "preds_vs_true['offset_value'] = preds_vs_true.apply(lambda row: row['Value_missing'][row['offset_start']], axis=1) - \\\n",
    "                                    preds_vs_true.apply(lambda row: row['Value_prediction_seq'][row['offset_start']], axis=1)\n",
    "\n"
   ]
  },
  {
   "cell_type": "code",
   "execution_count": 95,
   "id": "6d8338d6-58b9-47b1-9406-640c33d229e3",
   "metadata": {
    "tags": []
   },
   "outputs": [],
   "source": [
    "# Add the single float to each element of the lists\n",
    "preds_vs_true['Offset_Predicted_Values'] = preds_vs_true.apply(lambda row: [x + row['offset_value'] for x in row['Predicted_Values']], axis=1)"
   ]
  },
  {
   "cell_type": "code",
   "execution_count": 98,
   "id": "f8a8198c-4817-49f2-aa21-267cc8d550fa",
   "metadata": {
    "tags": []
   },
   "outputs": [],
   "source": [
    "# Display the DataFrame\n",
    "preds_vs_true['Offset_Sq_Error'] = preds_vs_true.apply(lambda row: [(a - b)**2 for a, b in zip(row['True_Values'], row['Offset_Predicted_Values'])], axis=1)"
   ]
  },
  {
   "cell_type": "code",
   "execution_count": 99,
   "id": "ff142d3f-0561-466d-9878-4fd08e001f02",
   "metadata": {
    "tags": []
   },
   "outputs": [],
   "source": [
    "preds_vs_true['Offset_RMSE']= preds_vs_true['Offset_Sq_Error'].apply(np.array).apply(np.mean).apply(math.sqrt)"
   ]
  },
  {
   "cell_type": "code",
   "execution_count": 100,
   "id": "b9bcc669-6634-4e52-adb7-c1edd6b866fc",
   "metadata": {
    "tags": []
   },
   "outputs": [],
   "source": [
    "# Display the DataFrame\n",
    "preds_vs_true['Offset_Sq_Error'] = preds_vs_true.apply(lambda row: [(a - b)**2 for a, b in zip(row['True_Values'], row['Offset_Predicted_Values'])], axis=1)"
   ]
  },
  {
   "cell_type": "code",
   "execution_count": 101,
   "id": "2dcb3212-6eb9-4fb7-9604-fb08441b75f5",
   "metadata": {
    "tags": []
   },
   "outputs": [
    {
     "data": {
      "text/plain": [
       "missing_count\n",
       "4      9.383418\n",
       "5     11.243786\n",
       "6     12.784631\n",
       "7     14.479215\n",
       "8     15.429136\n",
       "9     15.894391\n",
       "10    18.445902\n",
       "11    18.779671\n",
       "12    18.640696\n",
       "24    29.606646\n",
       "48    44.273449\n",
       "96    58.366612\n",
       "Name: Offset_RMSE, dtype: float64"
      ]
     },
     "execution_count": 101,
     "metadata": {},
     "output_type": "execute_result"
    }
   ],
   "source": [
    "preds_vs_true.groupby('missing_count')['Offset_RMSE'].mean()"
   ]
  },
  {
   "cell_type": "code",
   "execution_count": 102,
   "id": "da7d232d-28fe-4abc-be67-7fe15c32c397",
   "metadata": {
    "tags": []
   },
   "outputs": [
    {
     "data": {
      "text/plain": [
       "missing_count\n",
       "4     24.648984\n",
       "5     26.677280\n",
       "6     25.866117\n",
       "7     27.696496\n",
       "8     27.221079\n",
       "9     27.858056\n",
       "10    27.749505\n",
       "11    29.832824\n",
       "12    30.823165\n",
       "24    37.800255\n",
       "48    48.002296\n",
       "96    57.784217\n",
       "Name: Avg RMSE, dtype: float64"
      ]
     },
     "execution_count": 102,
     "metadata": {},
     "output_type": "execute_result"
    }
   ],
   "source": [
    "preds_vs_true.groupby('missing_count')['Avg RMSE'].mean()"
   ]
  },
  {
   "cell_type": "code",
   "execution_count": 103,
   "id": "b7c740ba-1f14-447b-a8a1-47ac87cd8c76",
   "metadata": {
    "tags": []
   },
   "outputs": [
    {
     "data": {
      "text/html": [
       "<div>\n",
       "<style scoped>\n",
       "    .dataframe tbody tr th:only-of-type {\n",
       "        vertical-align: middle;\n",
       "    }\n",
       "\n",
       "    .dataframe tbody tr th {\n",
       "        vertical-align: top;\n",
       "    }\n",
       "\n",
       "    .dataframe thead th {\n",
       "        text-align: right;\n",
       "    }\n",
       "</style>\n",
       "<table border=\"1\" class=\"dataframe\">\n",
       "  <thead>\n",
       "    <tr style=\"text-align: right;\">\n",
       "      <th></th>\n",
       "      <th>SID</th>\n",
       "      <th>Day</th>\n",
       "      <th>Value_missing</th>\n",
       "      <th>Value_prediction</th>\n",
       "      <th>Value_prediction_seq</th>\n",
       "      <th>Value_complete</th>\n",
       "      <th>Missing_Indexes</th>\n",
       "      <th>Avg RMSE</th>\n",
       "      <th>missing_count</th>\n",
       "      <th>Predicted_Values</th>\n",
       "      <th>True_Values</th>\n",
       "      <th>offset_start</th>\n",
       "      <th>offset_value</th>\n",
       "      <th>Offset_Predicted_Values</th>\n",
       "      <th>Offset_Sq_Error</th>\n",
       "      <th>Offset_RMSE</th>\n",
       "    </tr>\n",
       "  </thead>\n",
       "  <tbody>\n",
       "    <tr>\n",
       "      <th>0</th>\n",
       "      <td>CITY-1</td>\n",
       "      <td>2</td>\n",
       "      <td>[306.0, 301.0, 301.0, 301.0, 300.0, 306.0, 312...</td>\n",
       "      <td>[208.3378, 229.7558, 240.91525, 246.69421, 251...</td>\n",
       "      <td>[208.3378, 229.7558, 240.91525, 246.69421, 251...</td>\n",
       "      <td>[306.0, 301.0, 301.0, 301.0, 300.0, 306.0, 312...</td>\n",
       "      <td>[30, 31, 32, 33]</td>\n",
       "      <td>22.841109</td>\n",
       "      <td>4</td>\n",
       "      <td>[244.44739, 243.7713, 243.12221, 242.51166]</td>\n",
       "      <td>[268.0, 271.0, 255.0, 268.0]</td>\n",
       "      <td>29</td>\n",
       "      <td>20.892548</td>\n",
       "      <td>[265.3399353027344, 264.6638488769531, 264.014...</td>\n",
       "      <td>[7.075944193638861, 40.146811054088175, 81.265...</td>\n",
       "      <td>6.115756</td>\n",
       "    </tr>\n",
       "    <tr>\n",
       "      <th>1</th>\n",
       "      <td>CITY-1</td>\n",
       "      <td>11</td>\n",
       "      <td>[248.0, 251.0, 251.0, 254.0, 257.0, 262.0, 268...</td>\n",
       "      <td>[198.85614, 218.24315, 229.18866, 235.49316, 2...</td>\n",
       "      <td>[198.85614, 218.24315, 229.18866, 235.49316, 2...</td>\n",
       "      <td>[248.0, 251.0, 251.0, 254.0, 257.0, 262.0, 268...</td>\n",
       "      <td>[77, 78, 79, 80, 81, 82, 83, 84, 85, 86, 87, 8...</td>\n",
       "      <td>181.114921</td>\n",
       "      <td>96</td>\n",
       "      <td>[277.39728, 273.3065, 269.09702, 264.77448, 26...</td>\n",
       "      <td>[370.0, 371.0, 374.0, 376.0, 379.0, 380.0, 353...</td>\n",
       "      <td>76</td>\n",
       "      <td>85.618134</td>\n",
       "      <td>[363.0154113769531, 358.92462158203125, 354.71...</td>\n",
       "      <td>[48.78447823319584, 145.81476393714547, 371.90...</td>\n",
       "      <td>101.466179</td>\n",
       "    </tr>\n",
       "    <tr>\n",
       "      <th>2</th>\n",
       "      <td>CITY-1</td>\n",
       "      <td>207</td>\n",
       "      <td>[206.0, 204.0, 202.0, 202.0, 204.0, 208.0, 211...</td>\n",
       "      <td>[181.06387, 184.20038, 180.99013, 175.59688, 1...</td>\n",
       "      <td>[181.06387, 184.20038, 180.99013, 175.59688, 1...</td>\n",
       "      <td>[206.0, 204.0, 202.0, 202.0, 204.0, 208.0, 211...</td>\n",
       "      <td>[266, 267, 268, 269, 270, 271, 272]</td>\n",
       "      <td>25.126301</td>\n",
       "      <td>7</td>\n",
       "      <td>[157.27106, 156.35637, 155.47372, 154.60184, 1...</td>\n",
       "      <td>[185.0, 186.0, 184.0, 178.0, 175.0, 174.0, 175.0]</td>\n",
       "      <td>265</td>\n",
       "      <td>23.804962</td>\n",
       "      <td>[181.07601928710938, 180.1613311767578, 179.27...</td>\n",
       "      <td>[15.397624635137618, 34.09005362750031, 22.290...</td>\n",
       "      <td>3.536233</td>\n",
       "    </tr>\n",
       "    <tr>\n",
       "      <th>3</th>\n",
       "      <td>CITY-1</td>\n",
       "      <td>282</td>\n",
       "      <td>[266.0, 270.0, 265.0, 261.0, 258.0, 257.0, 253...</td>\n",
       "      <td>[217.15889, 240.95534, 251.59715, 256.25998, 2...</td>\n",
       "      <td>[217.15889, 240.95534, 251.59715, 256.25998, 2...</td>\n",
       "      <td>[266.0, 270.0, 265.0, 261.0, 258.0, 257.0, 253...</td>\n",
       "      <td>[108, 109, 110, 111, 112, 113, 114, 115, 116, ...</td>\n",
       "      <td>107.991762</td>\n",
       "      <td>48</td>\n",
       "      <td>[181.1888, 181.97937, 182.76845, 183.59001, 18...</td>\n",
       "      <td>[88.0, 86.0, 83.0, 81.0, 80.0, 82.0, 85.0, 87....</td>\n",
       "      <td>107</td>\n",
       "      <td>-89.377869</td>\n",
       "      <td>[91.81092834472656, 92.60150146484375, 93.3905...</td>\n",
       "      <td>[14.523174848640338, 43.57982159033418, 107.96...</td>\n",
       "      <td>19.865159</td>\n",
       "    </tr>\n",
       "    <tr>\n",
       "      <th>4</th>\n",
       "      <td>CITY-1</td>\n",
       "      <td>283</td>\n",
       "      <td>[234.0, 223.0, 214.0, 206.0, 195.0, 180.0, 167...</td>\n",
       "      <td>[181.03581, 183.86772, 179.55746, 173.00145, 1...</td>\n",
       "      <td>[181.03581, 183.86772, 179.55746, 173.00145, 1...</td>\n",
       "      <td>[234.0, 223.0, 214.0, 206.0, 195.0, 180.0, 167...</td>\n",
       "      <td>[108, 109, 110, 111, 112, 113, 114, 115, 116, ...</td>\n",
       "      <td>23.218683</td>\n",
       "      <td>24</td>\n",
       "      <td>[233.3754, 235.01768, 236.49466, 237.85791, 23...</td>\n",
       "      <td>[204.0, 203.0, 206.0, 206.0, 204.0, 205.0, 208...</td>\n",
       "      <td>107</td>\n",
       "      <td>-29.546280</td>\n",
       "      <td>[203.82911682128906, 205.47140502929688, 206.9...</td>\n",
       "      <td>[0.029201060766354203, 6.107842818833888, 0.89...</td>\n",
       "      <td>11.049530</td>\n",
       "    </tr>\n",
       "    <tr>\n",
       "      <th>...</th>\n",
       "      <td>...</td>\n",
       "      <td>...</td>\n",
       "      <td>...</td>\n",
       "      <td>...</td>\n",
       "      <td>...</td>\n",
       "      <td>...</td>\n",
       "      <td>...</td>\n",
       "      <td>...</td>\n",
       "      <td>...</td>\n",
       "      <td>...</td>\n",
       "      <td>...</td>\n",
       "      <td>...</td>\n",
       "      <td>...</td>\n",
       "      <td>...</td>\n",
       "      <td>...</td>\n",
       "      <td>...</td>\n",
       "    </tr>\n",
       "    <tr>\n",
       "      <th>10113</th>\n",
       "      <td>WISDM-98</td>\n",
       "      <td>174</td>\n",
       "      <td>[91.0, 92.0, 92.0, 93.0, 94.0, 95.0, 94.0, 94....</td>\n",
       "      <td>[140.2449, 125.1096, 113.63342, 104.69604, 100...</td>\n",
       "      <td>[140.2449, 125.1096, 113.63342, 104.69604, 100...</td>\n",
       "      <td>[91.0, 92.0, 92.0, 93.0, 94.0, 95.0, 94.0, 94....</td>\n",
       "      <td>[26, 27, 28, 29, 30, 31, 32, 33, 34]</td>\n",
       "      <td>18.202960</td>\n",
       "      <td>9</td>\n",
       "      <td>[102.973236, 103.08213, 103.14162, 103.18362, ...</td>\n",
       "      <td>[118.0, 120.0, 122.0, 123.0, 123.0, 123.0, 122...</td>\n",
       "      <td>25</td>\n",
       "      <td>11.163963</td>\n",
       "      <td>[114.13719940185547, 114.24609375, 114.3055801...</td>\n",
       "      <td>[14.921228461025748, 33.10743713378906, 59.204...</td>\n",
       "      <td>7.146749</td>\n",
       "    </tr>\n",
       "    <tr>\n",
       "      <th>10114</th>\n",
       "      <td>WISDM-98</td>\n",
       "      <td>183</td>\n",
       "      <td>[158.0, 163.0, 153.0, 122.0, 125.0, 126.0, 148...</td>\n",
       "      <td>[163.26683, 160.00116, 153.71292, 146.79503, 1...</td>\n",
       "      <td>[163.26683, 160.00116, 153.71292, 146.79503, 1...</td>\n",
       "      <td>[158.0, 163.0, 153.0, 122.0, 125.0, 126.0, 148...</td>\n",
       "      <td>[244, 245, 246, 247, 248, 249]</td>\n",
       "      <td>26.318861</td>\n",
       "      <td>6</td>\n",
       "      <td>[93.70651, 94.58452, 95.46723, 96.42583, 97.43...</td>\n",
       "      <td>[68.0, 58.0, 64.0, 69.0, 80.0, 88.0]</td>\n",
       "      <td>243</td>\n",
       "      <td>-21.892769</td>\n",
       "      <td>[71.8137435913086, 72.6917495727539, 73.574462...</td>\n",
       "      <td>[14.54464018024737, 215.8475055085146, 91.6703...</td>\n",
       "      <td>9.148256</td>\n",
       "    </tr>\n",
       "    <tr>\n",
       "      <th>10115</th>\n",
       "      <td>WISDM-98</td>\n",
       "      <td>185</td>\n",
       "      <td>[183.0, 193.0, 194.0, 192.0, 195.0, 195.0, 199...</td>\n",
       "      <td>[184.62463, 198.11377, 203.4904, 205.02841, 20...</td>\n",
       "      <td>[184.62463, 198.11377, 203.4904, 205.02841, 20...</td>\n",
       "      <td>[183.0, 193.0, 194.0, 192.0, 195.0, 195.0, 199...</td>\n",
       "      <td>[46, 47, 48, 49, 50, 51, 52, 53, 54, 55, 56, 5...</td>\n",
       "      <td>28.255266</td>\n",
       "      <td>48</td>\n",
       "      <td>[176.47752, 175.07689, 173.6993, 172.29819, 17...</td>\n",
       "      <td>[197.0, 197.0, 198.0, 199.0, 200.0, 200.0, 200...</td>\n",
       "      <td>45</td>\n",
       "      <td>20.142975</td>\n",
       "      <td>[196.62049865722656, 195.21986389160156, 193.8...</td>\n",
       "      <td>[0.1440212691668421, 3.1688845644239336, 17.28...</td>\n",
       "      <td>16.972120</td>\n",
       "    </tr>\n",
       "    <tr>\n",
       "      <th>10116</th>\n",
       "      <td>WISDM-98</td>\n",
       "      <td>190</td>\n",
       "      <td>[186.0, 211.0, 228.0, 232.0, 222.0, 199.0, 170...</td>\n",
       "      <td>[180.35709, 189.92491, 192.04488, 190.91643, 1...</td>\n",
       "      <td>[180.35709, 189.92491, 192.04488, 190.91643, 1...</td>\n",
       "      <td>[186.0, 211.0, 228.0, 232.0, 222.0, 199.0, 170...</td>\n",
       "      <td>[76, 77, 78, 79, 80, 81, 82, 83, 84, 85, 86, 8...</td>\n",
       "      <td>46.799786</td>\n",
       "      <td>48</td>\n",
       "      <td>[169.16911, 168.53607, 167.9199, 167.31079, 16...</td>\n",
       "      <td>[128.0, 109.0, 112.0, 101.0, 111.0, 104.0, 98....</td>\n",
       "      <td>75</td>\n",
       "      <td>-30.801300</td>\n",
       "      <td>[138.36781311035156, 137.73477172851562, 137.1...</td>\n",
       "      <td>[107.49154869117774, 825.6871062899008, 630.94...</td>\n",
       "      <td>51.900425</td>\n",
       "    </tr>\n",
       "    <tr>\n",
       "      <th>10117</th>\n",
       "      <td>WISDM-98</td>\n",
       "      <td>193</td>\n",
       "      <td>[170.0, 169.0, 168.0, 167.0, 166.0, 165.0, 164...</td>\n",
       "      <td>[166.8247, 165.19615, 159.50551, 152.90047, 14...</td>\n",
       "      <td>[166.8247, 165.19615, 159.50551, 152.90047, 14...</td>\n",
       "      <td>[170.0, 169.0, 168.0, 167.0, 166.0, 165.0, 164...</td>\n",
       "      <td>[244, 245, 246, 247, 248]</td>\n",
       "      <td>46.121477</td>\n",
       "      <td>5</td>\n",
       "      <td>[221.43591, 221.01506, 220.30275, 219.34831, 2...</td>\n",
       "      <td>[266.0, 263.0, 263.0, 267.0, 271.0]</td>\n",
       "      <td>243</td>\n",
       "      <td>40.404160</td>\n",
       "      <td>[261.84007263183594, 261.4192199707031, 260.70...</td>\n",
       "      <td>[17.304995708400384, 2.498865501023829, 5.2582...</td>\n",
       "      <td>6.820289</td>\n",
       "    </tr>\n",
       "  </tbody>\n",
       "</table>\n",
       "<p>10118 rows × 16 columns</p>\n",
       "</div>"
      ],
      "text/plain": [
       "            SID  Day                                      Value_missing  \\\n",
       "0        CITY-1    2  [306.0, 301.0, 301.0, 301.0, 300.0, 306.0, 312...   \n",
       "1        CITY-1   11  [248.0, 251.0, 251.0, 254.0, 257.0, 262.0, 268...   \n",
       "2        CITY-1  207  [206.0, 204.0, 202.0, 202.0, 204.0, 208.0, 211...   \n",
       "3        CITY-1  282  [266.0, 270.0, 265.0, 261.0, 258.0, 257.0, 253...   \n",
       "4        CITY-1  283  [234.0, 223.0, 214.0, 206.0, 195.0, 180.0, 167...   \n",
       "...         ...  ...                                                ...   \n",
       "10113  WISDM-98  174  [91.0, 92.0, 92.0, 93.0, 94.0, 95.0, 94.0, 94....   \n",
       "10114  WISDM-98  183  [158.0, 163.0, 153.0, 122.0, 125.0, 126.0, 148...   \n",
       "10115  WISDM-98  185  [183.0, 193.0, 194.0, 192.0, 195.0, 195.0, 199...   \n",
       "10116  WISDM-98  190  [186.0, 211.0, 228.0, 232.0, 222.0, 199.0, 170...   \n",
       "10117  WISDM-98  193  [170.0, 169.0, 168.0, 167.0, 166.0, 165.0, 164...   \n",
       "\n",
       "                                        Value_prediction  \\\n",
       "0      [208.3378, 229.7558, 240.91525, 246.69421, 251...   \n",
       "1      [198.85614, 218.24315, 229.18866, 235.49316, 2...   \n",
       "2      [181.06387, 184.20038, 180.99013, 175.59688, 1...   \n",
       "3      [217.15889, 240.95534, 251.59715, 256.25998, 2...   \n",
       "4      [181.03581, 183.86772, 179.55746, 173.00145, 1...   \n",
       "...                                                  ...   \n",
       "10113  [140.2449, 125.1096, 113.63342, 104.69604, 100...   \n",
       "10114  [163.26683, 160.00116, 153.71292, 146.79503, 1...   \n",
       "10115  [184.62463, 198.11377, 203.4904, 205.02841, 20...   \n",
       "10116  [180.35709, 189.92491, 192.04488, 190.91643, 1...   \n",
       "10117  [166.8247, 165.19615, 159.50551, 152.90047, 14...   \n",
       "\n",
       "                                    Value_prediction_seq  \\\n",
       "0      [208.3378, 229.7558, 240.91525, 246.69421, 251...   \n",
       "1      [198.85614, 218.24315, 229.18866, 235.49316, 2...   \n",
       "2      [181.06387, 184.20038, 180.99013, 175.59688, 1...   \n",
       "3      [217.15889, 240.95534, 251.59715, 256.25998, 2...   \n",
       "4      [181.03581, 183.86772, 179.55746, 173.00145, 1...   \n",
       "...                                                  ...   \n",
       "10113  [140.2449, 125.1096, 113.63342, 104.69604, 100...   \n",
       "10114  [163.26683, 160.00116, 153.71292, 146.79503, 1...   \n",
       "10115  [184.62463, 198.11377, 203.4904, 205.02841, 20...   \n",
       "10116  [180.35709, 189.92491, 192.04488, 190.91643, 1...   \n",
       "10117  [166.8247, 165.19615, 159.50551, 152.90047, 14...   \n",
       "\n",
       "                                          Value_complete  \\\n",
       "0      [306.0, 301.0, 301.0, 301.0, 300.0, 306.0, 312...   \n",
       "1      [248.0, 251.0, 251.0, 254.0, 257.0, 262.0, 268...   \n",
       "2      [206.0, 204.0, 202.0, 202.0, 204.0, 208.0, 211...   \n",
       "3      [266.0, 270.0, 265.0, 261.0, 258.0, 257.0, 253...   \n",
       "4      [234.0, 223.0, 214.0, 206.0, 195.0, 180.0, 167...   \n",
       "...                                                  ...   \n",
       "10113  [91.0, 92.0, 92.0, 93.0, 94.0, 95.0, 94.0, 94....   \n",
       "10114  [158.0, 163.0, 153.0, 122.0, 125.0, 126.0, 148...   \n",
       "10115  [183.0, 193.0, 194.0, 192.0, 195.0, 195.0, 199...   \n",
       "10116  [186.0, 211.0, 228.0, 232.0, 222.0, 199.0, 170...   \n",
       "10117  [170.0, 169.0, 168.0, 167.0, 166.0, 165.0, 164...   \n",
       "\n",
       "                                         Missing_Indexes    Avg RMSE  \\\n",
       "0                                       [30, 31, 32, 33]   22.841109   \n",
       "1      [77, 78, 79, 80, 81, 82, 83, 84, 85, 86, 87, 8...  181.114921   \n",
       "2                    [266, 267, 268, 269, 270, 271, 272]   25.126301   \n",
       "3      [108, 109, 110, 111, 112, 113, 114, 115, 116, ...  107.991762   \n",
       "4      [108, 109, 110, 111, 112, 113, 114, 115, 116, ...   23.218683   \n",
       "...                                                  ...         ...   \n",
       "10113               [26, 27, 28, 29, 30, 31, 32, 33, 34]   18.202960   \n",
       "10114                     [244, 245, 246, 247, 248, 249]   26.318861   \n",
       "10115  [46, 47, 48, 49, 50, 51, 52, 53, 54, 55, 56, 5...   28.255266   \n",
       "10116  [76, 77, 78, 79, 80, 81, 82, 83, 84, 85, 86, 8...   46.799786   \n",
       "10117                          [244, 245, 246, 247, 248]   46.121477   \n",
       "\n",
       "       missing_count                                   Predicted_Values  \\\n",
       "0                  4        [244.44739, 243.7713, 243.12221, 242.51166]   \n",
       "1                 96  [277.39728, 273.3065, 269.09702, 264.77448, 26...   \n",
       "2                  7  [157.27106, 156.35637, 155.47372, 154.60184, 1...   \n",
       "3                 48  [181.1888, 181.97937, 182.76845, 183.59001, 18...   \n",
       "4                 24  [233.3754, 235.01768, 236.49466, 237.85791, 23...   \n",
       "...              ...                                                ...   \n",
       "10113              9  [102.973236, 103.08213, 103.14162, 103.18362, ...   \n",
       "10114              6  [93.70651, 94.58452, 95.46723, 96.42583, 97.43...   \n",
       "10115             48  [176.47752, 175.07689, 173.6993, 172.29819, 17...   \n",
       "10116             48  [169.16911, 168.53607, 167.9199, 167.31079, 16...   \n",
       "10117              5  [221.43591, 221.01506, 220.30275, 219.34831, 2...   \n",
       "\n",
       "                                             True_Values  offset_start  \\\n",
       "0                           [268.0, 271.0, 255.0, 268.0]            29   \n",
       "1      [370.0, 371.0, 374.0, 376.0, 379.0, 380.0, 353...            76   \n",
       "2      [185.0, 186.0, 184.0, 178.0, 175.0, 174.0, 175.0]           265   \n",
       "3      [88.0, 86.0, 83.0, 81.0, 80.0, 82.0, 85.0, 87....           107   \n",
       "4      [204.0, 203.0, 206.0, 206.0, 204.0, 205.0, 208...           107   \n",
       "...                                                  ...           ...   \n",
       "10113  [118.0, 120.0, 122.0, 123.0, 123.0, 123.0, 122...            25   \n",
       "10114               [68.0, 58.0, 64.0, 69.0, 80.0, 88.0]           243   \n",
       "10115  [197.0, 197.0, 198.0, 199.0, 200.0, 200.0, 200...            45   \n",
       "10116  [128.0, 109.0, 112.0, 101.0, 111.0, 104.0, 98....            75   \n",
       "10117                [266.0, 263.0, 263.0, 267.0, 271.0]           243   \n",
       "\n",
       "       offset_value                            Offset_Predicted_Values  \\\n",
       "0         20.892548  [265.3399353027344, 264.6638488769531, 264.014...   \n",
       "1         85.618134  [363.0154113769531, 358.92462158203125, 354.71...   \n",
       "2         23.804962  [181.07601928710938, 180.1613311767578, 179.27...   \n",
       "3        -89.377869  [91.81092834472656, 92.60150146484375, 93.3905...   \n",
       "4        -29.546280  [203.82911682128906, 205.47140502929688, 206.9...   \n",
       "...             ...                                                ...   \n",
       "10113     11.163963  [114.13719940185547, 114.24609375, 114.3055801...   \n",
       "10114    -21.892769  [71.8137435913086, 72.6917495727539, 73.574462...   \n",
       "10115     20.142975  [196.62049865722656, 195.21986389160156, 193.8...   \n",
       "10116    -30.801300  [138.36781311035156, 137.73477172851562, 137.1...   \n",
       "10117     40.404160  [261.84007263183594, 261.4192199707031, 260.70...   \n",
       "\n",
       "                                         Offset_Sq_Error  Offset_RMSE  \n",
       "0      [7.075944193638861, 40.146811054088175, 81.265...     6.115756  \n",
       "1      [48.78447823319584, 145.81476393714547, 371.90...   101.466179  \n",
       "2      [15.397624635137618, 34.09005362750031, 22.290...     3.536233  \n",
       "3      [14.523174848640338, 43.57982159033418, 107.96...    19.865159  \n",
       "4      [0.029201060766354203, 6.107842818833888, 0.89...    11.049530  \n",
       "...                                                  ...          ...  \n",
       "10113  [14.921228461025748, 33.10743713378906, 59.204...     7.146749  \n",
       "10114  [14.54464018024737, 215.8475055085146, 91.6703...     9.148256  \n",
       "10115  [0.1440212691668421, 3.1688845644239336, 17.28...    16.972120  \n",
       "10116  [107.49154869117774, 825.6871062899008, 630.94...    51.900425  \n",
       "10117  [17.304995708400384, 2.498865501023829, 5.2582...     6.820289  \n",
       "\n",
       "[10118 rows x 16 columns]"
      ]
     },
     "execution_count": 103,
     "metadata": {},
     "output_type": "execute_result"
    }
   ],
   "source": [
    "preds_vs_true"
   ]
  },
  {
   "cell_type": "code",
   "execution_count": null,
   "id": "8f1e7231-d760-4937-859f-f3e7cf4d5d43",
   "metadata": {},
   "outputs": [],
   "source": []
  },
  {
   "cell_type": "code",
   "execution_count": 105,
   "id": "bdf7a2ea-8e8e-4db2-b6b6-a79cce694b2f",
   "metadata": {
    "tags": []
   },
   "outputs": [
    {
     "data": {
      "image/png": "[encoded data removed]",
      "text/plain": [
       "<Figure size 1000x600 with 1 Axes>"
      ]
     },
     "metadata": {},
     "output_type": "display_data"
    }
   ],
   "source": [
    "val_point = 0\n",
    "\n",
    "compare_dataframe = pd.DataFrame({'True Value':preds_vs_true['Value_complete'][val_point].copy(), 'Predicted Value':preds_vs_true['Value_prediction'][val_point].copy()})\n",
    "\n",
    "import matplotlib.pyplot as plt\n",
    "\n",
    "plt.figure(figsize=(10, 6))\n",
    "plt.plot(compare_dataframe.index, compare_dataframe['Predicted Value'], label='Predicted Value')\n",
    "plt.plot(compare_dataframe.index, compare_dataframe['True Value'], label='True Value')\n",
    "\n",
    "plt.axvline(x=np.array(preds_vs_true['Missing_Indexes'][val_point]).min(), color='red', alpha=0.5)\n",
    "plt.axvline(x=np.array(preds_vs_true['Missing_Indexes'][val_point]).max(), color='red', alpha=0.5)\n",
    "\n",
    "plt.title('Predicted vs True Values')\n",
    "plt.xlabel('Index')\n",
    "plt.ylabel('Value')\n",
    "plt.legend()\n",
    "plt.grid(True)\n",
    "plt.show()"
   ]
  },
  {
   "cell_type": "code",
   "execution_count": 106,
   "id": "5ae28e55-ff09-4725-85f4-82408416a5fe",
   "metadata": {
    "tags": []
   },
   "outputs": [],
   "source": [
    "preds_vs_true.to_csv('Seq2Seq_LSTM_100nodes.csv', index = False)"
   ]
  }
 ],
 "metadata": {
  "kernelspec": {
   "display_name": "Python 3 (ipykernel)",
   "language": "python",
   "name": "python3"
  },
  "language_info": {
   "codemirror_mode": {
    "name": "ipython",
    "version": 3
   },
   "file_extension": ".py",
   "mimetype": "text/x-python",
   "name": "python",
   "nbconvert_exporter": "python",
   "pygments_lexer": "ipython3",
   "version": "3.10.8"
  }
 },
 "nbformat": 4,
 "nbformat_minor": 5
}
