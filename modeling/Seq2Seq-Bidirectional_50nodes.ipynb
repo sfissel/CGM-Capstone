{
 "cells": [
  {
   "cell_type": "code",
   "execution_count": 7,
   "id": "c5a0ce89-123b-4803-b59b-83ae1262d404",
   "metadata": {
    "tags": []
   },
   "outputs": [],
   "source": [
    "import numpy as np\n",
    "from tensorflow.keras.models import Sequential\n",
    "from tensorflow.keras.layers import LSTM, Dense, RepeatVector, TimeDistributed, BatchNormalization, Dropout, Bidirectional\n",
    "from sklearn.preprocessing import MinMaxScaler, StandardScaler\n",
    "import pandas as pd\n",
    "from keras import optimizers\n",
    "import math"
   ]
  },
  {
   "cell_type": "code",
   "execution_count": 2,
   "id": "dd4604a1-d0ef-4b70-94e7-1be62f5eef98",
   "metadata": {
    "tags": []
   },
   "outputs": [],
   "source": [
    "df = pd.read_csv('./Glucose_Train_Set.csv')\n",
    "\n",
    "val_df = pd.read_csv('./Glucose_Validation_Set_Complete.csv')[['SID','Day','DailyTI_Index','Value']]\n",
    "val_missing = pd.read_csv('./Glucose_Validation_Set.csv')[['SID','Day','DailyTI_Index','Value']]"
   ]
  },
  {
   "cell_type": "code",
   "execution_count": 3,
   "id": "80aa76cd-a23d-405e-a7b1-03e3886a927a",
   "metadata": {
    "tags": []
   },
   "outputs": [],
   "source": [
    "missing_data = pd.merge(val_df, val_missing, on = ['SID','Day','DailyTI_Index'], how = 'left')\n",
    "missing_data.columns = ['SID','Day','DailyTI_Index','Value_complete', 'Value_missing']"
   ]
  },
  {
   "cell_type": "code",
   "execution_count": 4,
   "id": "3d918b12-048b-4c4b-b179-617bbaff0091",
   "metadata": {
    "tags": []
   },
   "outputs": [],
   "source": [
    "train_data = df.sort_values(by=['DailyTI_Index']).groupby(['SID', 'Day'])['Value'].apply(list).reset_index()\n",
    "validation_missing = missing_data.sort_values(by=['DailyTI_Index']).groupby(['SID', 'Day'])['Value_missing'].apply(list).reset_index()\n",
    "validation_complete = missing_data.sort_values(by=['DailyTI_Index']).groupby(['SID', 'Day'])['Value_complete'].apply(list).reset_index()\n"
   ]
  },
  {
   "cell_type": "code",
   "execution_count": 5,
   "id": "850902c8-5702-47e2-a62c-20e05d8cadf0",
   "metadata": {
    "tags": []
   },
   "outputs": [],
   "source": [
    "y_val = np.array(validation_missing['Value_missing'].to_list())"
   ]
  },
  {
   "cell_type": "code",
   "execution_count": 6,
   "id": "6fdf0298-10b4-4b68-9f16-e7fca6649c62",
   "metadata": {
    "tags": []
   },
   "outputs": [],
   "source": [
    "X_train = np.array(train_data['Value'].to_list())"
   ]
  },
  {
   "cell_type": "code",
   "execution_count": 10,
   "id": "66694cfd-1cfe-47e1-ad73-0382cb13d399",
   "metadata": {
    "tags": []
   },
   "outputs": [
    {
     "name": "stdout",
     "output_type": "stream",
     "text": [
      "Epoch 1/20\n",
      "1107/1107 [==============================] - 494s 445ms/step - loss: 0.7087\n",
      "Epoch 2/20\n",
      "1107/1107 [==============================] - 454s 411ms/step - loss: 0.5442\n",
      "Epoch 3/20\n",
      "1107/1107 [==============================] - 449s 406ms/step - loss: 0.4797\n",
      "Epoch 4/20\n",
      "1107/1107 [==============================] - 832s 752ms/step - loss: 0.4170\n",
      "Epoch 5/20\n",
      "1107/1107 [==============================] - 425s 384ms/step - loss: 0.3761\n",
      "Epoch 6/20\n",
      "1107/1107 [==============================] - 1410s 1s/step - loss: 0.3477\n",
      "Epoch 7/20\n",
      "1107/1107 [==============================] - 503s 454ms/step - loss: 0.3180\n",
      "Epoch 8/20\n",
      "1107/1107 [==============================] - 470s 425ms/step - loss: 0.2746\n",
      "Epoch 9/20\n",
      "1107/1107 [==============================] - 478s 432ms/step - loss: 0.2362\n",
      "Epoch 10/20\n",
      "1107/1107 [==============================] - 480s 434ms/step - loss: 0.2175\n",
      "Epoch 11/20\n",
      "1107/1107 [==============================] - 494s 447ms/step - loss: 0.2018\n",
      "Epoch 12/20\n",
      "1107/1107 [==============================] - 531s 479ms/step - loss: 0.1912\n",
      "Epoch 13/20\n",
      "1107/1107 [==============================] - 529s 478ms/step - loss: 0.1844\n",
      "Epoch 14/20\n",
      "1107/1107 [==============================] - 530s 478ms/step - loss: 0.1787\n",
      "Epoch 15/20\n",
      "1107/1107 [==============================] - 1530s 1s/step - loss: 0.1743\n",
      "Epoch 16/20\n",
      "1107/1107 [==============================] - 1853s 2s/step - loss: 0.1690\n",
      "Epoch 17/20\n",
      "1107/1107 [==============================] - 2133s 2s/step - loss: 0.1639\n",
      "Epoch 18/20\n",
      "1107/1107 [==============================] - 1633s 1s/step - loss: 0.1585\n",
      "Epoch 19/20\n",
      "1107/1107 [==============================] - 3091s 3s/step - loss: 0.1525\n",
      "Epoch 20/20\n",
      "1107/1107 [==============================] - 445s 402ms/step - loss: 0.1486\n"
     ]
    },
    {
     "data": {
      "text/plain": [
       "<keras.callbacks.History at 0x4d8065cc0>"
      ]
     },
     "execution_count": 10,
     "metadata": {},
     "output_type": "execute_result"
    }
   ],
   "source": [
    "# Normalize the data\n",
    "# Standardize the data\n",
    "scaler = StandardScaler()\n",
    "X_train_scaled = scaler.fit_transform(X_train)\n",
    "\n",
    "# Reshaping X_train for the LSTM model, LSTM expects input to be in [samples, time steps, features]\n",
    "X_train_reshaped = X_train_scaled.reshape((X_train_scaled.shape[0], X_train_scaled.shape[1], 1))\n",
    "\n",
    "# Define a Seq2Seq LSTM model best was 50 and 50\n",
    "model = Sequential([\n",
    "    Bidirectional(LSTM(50, activation='sigmoid', input_shape=(288, 1), return_sequences=False)), # set to false for seq2seq\n",
    "    RepeatVector(288),  # Determines the length of the output sequence\n",
    "    Bidirectional(LSTM(50, activation='sigmoid', return_sequences=True)),\n",
    "    TimeDistributed(Dense(1))\n",
    "])\n",
    "\n",
    "optimizer = optimizers.Adam(learning_rate = 0.001, clipvalue=0.5) # for seq2seq clipvalue=0.5\n",
    "model.compile(optimizer=optimizer, loss='mse')\n",
    "\n",
    "# Train the model\n",
    "model.fit(X_train_reshaped, X_train_reshaped, epochs=20, batch_size=64, verbose=1)"
   ]
  },
  {
   "cell_type": "code",
   "execution_count": 11,
   "id": "e63af1bd-56d1-489c-be60-cdf31ff230c1",
   "metadata": {
    "tags": []
   },
   "outputs": [
    {
     "name": "stdout",
     "output_type": "stream",
     "text": [
      "Model: \"sequential_2\"\n",
      "_________________________________________________________________\n",
      " Layer (type)                Output Shape              Param #   \n",
      "=================================================================\n",
      " bidirectional_3 (Bidirectio  (None, 100)              20800     \n",
      " nal)                                                            \n",
      "                                                                 \n",
      " repeat_vector_1 (RepeatVect  (None, 288, 100)         0         \n",
      " or)                                                             \n",
      "                                                                 \n",
      " bidirectional_4 (Bidirectio  (None, 288, 100)         60400     \n",
      " nal)                                                            \n",
      "                                                                 \n",
      " time_distributed_2 (TimeDis  (None, 288, 1)           101       \n",
      " tributed)                                                       \n",
      "                                                                 \n",
      "=================================================================\n",
      "Total params: 81,301\n",
      "Trainable params: 81,301\n",
      "Non-trainable params: 0\n",
      "_________________________________________________________________\n"
     ]
    }
   ],
   "source": [
    "model.summary()"
   ]
  },
  {
   "cell_type": "code",
   "execution_count": 12,
   "id": "d957ec99-0849-415e-a980-a86661fb9e87",
   "metadata": {
    "tags": []
   },
   "outputs": [
    {
     "name": "stdout",
     "output_type": "stream",
     "text": [
      "317/317 [==============================] - 16s 49ms/step\n"
     ]
    }
   ],
   "source": [
    "# Prepare the test sequence\n",
    "test_sequences = y_val\n",
    "# Handle NaNs for normalization (simple imputation, consider a better method for your use case)\n",
    "test_sequences_imputed = np.array([np.where(np.isnan(seq), np.nanmean(seq), seq) for seq in test_sequences])\n",
    "\n",
    "# Standardize the test sequences\n",
    "test_sequences_scaled = scaler.transform(test_sequences_imputed)\n",
    "\n",
    "# Reshape for the model\n",
    "test_sequences_scaled_reshaped = test_sequences_scaled.reshape((test_sequences_scaled.shape[0], 288, 1))\n",
    "\n",
    "# Predicting the sequences\n",
    "predicted_sequences_scaled = model.predict(test_sequences_scaled_reshaped)\n",
    "\n",
    "# Inverse transform to original scale\n",
    "predicted_sequences = scaler.inverse_transform(predicted_sequences_scaled.reshape(test_sequences_scaled.shape[0], 288))\n"
   ]
  },
  {
   "cell_type": "code",
   "execution_count": 13,
   "id": "ba5484b5-891b-4aea-8519-1bbde5f357a6",
   "metadata": {
    "tags": []
   },
   "outputs": [],
   "source": [
    "predictions = []\n",
    "\n",
    "# Iterate through each row in the array and append it as a list to data_for_df\n",
    "for row in predicted_sequences:\n",
    "    predictions.append(row)  # Each row becomes a list that is then wrapped in another list to represent a single cell in the DataFrame\n"
   ]
  },
  {
   "cell_type": "code",
   "execution_count": 94,
   "id": "2a3fcd9b-91b5-442d-84b2-9c1a61f2d877",
   "metadata": {
    "tags": []
   },
   "outputs": [],
   "source": [
    "validation_missing['Value_prediction_seq'] = predictions"
   ]
  },
  {
   "cell_type": "code",
   "execution_count": 95,
   "id": "d30b4915-96c1-4f02-a654-cd639a91e3fc",
   "metadata": {
    "tags": []
   },
   "outputs": [],
   "source": [
    "preds_vs_true = pd.merge(validation_missing, validation_complete)"
   ]
  },
  {
   "cell_type": "code",
   "execution_count": 99,
   "id": "adc57fb8-d0bf-4b3d-a11d-c2c5153098f0",
   "metadata": {
    "tags": []
   },
   "outputs": [],
   "source": [
    "def find_nan_indices(lst):\n",
    "    \"\"\"\n",
    "    Returns a list of indices where the item in the list is NaN.\n",
    "    \n",
    "    :param lst: List to check for NaN values.\n",
    "    :return: List of indices with NaN values.\n",
    "    \"\"\"\n",
    "    return [i for i, x in enumerate(lst) if isinstance(x, float) and np.isnan(x)]\n",
    "\n",
    "# Now, apply the function to the 'Value_missing' column\n",
    "preds_vs_true['Missing_Indexes'] = preds_vs_true['Value_missing'].apply(find_nan_indices)"
   ]
  },
  {
   "cell_type": "code",
   "execution_count": 108,
   "id": "91688988-5f62-4c65-a008-1c8248ff651e",
   "metadata": {
    "tags": []
   },
   "outputs": [],
   "source": [
    "RMSEs =[]\n",
    "missing_count = []\n",
    "predicted_values = []\n",
    "true_values = []\n",
    "\n",
    "for j in range(len(preds_vs_true)):\n",
    "    check_list = []\n",
    "    count = 0\n",
    "    pred_vals = []\n",
    "    true_val = []\n",
    "    for i in find_nan_indices(preds_vs_true['Value_missing'][j]):\n",
    "        check_list.append((preds_vs_true['Value_complete'][j][i] - preds_vs_true['Value_prediction_seq'][j][i])**2)\n",
    "        count += 1\n",
    "        pred_vals.append(preds_vs_true['Value_prediction_seq'][j][i])\n",
    "        true_val.append(preds_vs_true['Value_complete'][j][i])\n",
    "    \n",
    "    RMSEs.append(np.mean(check_list)**(1/2))\n",
    "    missing_count.append(count)\n",
    "    predicted_values.append(pred_vals)\n",
    "    true_values.append(true_val)"
   ]
  },
  {
   "cell_type": "code",
   "execution_count": 109,
   "id": "0646b8e8-293d-4375-b444-2125f736597f",
   "metadata": {
    "tags": []
   },
   "outputs": [],
   "source": [
    "preds_vs_true['Avg RMSE'] = RMSEs\n",
    "preds_vs_true['missing_count'] = missing_count\n",
    "preds_vs_true['Predicted_Values'] = predicted_values\n",
    "preds_vs_true['True_Values'] = true_values"
   ]
  },
  {
   "cell_type": "code",
   "execution_count": 110,
   "id": "ff4e0852-9924-459a-85ef-9ded5e86394e",
   "metadata": {
    "tags": []
   },
   "outputs": [],
   "source": [
    "preds_vs_true['offset_start'] = preds_vs_true['Missing_Indexes'].apply(np.array).apply(min)-1\n",
    "preds_vs_true['offset_value'] = preds_vs_true.apply(lambda row: row['Value_missing'][row['offset_start']], axis=1) - \\\n",
    "                                    preds_vs_true.apply(lambda row: row['Value_prediction_seq'][row['offset_start']], axis=1)\n",
    "\n"
   ]
  },
  {
   "cell_type": "code",
   "execution_count": 113,
   "id": "17ddd9c3-5431-4772-b660-31aaa06be269",
   "metadata": {
    "tags": []
   },
   "outputs": [],
   "source": [
    "# Add the single float to each element of the lists\n",
    "preds_vs_true['Offset_Predicted_Values'] = preds_vs_true.apply(lambda row: [x + row['offset_value'] for x in row['Predicted_Values']], axis=1)"
   ]
  },
  {
   "cell_type": "code",
   "execution_count": 120,
   "id": "027dd396-7774-45eb-9d57-0afc28d33c4b",
   "metadata": {
    "tags": []
   },
   "outputs": [],
   "source": [
    "# Display the DataFrame\n",
    "preds_vs_true['Offset_Sq_Error'] = preds_vs_true.apply(lambda row: [(a - b)**2 for a, b in zip(row['True_Values'], row['Offset_Predicted_Values'])], axis=1)"
   ]
  },
  {
   "cell_type": "code",
   "execution_count": 128,
   "id": "16880b44-c9e1-4ad7-8356-473f65558fcd",
   "metadata": {
    "tags": []
   },
   "outputs": [],
   "source": [
    "preds_vs_true['Offset_RMSE']= preds_vs_true['Offset_Sq_Error'].apply(np.array).apply(np.mean).apply(math.sqrt)"
   ]
  },
  {
   "cell_type": "code",
   "execution_count": 130,
   "id": "638362c9-aa16-4f5d-a6b8-0ef80cd56c79",
   "metadata": {
    "tags": []
   },
   "outputs": [
    {
     "data": {
      "text/plain": [
       "missing_count\n",
       "4      9.032488\n",
       "5     10.797466\n",
       "6     12.394360\n",
       "7     13.927263\n",
       "8     14.743390\n",
       "9     14.940102\n",
       "10    17.446390\n",
       "11    18.023127\n",
       "12    19.418940\n",
       "24    28.677503\n",
       "48    42.592675\n",
       "96    57.884190\n",
       "Name: Offset_RMSE, dtype: float64"
      ]
     },
     "execution_count": 130,
     "metadata": {},
     "output_type": "execute_result"
    }
   ],
   "source": [
    "preds_vs_true.groupby('missing_count')['Offset_RMSE'].mean()"
   ]
  },
  {
   "cell_type": "code",
   "execution_count": 36,
   "id": "6d8338d6-58b9-47b1-9406-640c33d229e3",
   "metadata": {
    "tags": []
   },
   "outputs": [
    {
     "data": {
      "text/plain": [
       "missing_count\n",
       "4     22.446452\n",
       "5     24.017871\n",
       "6     24.960449\n",
       "7     25.680269\n",
       "8     25.371429\n",
       "9     26.290859\n",
       "10    27.493724\n",
       "11    28.130844\n",
       "12    28.932305\n",
       "24    37.512862\n",
       "48    47.692698\n",
       "96    57.624807\n",
       "Name: Avg RMSE, dtype: float64"
      ]
     },
     "execution_count": 36,
     "metadata": {},
     "output_type": "execute_result"
    }
   ],
   "source": [
    "preds_vs_true.groupby('missing_count')['Avg RMSE'].mean()"
   ]
  },
  {
   "cell_type": "code",
   "execution_count": 154,
   "id": "f9434dd3-166d-421c-b020-681a31241daa",
   "metadata": {
    "tags": []
   },
   "outputs": [
    {
     "data": {
      "text/html": [
       "<div>\n",
       "<style scoped>\n",
       "    .dataframe tbody tr th:only-of-type {\n",
       "        vertical-align: middle;\n",
       "    }\n",
       "\n",
       "    .dataframe tbody tr th {\n",
       "        vertical-align: top;\n",
       "    }\n",
       "\n",
       "    .dataframe thead th {\n",
       "        text-align: right;\n",
       "    }\n",
       "</style>\n",
       "<table border=\"1\" class=\"dataframe\">\n",
       "  <thead>\n",
       "    <tr style=\"text-align: right;\">\n",
       "      <th></th>\n",
       "      <th>SID</th>\n",
       "      <th>Day</th>\n",
       "      <th>Value_missing</th>\n",
       "      <th>Value_prediction</th>\n",
       "      <th>Value_prediction_seq</th>\n",
       "      <th>Value_complete</th>\n",
       "      <th>Missing_Indexes</th>\n",
       "      <th>Avg RMSE</th>\n",
       "      <th>missing_count</th>\n",
       "      <th>Predicted_Values</th>\n",
       "      <th>offset_start</th>\n",
       "      <th>offset_value</th>\n",
       "      <th>Offset_Predicted_Values</th>\n",
       "      <th>True_Values</th>\n",
       "      <th>Offset_Sq_Error</th>\n",
       "      <th>Offset_RMSE</th>\n",
       "    </tr>\n",
       "  </thead>\n",
       "  <tbody>\n",
       "    <tr>\n",
       "      <th>0</th>\n",
       "      <td>CITY-1</td>\n",
       "      <td>2</td>\n",
       "      <td>[306.0, 301.0, 301.0, 301.0, 300.0, 306.0, 312...</td>\n",
       "      <td>[288.2032, 300.55865, 308.7281, 314.70218, 318...</td>\n",
       "      <td>[288.2032, 300.55865, 308.7281, 314.70218, 318...</td>\n",
       "      <td>[306.0, 301.0, 301.0, 301.0, 300.0, 306.0, 312...</td>\n",
       "      <td>[30, 31, 32, 33]</td>\n",
       "      <td>6.548246</td>\n",
       "      <td>4</td>\n",
       "      <td>[266.5671, 264.07492, 261.60632, 259.1759]</td>\n",
       "      <td>29</td>\n",
       "      <td>-3.029236</td>\n",
       "      <td>[263.5378723144531, 261.0456848144531, 258.577...</td>\n",
       "      <td>[268.0, 271.0, 255.0, 268.0]</td>\n",
       "      <td>[19.91058348212391, 99.08839081320912, 12.7955...</td>\n",
       "      <td>8.250697</td>\n",
       "    </tr>\n",
       "    <tr>\n",
       "      <th>1</th>\n",
       "      <td>CITY-1</td>\n",
       "      <td>11</td>\n",
       "      <td>[248.0, 251.0, 251.0, 254.0, 257.0, 262.0, 268...</td>\n",
       "      <td>[251.57312, 252.9743, 252.78651, 253.11372, 25...</td>\n",
       "      <td>[251.57312, 252.9743, 252.78651, 253.11372, 25...</td>\n",
       "      <td>[248.0, 251.0, 251.0, 254.0, 257.0, 262.0, 268...</td>\n",
       "      <td>[77, 78, 79, 80, 81, 82, 83, 84, 85, 86, 87, 8...</td>\n",
       "      <td>177.575653</td>\n",
       "      <td>96</td>\n",
       "      <td>[284.52856, 280.2009, 275.7097, 271.06567, 266...</td>\n",
       "      <td>76</td>\n",
       "      <td>78.297913</td>\n",
       "      <td>[362.82647705078125, 358.4988098144531, 354.00...</td>\n",
       "      <td>[370.0, 371.0, 374.0, 376.0, 379.0, 380.0, 353...</td>\n",
       "      <td>[51.45943150296807, 156.2797560552135, 399.696...</td>\n",
       "      <td>105.652913</td>\n",
       "    </tr>\n",
       "    <tr>\n",
       "      <th>2</th>\n",
       "      <td>CITY-1</td>\n",
       "      <td>207</td>\n",
       "      <td>[206.0, 204.0, 202.0, 202.0, 204.0, 208.0, 211...</td>\n",
       "      <td>[194.76012, 206.34258, 212.96732, 217.12534, 2...</td>\n",
       "      <td>[194.76012, 206.34258, 212.96732, 217.12534, 2...</td>\n",
       "      <td>[206.0, 204.0, 202.0, 202.0, 204.0, 208.0, 211...</td>\n",
       "      <td>[266, 267, 268, 269, 270, 271, 272]</td>\n",
       "      <td>37.216855</td>\n",
       "      <td>7</td>\n",
       "      <td>[143.8032, 143.24698, 142.78838, 142.4038, 142...</td>\n",
       "      <td>265</td>\n",
       "      <td>37.562134</td>\n",
       "      <td>[181.36534118652344, 180.80911254882812, 180.3...</td>\n",
       "      <td>[185.0, 186.0, 184.0, 178.0, 175.0, 174.0, 175.0]</td>\n",
       "      <td>[13.210744690382853, 26.945312530733645, 13.31...</td>\n",
       "      <td>4.299827</td>\n",
       "    </tr>\n",
       "    <tr>\n",
       "      <th>3</th>\n",
       "      <td>CITY-1</td>\n",
       "      <td>282</td>\n",
       "      <td>[266.0, 270.0, 265.0, 261.0, 258.0, 257.0, 253...</td>\n",
       "      <td>[239.39206, 254.29585, 262.61258, 268.08087, 2...</td>\n",
       "      <td>[239.39206, 254.29585, 262.61258, 268.08087, 2...</td>\n",
       "      <td>[266.0, 270.0, 265.0, 261.0, 258.0, 257.0, 253...</td>\n",
       "      <td>[108, 109, 110, 111, 112, 113, 114, 115, 116, ...</td>\n",
       "      <td>110.669980</td>\n",
       "      <td>48</td>\n",
       "      <td>[161.56691, 162.92892, 164.33928, 165.82591, 1...</td>\n",
       "      <td>107</td>\n",
       "      <td>-69.236221</td>\n",
       "      <td>[92.3306884765625, 93.69270324707031, 95.10305...</td>\n",
       "      <td>[88.0, 86.0, 83.0, 81.0, 80.0, 82.0, 85.0, 87....</td>\n",
       "      <td>[18.754862681031227, 59.17768324748613, 146.48...</td>\n",
       "      <td>43.849430</td>\n",
       "    </tr>\n",
       "    <tr>\n",
       "      <th>4</th>\n",
       "      <td>CITY-1</td>\n",
       "      <td>283</td>\n",
       "      <td>[234.0, 223.0, 214.0, 206.0, 195.0, 180.0, 167...</td>\n",
       "      <td>[194.71466, 193.90762, 191.21535, 188.86458, 1...</td>\n",
       "      <td>[194.71466, 193.90762, 191.21535, 188.86458, 1...</td>\n",
       "      <td>[234.0, 223.0, 214.0, 206.0, 195.0, 180.0, 167...</td>\n",
       "      <td>[108, 109, 110, 111, 112, 113, 114, 115, 116, ...</td>\n",
       "      <td>6.463759</td>\n",
       "      <td>24</td>\n",
       "      <td>[203.50978, 204.51129, 205.46542, 206.42049, 2...</td>\n",
       "      <td>107</td>\n",
       "      <td>-0.433762</td>\n",
       "      <td>[203.07601928710938, 204.07752990722656, 205.0...</td>\n",
       "      <td>[204.0, 203.0, 206.0, 206.0, 204.0, 205.0, 208...</td>\n",
       "      <td>[0.8537403577938676, 1.1610707009676844, 0.937...</td>\n",
       "      <td>6.681949</td>\n",
       "    </tr>\n",
       "    <tr>\n",
       "      <th>...</th>\n",
       "      <td>...</td>\n",
       "      <td>...</td>\n",
       "      <td>...</td>\n",
       "      <td>...</td>\n",
       "      <td>...</td>\n",
       "      <td>...</td>\n",
       "      <td>...</td>\n",
       "      <td>...</td>\n",
       "      <td>...</td>\n",
       "      <td>...</td>\n",
       "      <td>...</td>\n",
       "      <td>...</td>\n",
       "      <td>...</td>\n",
       "      <td>...</td>\n",
       "      <td>...</td>\n",
       "      <td>...</td>\n",
       "    </tr>\n",
       "    <tr>\n",
       "      <th>10113</th>\n",
       "      <td>WISDM-98</td>\n",
       "      <td>174</td>\n",
       "      <td>[91.0, 92.0, 92.0, 93.0, 94.0, 95.0, 94.0, 94....</td>\n",
       "      <td>[111.292046, 102.61971, 95.85383, 92.09809, 90...</td>\n",
       "      <td>[111.292046, 102.61971, 95.85383, 92.09809, 90...</td>\n",
       "      <td>[91.0, 92.0, 92.0, 93.0, 94.0, 95.0, 94.0, 94....</td>\n",
       "      <td>[26, 27, 28, 29, 30, 31, 32, 33, 34]</td>\n",
       "      <td>18.354280</td>\n",
       "      <td>9</td>\n",
       "      <td>[101.39682, 101.88097, 102.30979, 102.71335, 1...</td>\n",
       "      <td>25</td>\n",
       "      <td>13.119682</td>\n",
       "      <td>[114.5165023803711, 115.00064849853516, 115.42...</td>\n",
       "      <td>[118.0, 120.0, 122.0, 123.0, 123.0, 123.0, 122...</td>\n",
       "      <td>[12.134755665960256, 24.993515435198788, 43.17...</td>\n",
       "      <td>5.405681</td>\n",
       "    </tr>\n",
       "    <tr>\n",
       "      <th>10114</th>\n",
       "      <td>WISDM-98</td>\n",
       "      <td>183</td>\n",
       "      <td>[158.0, 163.0, 153.0, 122.0, 125.0, 126.0, 148...</td>\n",
       "      <td>[151.84076, 149.98251, 147.50496, 146.32509, 1...</td>\n",
       "      <td>[151.84076, 149.98251, 147.50496, 146.32509, 1...</td>\n",
       "      <td>[158.0, 163.0, 153.0, 122.0, 125.0, 126.0, 148...</td>\n",
       "      <td>[244, 245, 246, 247, 248, 249]</td>\n",
       "      <td>22.120455</td>\n",
       "      <td>6</td>\n",
       "      <td>[92.15437, 91.42103, 90.658485, 89.94419, 89.2...</td>\n",
       "      <td>243</td>\n",
       "      <td>-21.913780</td>\n",
       "      <td>[70.24059295654297, 69.50724792480469, 68.7447...</td>\n",
       "      <td>[68.0, 58.0, 64.0, 69.0, 80.0, 88.0]</td>\n",
       "      <td>[5.020256796909962, 132.4167548029218, 22.5122...</td>\n",
       "      <td>11.359382</td>\n",
       "    </tr>\n",
       "    <tr>\n",
       "      <th>10115</th>\n",
       "      <td>WISDM-98</td>\n",
       "      <td>185</td>\n",
       "      <td>[183.0, 193.0, 194.0, 192.0, 195.0, 195.0, 199...</td>\n",
       "      <td>[183.44495, 186.65448, 188.5549, 190.90454, 19...</td>\n",
       "      <td>[183.44495, 186.65448, 188.5549, 190.90454, 19...</td>\n",
       "      <td>[183.0, 193.0, 194.0, 192.0, 195.0, 195.0, 199...</td>\n",
       "      <td>[46, 47, 48, 49, 50, 51, 52, 53, 54, 55, 56, 5...</td>\n",
       "      <td>28.915793</td>\n",
       "      <td>48</td>\n",
       "      <td>[180.45009, 179.1127, 177.76765, 176.36864, 17...</td>\n",
       "      <td>45</td>\n",
       "      <td>16.265747</td>\n",
       "      <td>[196.71583557128906, 195.37844848632812, 194.0...</td>\n",
       "      <td>[197.0, 197.0, 198.0, 199.0, 200.0, 200.0, 200...</td>\n",
       "      <td>[0.08074942254461348, 2.629429311491549, 15.73...</td>\n",
       "      <td>16.107711</td>\n",
       "    </tr>\n",
       "    <tr>\n",
       "      <th>10116</th>\n",
       "      <td>WISDM-98</td>\n",
       "      <td>190</td>\n",
       "      <td>[186.0, 211.0, 228.0, 232.0, 222.0, 199.0, 170...</td>\n",
       "      <td>[181.9352, 180.47629, 178.7964, 178.51494, 178...</td>\n",
       "      <td>[181.9352, 180.47629, 178.7964, 178.51494, 178...</td>\n",
       "      <td>[186.0, 211.0, 228.0, 232.0, 222.0, 199.0, 170...</td>\n",
       "      <td>[76, 77, 78, 79, 80, 81, 82, 83, 84, 85, 86, 8...</td>\n",
       "      <td>47.620616</td>\n",
       "      <td>48</td>\n",
       "      <td>[166.64142, 165.72586, 164.80414, 163.86644, 1...</td>\n",
       "      <td>75</td>\n",
       "      <td>-28.533890</td>\n",
       "      <td>[138.10752868652344, 137.1919708251953, 136.27...</td>\n",
       "      <td>[128.0, 109.0, 112.0, 101.0, 111.0, 104.0, 98....</td>\n",
       "      <td>[102.1621361488942, 794.7872190086637, 589.044...</td>\n",
       "      <td>56.636567</td>\n",
       "    </tr>\n",
       "    <tr>\n",
       "      <th>10117</th>\n",
       "      <td>WISDM-98</td>\n",
       "      <td>193</td>\n",
       "      <td>[170.0, 169.0, 168.0, 167.0, 166.0, 165.0, 164...</td>\n",
       "      <td>[156.0653, 151.64163, 147.02847, 144.10345, 14...</td>\n",
       "      <td>[156.0653, 151.64163, 147.02847, 144.10345, 14...</td>\n",
       "      <td>[170.0, 169.0, 168.0, 167.0, 166.0, 165.0, 164...</td>\n",
       "      <td>[244, 245, 246, 247, 248]</td>\n",
       "      <td>49.673022</td>\n",
       "      <td>5</td>\n",
       "      <td>[215.77156, 216.35255, 216.65797, 216.73148, 2...</td>\n",
       "      <td>243</td>\n",
       "      <td>47.046585</td>\n",
       "      <td>[262.8181457519531, 263.3991394042969, 263.704...</td>\n",
       "      <td>[266.0, 263.0, 263.0, 267.0, 271.0]</td>\n",
       "      <td>[10.124196455813944, 0.15931226406246424, 0.49...</td>\n",
       "      <td>3.893989</td>\n",
       "    </tr>\n",
       "  </tbody>\n",
       "</table>\n",
       "<p>10118 rows × 16 columns</p>\n",
       "</div>"
      ],
      "text/plain": [
       "            SID  Day                                      Value_missing  \\\n",
       "0        CITY-1    2  [306.0, 301.0, 301.0, 301.0, 300.0, 306.0, 312...   \n",
       "1        CITY-1   11  [248.0, 251.0, 251.0, 254.0, 257.0, 262.0, 268...   \n",
       "2        CITY-1  207  [206.0, 204.0, 202.0, 202.0, 204.0, 208.0, 211...   \n",
       "3        CITY-1  282  [266.0, 270.0, 265.0, 261.0, 258.0, 257.0, 253...   \n",
       "4        CITY-1  283  [234.0, 223.0, 214.0, 206.0, 195.0, 180.0, 167...   \n",
       "...         ...  ...                                                ...   \n",
       "10113  WISDM-98  174  [91.0, 92.0, 92.0, 93.0, 94.0, 95.0, 94.0, 94....   \n",
       "10114  WISDM-98  183  [158.0, 163.0, 153.0, 122.0, 125.0, 126.0, 148...   \n",
       "10115  WISDM-98  185  [183.0, 193.0, 194.0, 192.0, 195.0, 195.0, 199...   \n",
       "10116  WISDM-98  190  [186.0, 211.0, 228.0, 232.0, 222.0, 199.0, 170...   \n",
       "10117  WISDM-98  193  [170.0, 169.0, 168.0, 167.0, 166.0, 165.0, 164...   \n",
       "\n",
       "                                        Value_prediction  \\\n",
       "0      [288.2032, 300.55865, 308.7281, 314.70218, 318...   \n",
       "1      [251.57312, 252.9743, 252.78651, 253.11372, 25...   \n",
       "2      [194.76012, 206.34258, 212.96732, 217.12534, 2...   \n",
       "3      [239.39206, 254.29585, 262.61258, 268.08087, 2...   \n",
       "4      [194.71466, 193.90762, 191.21535, 188.86458, 1...   \n",
       "...                                                  ...   \n",
       "10113  [111.292046, 102.61971, 95.85383, 92.09809, 90...   \n",
       "10114  [151.84076, 149.98251, 147.50496, 146.32509, 1...   \n",
       "10115  [183.44495, 186.65448, 188.5549, 190.90454, 19...   \n",
       "10116  [181.9352, 180.47629, 178.7964, 178.51494, 178...   \n",
       "10117  [156.0653, 151.64163, 147.02847, 144.10345, 14...   \n",
       "\n",
       "                                    Value_prediction_seq  \\\n",
       "0      [288.2032, 300.55865, 308.7281, 314.70218, 318...   \n",
       "1      [251.57312, 252.9743, 252.78651, 253.11372, 25...   \n",
       "2      [194.76012, 206.34258, 212.96732, 217.12534, 2...   \n",
       "3      [239.39206, 254.29585, 262.61258, 268.08087, 2...   \n",
       "4      [194.71466, 193.90762, 191.21535, 188.86458, 1...   \n",
       "...                                                  ...   \n",
       "10113  [111.292046, 102.61971, 95.85383, 92.09809, 90...   \n",
       "10114  [151.84076, 149.98251, 147.50496, 146.32509, 1...   \n",
       "10115  [183.44495, 186.65448, 188.5549, 190.90454, 19...   \n",
       "10116  [181.9352, 180.47629, 178.7964, 178.51494, 178...   \n",
       "10117  [156.0653, 151.64163, 147.02847, 144.10345, 14...   \n",
       "\n",
       "                                          Value_complete  \\\n",
       "0      [306.0, 301.0, 301.0, 301.0, 300.0, 306.0, 312...   \n",
       "1      [248.0, 251.0, 251.0, 254.0, 257.0, 262.0, 268...   \n",
       "2      [206.0, 204.0, 202.0, 202.0, 204.0, 208.0, 211...   \n",
       "3      [266.0, 270.0, 265.0, 261.0, 258.0, 257.0, 253...   \n",
       "4      [234.0, 223.0, 214.0, 206.0, 195.0, 180.0, 167...   \n",
       "...                                                  ...   \n",
       "10113  [91.0, 92.0, 92.0, 93.0, 94.0, 95.0, 94.0, 94....   \n",
       "10114  [158.0, 163.0, 153.0, 122.0, 125.0, 126.0, 148...   \n",
       "10115  [183.0, 193.0, 194.0, 192.0, 195.0, 195.0, 199...   \n",
       "10116  [186.0, 211.0, 228.0, 232.0, 222.0, 199.0, 170...   \n",
       "10117  [170.0, 169.0, 168.0, 167.0, 166.0, 165.0, 164...   \n",
       "\n",
       "                                         Missing_Indexes    Avg RMSE  \\\n",
       "0                                       [30, 31, 32, 33]    6.548246   \n",
       "1      [77, 78, 79, 80, 81, 82, 83, 84, 85, 86, 87, 8...  177.575653   \n",
       "2                    [266, 267, 268, 269, 270, 271, 272]   37.216855   \n",
       "3      [108, 109, 110, 111, 112, 113, 114, 115, 116, ...  110.669980   \n",
       "4      [108, 109, 110, 111, 112, 113, 114, 115, 116, ...    6.463759   \n",
       "...                                                  ...         ...   \n",
       "10113               [26, 27, 28, 29, 30, 31, 32, 33, 34]   18.354280   \n",
       "10114                     [244, 245, 246, 247, 248, 249]   22.120455   \n",
       "10115  [46, 47, 48, 49, 50, 51, 52, 53, 54, 55, 56, 5...   28.915793   \n",
       "10116  [76, 77, 78, 79, 80, 81, 82, 83, 84, 85, 86, 8...   47.620616   \n",
       "10117                          [244, 245, 246, 247, 248]   49.673022   \n",
       "\n",
       "       missing_count                                   Predicted_Values  \\\n",
       "0                  4         [266.5671, 264.07492, 261.60632, 259.1759]   \n",
       "1                 96  [284.52856, 280.2009, 275.7097, 271.06567, 266...   \n",
       "2                  7  [143.8032, 143.24698, 142.78838, 142.4038, 142...   \n",
       "3                 48  [161.56691, 162.92892, 164.33928, 165.82591, 1...   \n",
       "4                 24  [203.50978, 204.51129, 205.46542, 206.42049, 2...   \n",
       "...              ...                                                ...   \n",
       "10113              9  [101.39682, 101.88097, 102.30979, 102.71335, 1...   \n",
       "10114              6  [92.15437, 91.42103, 90.658485, 89.94419, 89.2...   \n",
       "10115             48  [180.45009, 179.1127, 177.76765, 176.36864, 17...   \n",
       "10116             48  [166.64142, 165.72586, 164.80414, 163.86644, 1...   \n",
       "10117              5  [215.77156, 216.35255, 216.65797, 216.73148, 2...   \n",
       "\n",
       "       offset_start  offset_value  \\\n",
       "0                29     -3.029236   \n",
       "1                76     78.297913   \n",
       "2               265     37.562134   \n",
       "3               107    -69.236221   \n",
       "4               107     -0.433762   \n",
       "...             ...           ...   \n",
       "10113            25     13.119682   \n",
       "10114           243    -21.913780   \n",
       "10115            45     16.265747   \n",
       "10116            75    -28.533890   \n",
       "10117           243     47.046585   \n",
       "\n",
       "                                 Offset_Predicted_Values  \\\n",
       "0      [263.5378723144531, 261.0456848144531, 258.577...   \n",
       "1      [362.82647705078125, 358.4988098144531, 354.00...   \n",
       "2      [181.36534118652344, 180.80911254882812, 180.3...   \n",
       "3      [92.3306884765625, 93.69270324707031, 95.10305...   \n",
       "4      [203.07601928710938, 204.07752990722656, 205.0...   \n",
       "...                                                  ...   \n",
       "10113  [114.5165023803711, 115.00064849853516, 115.42...   \n",
       "10114  [70.24059295654297, 69.50724792480469, 68.7447...   \n",
       "10115  [196.71583557128906, 195.37844848632812, 194.0...   \n",
       "10116  [138.10752868652344, 137.1919708251953, 136.27...   \n",
       "10117  [262.8181457519531, 263.3991394042969, 263.704...   \n",
       "\n",
       "                                             True_Values  \\\n",
       "0                           [268.0, 271.0, 255.0, 268.0]   \n",
       "1      [370.0, 371.0, 374.0, 376.0, 379.0, 380.0, 353...   \n",
       "2      [185.0, 186.0, 184.0, 178.0, 175.0, 174.0, 175.0]   \n",
       "3      [88.0, 86.0, 83.0, 81.0, 80.0, 82.0, 85.0, 87....   \n",
       "4      [204.0, 203.0, 206.0, 206.0, 204.0, 205.0, 208...   \n",
       "...                                                  ...   \n",
       "10113  [118.0, 120.0, 122.0, 123.0, 123.0, 123.0, 122...   \n",
       "10114               [68.0, 58.0, 64.0, 69.0, 80.0, 88.0]   \n",
       "10115  [197.0, 197.0, 198.0, 199.0, 200.0, 200.0, 200...   \n",
       "10116  [128.0, 109.0, 112.0, 101.0, 111.0, 104.0, 98....   \n",
       "10117                [266.0, 263.0, 263.0, 267.0, 271.0]   \n",
       "\n",
       "                                         Offset_Sq_Error  Offset_RMSE  \n",
       "0      [19.91058348212391, 99.08839081320912, 12.7955...     8.250697  \n",
       "1      [51.45943150296807, 156.2797560552135, 399.696...   105.652913  \n",
       "2      [13.210744690382853, 26.945312530733645, 13.31...     4.299827  \n",
       "3      [18.754862681031227, 59.17768324748613, 146.48...    43.849430  \n",
       "4      [0.8537403577938676, 1.1610707009676844, 0.937...     6.681949  \n",
       "...                                                  ...          ...  \n",
       "10113  [12.134755665960256, 24.993515435198788, 43.17...     5.405681  \n",
       "10114  [5.020256796909962, 132.4167548029218, 22.5122...    11.359382  \n",
       "10115  [0.08074942254461348, 2.629429311491549, 15.73...    16.107711  \n",
       "10116  [102.1621361488942, 794.7872190086637, 589.044...    56.636567  \n",
       "10117  [10.124196455813944, 0.15931226406246424, 0.49...     3.893989  \n",
       "\n",
       "[10118 rows x 16 columns]"
      ]
     },
     "execution_count": 154,
     "metadata": {},
     "output_type": "execute_result"
    }
   ],
   "source": [
    "preds_vs_true"
   ]
  },
  {
   "cell_type": "code",
   "execution_count": 153,
   "id": "e0532177-ce2e-429d-a8b6-6d973e38cff9",
   "metadata": {
    "tags": []
   },
   "outputs": [
    {
     "data": {
      "image/png": "[encoded data removed]",
      "text/plain": [
       "<Figure size 1000x600 with 1 Axes>"
      ]
     },
     "metadata": {},
     "output_type": "display_data"
    }
   ],
   "source": [
    "val_point = 12\n",
    "\n",
    "compare_dataframe = pd.DataFrame({'True Value':preds_vs_true['Value_complete'][val_point].copy(), 'Predicted Value':preds_vs_true['Value_prediction'][val_point].copy()})\n",
    "\n",
    "import matplotlib.pyplot as plt\n",
    "\n",
    "plt.figure(figsize=(10, 6))\n",
    "plt.plot(compare_dataframe.index, compare_dataframe['Predicted Value'], label='Predicted Value')\n",
    "plt.plot(compare_dataframe.index, compare_dataframe['True Value'], label='True Value')\n",
    "plt.plot(preds_vs_true['Missing_Indexes'][val_point], preds_vs_true['Offset_Predicted_Values'][val_point], label = 'Model Values')\n",
    "\n",
    "plt.axvline(x=np.array(preds_vs_true['Missing_Indexes'][val_point]).min(), color='red', alpha=0.5)\n",
    "plt.axvline(x=np.array(preds_vs_true['Missing_Indexes'][val_point]).max(), color='red', alpha=0.5)\n",
    "\n",
    "plt.title('Predicted vs True Values')\n",
    "plt.xlabel('Index')\n",
    "plt.ylabel('Value')\n",
    "plt.legend()\n",
    "plt.grid(True)\n",
    "plt.show()"
   ]
  },
  {
   "cell_type": "code",
   "execution_count": 155,
   "id": "a0c17156-fd90-4e99-aad9-3255fb99bfc8",
   "metadata": {
    "tags": []
   },
   "outputs": [],
   "source": [
    "preds_vs_true.to_csv('Seq2Seq_Bidirectional_50nodes.csv', index = False)"
   ]
  },
  {
   "cell_type": "code",
   "execution_count": 47,
   "id": "2cd06152-48ce-4a1e-8a5d-942950333948",
   "metadata": {
    "tags": []
   },
   "outputs": [
    {
     "data": {
      "text/plain": [
       "30"
      ]
     },
     "execution_count": 47,
     "metadata": {},
     "output_type": "execute_result"
    }
   ],
   "source": [
    "np.array(preds_vs_true['Missing_Indexes'][0]).min()"
   ]
  },
  {
   "cell_type": "code",
   "execution_count": 26,
   "id": "a295cf36-8d49-4bc8-8a94-369632446977",
   "metadata": {
    "tags": []
   },
   "outputs": [
    {
     "data": {
      "text/plain": [
       "96"
      ]
     },
     "execution_count": 26,
     "metadata": {},
     "output_type": "execute_result"
    }
   ],
   "source": [
    "len(find_nan_indices(preds_vs_true['Value_missing'][1].copy()))"
   ]
  }
 ],
 "metadata": {
  "kernelspec": {
   "display_name": "Python 3 (ipykernel)",
   "language": "python",
   "name": "python3"
  },
  "language_info": {
   "codemirror_mode": {
    "name": "ipython",
    "version": 3
   },
   "file_extension": ".py",
   "mimetype": "text/x-python",
   "name": "python",
   "nbconvert_exporter": "python",
   "pygments_lexer": "ipython3",
   "version": "3.10.8"
  }
 },
 "nbformat": 4,
 "nbformat_minor": 5
}
