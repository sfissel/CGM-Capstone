{
 "cells": [
  {
   "cell_type": "code",
   "execution_count": 2,
   "id": "c5a0ce89-123b-4803-b59b-83ae1262d404",
   "metadata": {
    "tags": []
   },
   "outputs": [],
   "source": [
    "import numpy as np\n",
    "from tensorflow.keras.models import Sequential\n",
    "from tensorflow.keras.layers import LSTM, Dense, RepeatVector, TimeDistributed, BatchNormalization, Dropout, Bidirectional\n",
    "from sklearn.preprocessing import MinMaxScaler, StandardScaler\n",
    "import pandas as pd\n",
    "from keras import optimizers\n",
    "import math"
   ]
  },
  {
   "cell_type": "code",
   "execution_count": 3,
   "id": "dd4604a1-d0ef-4b70-94e7-1be62f5eef98",
   "metadata": {
    "tags": []
   },
   "outputs": [],
   "source": [
    "df = pd.read_csv('./Glucose_Train_Set.csv')\n",
    "\n",
    "val_df = pd.read_csv('./Glucose_Validation_Set_Complete.csv')[['SID','Day','DailyTI_Index','Value']]\n",
    "val_missing = pd.read_csv('./Glucose_Validation_Set.csv')[['SID','Day','DailyTI_Index','Value']]"
   ]
  },
  {
   "cell_type": "code",
   "execution_count": 4,
   "id": "80aa76cd-a23d-405e-a7b1-03e3886a927a",
   "metadata": {
    "tags": []
   },
   "outputs": [],
   "source": [
    "missing_data = pd.merge(val_df, val_missing, on = ['SID','Day','DailyTI_Index'], how = 'left')\n",
    "missing_data.columns = ['SID','Day','DailyTI_Index','Value_complete', 'Value_missing']"
   ]
  },
  {
   "cell_type": "code",
   "execution_count": 5,
   "id": "3d918b12-048b-4c4b-b179-617bbaff0091",
   "metadata": {
    "tags": []
   },
   "outputs": [],
   "source": [
    "train_data = df.sort_values(by=['DailyTI_Index']).groupby(['SID', 'Day'])['Value'].apply(list).reset_index()\n",
    "validation_missing = missing_data.sort_values(by=['DailyTI_Index']).groupby(['SID', 'Day'])['Value_missing'].apply(list).reset_index()\n",
    "validation_complete = missing_data.sort_values(by=['DailyTI_Index']).groupby(['SID', 'Day'])['Value_complete'].apply(list).reset_index()\n"
   ]
  },
  {
   "cell_type": "code",
   "execution_count": 6,
   "id": "850902c8-5702-47e2-a62c-20e05d8cadf0",
   "metadata": {
    "tags": []
   },
   "outputs": [],
   "source": [
    "y_val = np.array(validation_missing['Value_missing'].to_list())"
   ]
  },
  {
   "cell_type": "code",
   "execution_count": 7,
   "id": "6fdf0298-10b4-4b68-9f16-e7fca6649c62",
   "metadata": {
    "tags": []
   },
   "outputs": [],
   "source": [
    "X_train = np.array(train_data['Value'].to_list())"
   ]
  },
  {
   "cell_type": "code",
   "execution_count": 8,
   "id": "66694cfd-1cfe-47e1-ad73-0382cb13d399",
   "metadata": {
    "tags": []
   },
   "outputs": [
    {
     "name": "stdout",
     "output_type": "stream",
     "text": [
      "Epoch 1/20\n"
     ]
    },
    {
     "name": "stderr",
     "output_type": "stream",
     "text": [
      "2024-04-03 08:48:48.382752: W tensorflow/tsl/platform/profile_utils/cpu_utils.cc:128] Failed to get CPU frequency: 0 Hz\n"
     ]
    },
    {
     "name": "stdout",
     "output_type": "stream",
     "text": [
      "1107/1107 [==============================] - 851s 768ms/step - loss: 0.6929\n",
      "Epoch 2/20\n",
      "1107/1107 [==============================] - 1359s 1s/step - loss: 0.4591\n",
      "Epoch 3/20\n",
      "1107/1107 [==============================] - 1666s 2s/step - loss: 0.3297\n",
      "Epoch 4/20\n",
      "1107/1107 [==============================] - 852s 770ms/step - loss: 0.2469\n",
      "Epoch 5/20\n",
      "1107/1107 [==============================] - 825s 745ms/step - loss: 0.2094\n",
      "Epoch 6/20\n",
      "1107/1107 [==============================] - 818s 739ms/step - loss: 0.1875\n",
      "Epoch 7/20\n",
      "1107/1107 [==============================] - 836s 755ms/step - loss: 0.1713\n",
      "Epoch 8/20\n",
      "1107/1107 [==============================] - 821s 742ms/step - loss: 0.1566\n",
      "Epoch 9/20\n",
      "1107/1107 [==============================] - 793s 717ms/step - loss: 0.1474\n",
      "Epoch 10/20\n",
      "1107/1107 [==============================] - 827s 747ms/step - loss: 0.1400\n",
      "Epoch 11/20\n",
      "1107/1107 [==============================] - 816s 737ms/step - loss: 0.1326\n",
      "Epoch 12/20\n",
      "1107/1107 [==============================] - 808s 730ms/step - loss: 0.1241\n",
      "Epoch 13/20\n",
      "1107/1107 [==============================] - 860s 777ms/step - loss: 0.1169\n",
      "Epoch 14/20\n",
      "1107/1107 [==============================] - 3168s 3s/step - loss: 0.1106\n",
      "Epoch 15/20\n",
      "1107/1107 [==============================] - 858s 775ms/step - loss: 0.1042\n",
      "Epoch 16/20\n",
      "1107/1107 [==============================] - 805s 727ms/step - loss: 0.0982\n",
      "Epoch 17/20\n",
      "1107/1107 [==============================] - 825s 745ms/step - loss: 0.0940\n",
      "Epoch 18/20\n",
      "1107/1107 [==============================] - 823s 744ms/step - loss: 0.0895\n",
      "Epoch 19/20\n",
      "1107/1107 [==============================] - 836s 755ms/step - loss: 0.0866\n",
      "Epoch 20/20\n",
      "1107/1107 [==============================] - 819s 740ms/step - loss: 0.0834\n"
     ]
    },
    {
     "data": {
      "text/plain": [
       "<keras.callbacks.History at 0x4c3fe7c10>"
      ]
     },
     "execution_count": 8,
     "metadata": {},
     "output_type": "execute_result"
    }
   ],
   "source": [
    "# Normalize the data\n",
    "# Standardize the data\n",
    "scaler = StandardScaler()\n",
    "X_train_scaled = scaler.fit_transform(X_train)\n",
    "\n",
    "# Reshaping X_train for the LSTM model, LSTM expects input to be in [samples, time steps, features]\n",
    "X_train_reshaped = X_train_scaled.reshape((X_train_scaled.shape[0], X_train_scaled.shape[1], 1))\n",
    "\n",
    "# Define a Seq2Seq LSTM model best was 50 and 50\n",
    "model = Sequential([\n",
    "    Bidirectional(LSTM(100, activation='sigmoid', input_shape=(288, 1), return_sequences=False)), # set to false for seq2seq\n",
    "    RepeatVector(288),  # Determines the length of the output sequence\n",
    "    Bidirectional(LSTM(100, activation='sigmoid', return_sequences=True)),\n",
    "    TimeDistributed(Dense(1))\n",
    "])\n",
    "\n",
    "optimizer = optimizers.Adam(learning_rate = 0.001, clipvalue=0.5) # for seq2seq clipvalue=0.5\n",
    "model.compile(optimizer=optimizer, loss='mse')\n",
    "\n",
    "# Train the model\n",
    "model.fit(X_train_reshaped, X_train_reshaped, epochs=20, batch_size=64, verbose=1)"
   ]
  },
  {
   "cell_type": "code",
   "execution_count": 9,
   "id": "e63af1bd-56d1-489c-be60-cdf31ff230c1",
   "metadata": {
    "tags": []
   },
   "outputs": [
    {
     "name": "stdout",
     "output_type": "stream",
     "text": [
      "Model: \"sequential\"\n",
      "_________________________________________________________________\n",
      " Layer (type)                Output Shape              Param #   \n",
      "=================================================================\n",
      " bidirectional (Bidirectiona  (None, 200)              81600     \n",
      " l)                                                              \n",
      "                                                                 \n",
      " repeat_vector (RepeatVector  (None, 288, 200)         0         \n",
      " )                                                               \n",
      "                                                                 \n",
      " bidirectional_1 (Bidirectio  (None, 288, 200)         240800    \n",
      " nal)                                                            \n",
      "                                                                 \n",
      " time_distributed (TimeDistr  (None, 288, 1)           201       \n",
      " ibuted)                                                         \n",
      "                                                                 \n",
      "=================================================================\n",
      "Total params: 322,601\n",
      "Trainable params: 322,601\n",
      "Non-trainable params: 0\n",
      "_________________________________________________________________\n"
     ]
    }
   ],
   "source": [
    "model.summary()"
   ]
  },
  {
   "cell_type": "code",
   "execution_count": 10,
   "id": "d957ec99-0849-415e-a980-a86661fb9e87",
   "metadata": {
    "tags": []
   },
   "outputs": [
    {
     "name": "stdout",
     "output_type": "stream",
     "text": [
      "317/317 [==============================] - 57s 180ms/step\n"
     ]
    }
   ],
   "source": [
    "# Prepare the test sequence\n",
    "test_sequences = y_val\n",
    "# Handle NaNs for normalization (simple imputation, consider a better method for your use case)\n",
    "test_sequences_imputed = np.array([np.where(np.isnan(seq), np.nanmean(seq), seq) for seq in test_sequences])\n",
    "\n",
    "# Standardize the test sequences\n",
    "test_sequences_scaled = scaler.transform(test_sequences_imputed)\n",
    "\n",
    "# Reshape for the model\n",
    "test_sequences_scaled_reshaped = test_sequences_scaled.reshape((test_sequences_scaled.shape[0], 288, 1))\n",
    "\n",
    "# Predicting the sequences\n",
    "predicted_sequences_scaled = model.predict(test_sequences_scaled_reshaped)\n",
    "\n",
    "# Inverse transform to original scale\n",
    "predicted_sequences = scaler.inverse_transform(predicted_sequences_scaled.reshape(test_sequences_scaled.shape[0], 288))\n"
   ]
  },
  {
   "cell_type": "code",
   "execution_count": 11,
   "id": "ba5484b5-891b-4aea-8519-1bbde5f357a6",
   "metadata": {
    "tags": []
   },
   "outputs": [],
   "source": [
    "predictions = []\n",
    "\n",
    "# Iterate through each row in the array and append it as a list to data_for_df\n",
    "for row in predicted_sequences:\n",
    "    predictions.append(row)  # Each row becomes a list that is then wrapped in another list to represent a single cell in the DataFrame\n"
   ]
  },
  {
   "cell_type": "code",
   "execution_count": 21,
   "id": "2a3fcd9b-91b5-442d-84b2-9c1a61f2d877",
   "metadata": {
    "tags": []
   },
   "outputs": [],
   "source": [
    "validation_missing['Value_prediction_seq'] = predictions"
   ]
  },
  {
   "cell_type": "code",
   "execution_count": 22,
   "id": "d30b4915-96c1-4f02-a654-cd639a91e3fc",
   "metadata": {
    "tags": []
   },
   "outputs": [],
   "source": [
    "preds_vs_true = pd.merge(validation_missing, validation_complete)"
   ]
  },
  {
   "cell_type": "code",
   "execution_count": 23,
   "id": "adc57fb8-d0bf-4b3d-a11d-c2c5153098f0",
   "metadata": {
    "tags": []
   },
   "outputs": [],
   "source": [
    "def find_nan_indices(lst):\n",
    "    \"\"\"\n",
    "    Returns a list of indices where the item in the list is NaN.\n",
    "    \n",
    "    :param lst: List to check for NaN values.\n",
    "    :return: List of indices with NaN values.\n",
    "    \"\"\"\n",
    "    return [i for i, x in enumerate(lst) if isinstance(x, float) and np.isnan(x)]\n",
    "\n",
    "# Now, apply the function to the 'Value_missing' column\n",
    "preds_vs_true['Missing_Indexes'] = preds_vs_true['Value_missing'].apply(find_nan_indices)"
   ]
  },
  {
   "cell_type": "code",
   "execution_count": 24,
   "id": "91688988-5f62-4c65-a008-1c8248ff651e",
   "metadata": {
    "tags": []
   },
   "outputs": [],
   "source": [
    "RMSEs =[]\n",
    "missing_count = []\n",
    "predicted_values = []\n",
    "true_values = []\n",
    "\n",
    "for j in range(len(preds_vs_true)):\n",
    "    check_list = []\n",
    "    count = 0\n",
    "    pred_vals = []\n",
    "    true_val = []\n",
    "    for i in find_nan_indices(preds_vs_true['Value_missing'][j]):\n",
    "        check_list.append((preds_vs_true['Value_complete'][j][i] - preds_vs_true['Value_prediction_seq'][j][i])**2)\n",
    "        count += 1\n",
    "        pred_vals.append(preds_vs_true['Value_prediction_seq'][j][i])\n",
    "        true_val.append(preds_vs_true['Value_complete'][j][i])\n",
    "    \n",
    "    RMSEs.append(np.mean(check_list)**(1/2))\n",
    "    missing_count.append(count)\n",
    "    predicted_values.append(pred_vals)\n",
    "    true_values.append(true_val)"
   ]
  },
  {
   "cell_type": "code",
   "execution_count": 25,
   "id": "0646b8e8-293d-4375-b444-2125f736597f",
   "metadata": {
    "tags": []
   },
   "outputs": [],
   "source": [
    "preds_vs_true['Avg RMSE'] = RMSEs\n",
    "preds_vs_true['missing_count'] = missing_count\n",
    "preds_vs_true['Predicted_Values'] = predicted_values\n",
    "preds_vs_true['True_Values'] = true_values"
   ]
  },
  {
   "cell_type": "code",
   "execution_count": 26,
   "id": "bfbd5b31-acdc-4703-9315-ee86de5cc1eb",
   "metadata": {
    "tags": []
   },
   "outputs": [],
   "source": [
    "preds_vs_true['offset_start'] = preds_vs_true['Missing_Indexes'].apply(np.array).apply(min)-1\n",
    "preds_vs_true['offset_value'] = preds_vs_true.apply(lambda row: row['Value_missing'][row['offset_start']], axis=1) - \\\n",
    "                                    preds_vs_true.apply(lambda row: row['Value_prediction_seq'][row['offset_start']], axis=1)\n",
    "\n"
   ]
  },
  {
   "cell_type": "code",
   "execution_count": 27,
   "id": "a9554a78-6832-40ad-a78c-f7524958abee",
   "metadata": {
    "tags": []
   },
   "outputs": [],
   "source": [
    "# Add the single float to each element of the lists\n",
    "preds_vs_true['Offset_Predicted_Values'] = preds_vs_true.apply(lambda row: [x + row['offset_value'] for x in row['Predicted_Values']], axis=1)"
   ]
  },
  {
   "cell_type": "code",
   "execution_count": 28,
   "id": "249bb9e7-1f2c-42d8-803b-17955ddd5e0e",
   "metadata": {
    "tags": []
   },
   "outputs": [],
   "source": [
    "# Add the single float to each element of the lists\n",
    "preds_vs_true['Offset_Predicted_Values'] = preds_vs_true.apply(lambda row: [x + row['offset_value'] for x in row['Predicted_Values']], axis=1)"
   ]
  },
  {
   "cell_type": "code",
   "execution_count": 29,
   "id": "6d8338d6-58b9-47b1-9406-640c33d229e3",
   "metadata": {
    "tags": []
   },
   "outputs": [
    {
     "data": {
      "text/plain": [
       "missing_count\n",
       "4     17.986108\n",
       "5     20.231684\n",
       "6     20.514382\n",
       "7     21.632985\n",
       "8     22.884517\n",
       "9     23.977975\n",
       "10    24.519893\n",
       "11    27.158043\n",
       "12    28.103898\n",
       "24    38.947642\n",
       "48    50.214561\n",
       "96    58.266760\n",
       "Name: Avg RMSE, dtype: float64"
      ]
     },
     "execution_count": 29,
     "metadata": {},
     "output_type": "execute_result"
    }
   ],
   "source": [
    "preds_vs_true.groupby('missing_count')['Avg RMSE'].mean()"
   ]
  },
  {
   "cell_type": "code",
   "execution_count": 30,
   "id": "b37c1312-e5bb-4dd6-b862-47fef46bef5c",
   "metadata": {
    "tags": []
   },
   "outputs": [],
   "source": [
    "# Display the DataFrame\n",
    "preds_vs_true['Offset_Sq_Error'] = preds_vs_true.apply(lambda row: [(a - b)**2 for a, b in zip(row['True_Values'], row['Offset_Predicted_Values'])], axis=1)"
   ]
  },
  {
   "cell_type": "code",
   "execution_count": 31,
   "id": "bd56819e-0b26-4eba-a91a-8e920363c73d",
   "metadata": {
    "tags": []
   },
   "outputs": [],
   "source": [
    "preds_vs_true['Offset_RMSE']= preds_vs_true['Offset_Sq_Error'].apply(np.array).apply(np.mean).apply(math.sqrt)"
   ]
  },
  {
   "cell_type": "code",
   "execution_count": 43,
   "id": "b28f9857-1951-4624-96af-5c1d149ca057",
   "metadata": {
    "tags": []
   },
   "outputs": [],
   "source": [
    "preds_vs_true.to_csv('Seq2Seq_Bidirectional_100nodes.csv', index = False)"
   ]
  },
  {
   "cell_type": "code",
   "execution_count": 44,
   "id": "523fb56a-0c5b-4fdd-a8c6-8318916791bc",
   "metadata": {
    "tags": []
   },
   "outputs": [
    {
     "data": {
      "text/html": [
       "<div>\n",
       "<style scoped>\n",
       "    .dataframe tbody tr th:only-of-type {\n",
       "        vertical-align: middle;\n",
       "    }\n",
       "\n",
       "    .dataframe tbody tr th {\n",
       "        vertical-align: top;\n",
       "    }\n",
       "\n",
       "    .dataframe thead th {\n",
       "        text-align: right;\n",
       "    }\n",
       "</style>\n",
       "<table border=\"1\" class=\"dataframe\">\n",
       "  <thead>\n",
       "    <tr style=\"text-align: right;\">\n",
       "      <th></th>\n",
       "      <th>SID</th>\n",
       "      <th>Day</th>\n",
       "      <th>Value_missing</th>\n",
       "      <th>Value_prediction</th>\n",
       "      <th>Value_prediction_seq</th>\n",
       "      <th>Value_complete</th>\n",
       "      <th>Missing_Indexes</th>\n",
       "      <th>Avg RMSE</th>\n",
       "      <th>missing_count</th>\n",
       "      <th>Predicted_Values</th>\n",
       "      <th>True_Values</th>\n",
       "      <th>offset_start</th>\n",
       "      <th>offset_value</th>\n",
       "      <th>Offset_Predicted_Values</th>\n",
       "      <th>Offset_Sq_Error</th>\n",
       "      <th>Offset_RMSE</th>\n",
       "    </tr>\n",
       "  </thead>\n",
       "  <tbody>\n",
       "    <tr>\n",
       "      <th>0</th>\n",
       "      <td>CITY-1</td>\n",
       "      <td>2</td>\n",
       "      <td>[306.0, 301.0, 301.0, 301.0, 300.0, 306.0, 312...</td>\n",
       "      <td>[287.3701   297.58356  297.6433   297.43558  2...</td>\n",
       "      <td>[287.3701   297.58356  297.6433   297.43558  2...</td>\n",
       "      <td>[306.0, 301.0, 301.0, 301.0, 300.0, 306.0, 312...</td>\n",
       "      <td>[30, 31, 32, 33]</td>\n",
       "      <td>10.406688</td>\n",
       "      <td>4</td>\n",
       "      <td>[261.76562, 258.7067, 255.58145, 252.41585]</td>\n",
       "      <td>[268.0, 271.0, 255.0, 268.0]</td>\n",
       "      <td>29</td>\n",
       "      <td>1.304199</td>\n",
       "      <td>[263.06982421875, 260.0108947753906, 256.88565...</td>\n",
       "      <td>[24.306633234024048, 120.76043363753706, 3.555...</td>\n",
       "      <td>9.388022</td>\n",
       "    </tr>\n",
       "    <tr>\n",
       "      <th>1</th>\n",
       "      <td>CITY-1</td>\n",
       "      <td>11</td>\n",
       "      <td>[248.0, 251.0, 251.0, 254.0, 257.0, 262.0, 268...</td>\n",
       "      <td>[249.40462  255.71817  254.84705  254.03822  2...</td>\n",
       "      <td>[249.40462  255.71817  254.84705  254.03822  2...</td>\n",
       "      <td>[248.0, 251.0, 251.0, 254.0, 257.0, 262.0, 268...</td>\n",
       "      <td>[77, 78, 79, 80, 81, 82, 83, 84, 85, 86, 87, 8...</td>\n",
       "      <td>181.934481</td>\n",
       "      <td>96</td>\n",
       "      <td>[289.3993, 283.76468, 277.86426, 271.7225, 265...</td>\n",
       "      <td>[370.0, 371.0, 374.0, 376.0, 379.0, 380.0, 353...</td>\n",
       "      <td>76</td>\n",
       "      <td>72.231171</td>\n",
       "      <td>[361.6304626464844, 355.995849609375, 350.0954...</td>\n",
       "      <td>[70.04915551189333, 225.12452894449234, 571.42...</td>\n",
       "      <td>113.697815</td>\n",
       "    </tr>\n",
       "    <tr>\n",
       "      <th>2</th>\n",
       "      <td>CITY-1</td>\n",
       "      <td>207</td>\n",
       "      <td>[206.0, 204.0, 202.0, 202.0, 204.0, 208.0, 211...</td>\n",
       "      <td>[198.94165  206.15321  205.42213  205.0272   2...</td>\n",
       "      <td>[198.94165  206.15321  205.42213  205.0272   2...</td>\n",
       "      <td>[206.0, 204.0, 202.0, 202.0, 204.0, 208.0, 211...</td>\n",
       "      <td>[266, 267, 268, 269, 270, 271, 272]</td>\n",
       "      <td>18.008322</td>\n",
       "      <td>7</td>\n",
       "      <td>[166.59639, 164.67213, 162.91809, 161.32664, 1...</td>\n",
       "      <td>[185.0, 186.0, 184.0, 178.0, 175.0, 174.0, 175.0]</td>\n",
       "      <td>265</td>\n",
       "      <td>13.348740</td>\n",
       "      <td>[179.94512939453125, 178.0208740234375, 176.26...</td>\n",
       "      <td>[25.551716838032007, 63.66645134985447, 59.801...</td>\n",
       "      <td>5.089628</td>\n",
       "    </tr>\n",
       "    <tr>\n",
       "      <th>3</th>\n",
       "      <td>CITY-1</td>\n",
       "      <td>282</td>\n",
       "      <td>[266.0, 270.0, 265.0, 261.0, 258.0, 257.0, 253...</td>\n",
       "      <td>[257.39426 265.40396 264.09146 261.9725  259.8...</td>\n",
       "      <td>[257.39426 265.40396 264.09146 261.9725  259.8...</td>\n",
       "      <td>[266.0, 270.0, 265.0, 261.0, 258.0, 257.0, 253...</td>\n",
       "      <td>[108, 109, 110, 111, 112, 113, 114, 115, 116, ...</td>\n",
       "      <td>129.325938</td>\n",
       "      <td>48</td>\n",
       "      <td>[156.82378, 161.36487, 166.26886, 171.55228, 1...</td>\n",
       "      <td>[88.0, 86.0, 83.0, 81.0, 80.0, 82.0, 85.0, 87....</td>\n",
       "      <td>107</td>\n",
       "      <td>-61.635620</td>\n",
       "      <td>[95.18815612792969, 99.729248046875, 104.63323...</td>\n",
       "      <td>[51.66958851949312, 188.492251932621, 467.9970...</td>\n",
       "      <td>69.514701</td>\n",
       "    </tr>\n",
       "    <tr>\n",
       "      <th>4</th>\n",
       "      <td>CITY-1</td>\n",
       "      <td>283</td>\n",
       "      <td>[234.0, 223.0, 214.0, 206.0, 195.0, 180.0, 167...</td>\n",
       "      <td>[215.86612  215.33398  208.49551  202.88972  1...</td>\n",
       "      <td>[215.86612  215.33398  208.49551  202.88972  1...</td>\n",
       "      <td>[234.0, 223.0, 214.0, 206.0, 195.0, 180.0, 167...</td>\n",
       "      <td>[108, 109, 110, 111, 112, 113, 114, 115, 116, ...</td>\n",
       "      <td>26.526092</td>\n",
       "      <td>24</td>\n",
       "      <td>[172.56993, 172.6088, 172.96222, 173.67265, 17...</td>\n",
       "      <td>[204.0, 203.0, 206.0, 206.0, 204.0, 205.0, 208...</td>\n",
       "      <td>107</td>\n",
       "      <td>29.186157</td>\n",
       "      <td>[201.75608825683594, 201.79495239257812, 202.1...</td>\n",
       "      <td>[5.035139911109582, 1.4521397361531854, 14.835...</td>\n",
       "      <td>23.818273</td>\n",
       "    </tr>\n",
       "    <tr>\n",
       "      <th>...</th>\n",
       "      <td>...</td>\n",
       "      <td>...</td>\n",
       "      <td>...</td>\n",
       "      <td>...</td>\n",
       "      <td>...</td>\n",
       "      <td>...</td>\n",
       "      <td>...</td>\n",
       "      <td>...</td>\n",
       "      <td>...</td>\n",
       "      <td>...</td>\n",
       "      <td>...</td>\n",
       "      <td>...</td>\n",
       "      <td>...</td>\n",
       "      <td>...</td>\n",
       "      <td>...</td>\n",
       "      <td>...</td>\n",
       "    </tr>\n",
       "    <tr>\n",
       "      <th>10113</th>\n",
       "      <td>WISDM-98</td>\n",
       "      <td>174</td>\n",
       "      <td>[91.0, 92.0, 92.0, 93.0, 94.0, 95.0, 94.0, 94....</td>\n",
       "      <td>[100.51206   91.912415  85.14664   82.8822    ...</td>\n",
       "      <td>[100.51206   91.912415  85.14664   82.8822    ...</td>\n",
       "      <td>[91.0, 92.0, 92.0, 93.0, 94.0, 95.0, 94.0, 94....</td>\n",
       "      <td>[26, 27, 28, 29, 30, 31, 32, 33, 34]</td>\n",
       "      <td>15.682970</td>\n",
       "      <td>9</td>\n",
       "      <td>[100.12927, 101.63558, 103.122635, 104.61268, ...</td>\n",
       "      <td>[118.0, 120.0, 122.0, 123.0, 123.0, 123.0, 122...</td>\n",
       "      <td>25</td>\n",
       "      <td>15.365105</td>\n",
       "      <td>[115.49437713623047, 117.00068664550781, 118.4...</td>\n",
       "      <td>[6.278145935444627, 8.995880598435178, 12.3359...</td>\n",
       "      <td>3.693957</td>\n",
       "    </tr>\n",
       "    <tr>\n",
       "      <th>10114</th>\n",
       "      <td>WISDM-98</td>\n",
       "      <td>183</td>\n",
       "      <td>[158.0, 163.0, 153.0, 122.0, 125.0, 126.0, 148...</td>\n",
       "      <td>[147.26544  142.0669   134.92786  131.41635  1...</td>\n",
       "      <td>[147.26544  142.0669   134.92786  131.41635  1...</td>\n",
       "      <td>[158.0, 163.0, 153.0, 122.0, 125.0, 126.0, 148...</td>\n",
       "      <td>[244, 245, 246, 247, 248, 249]</td>\n",
       "      <td>23.556261</td>\n",
       "      <td>6</td>\n",
       "      <td>[92.25856, 92.251274, 92.356064, 92.647514, 93...</td>\n",
       "      <td>[68.0, 58.0, 64.0, 69.0, 80.0, 88.0]</td>\n",
       "      <td>243</td>\n",
       "      <td>-21.432808</td>\n",
       "      <td>[70.82575225830078, 70.81846618652344, 70.9232...</td>\n",
       "      <td>[7.984875825291965, 164.31307537504472, 47.931...</td>\n",
       "      <td>9.497271</td>\n",
       "    </tr>\n",
       "    <tr>\n",
       "      <th>10115</th>\n",
       "      <td>WISDM-98</td>\n",
       "      <td>185</td>\n",
       "      <td>[183.0, 193.0, 194.0, 192.0, 195.0, 195.0, 199...</td>\n",
       "      <td>[189.44418  193.97711  192.6291   192.99515  1...</td>\n",
       "      <td>[189.44418  193.97711  192.6291   192.99515  1...</td>\n",
       "      <td>[183.0, 193.0, 194.0, 192.0, 195.0, 195.0, 199...</td>\n",
       "      <td>[46, 47, 48, 49, 50, 51, 52, 53, 54, 55, 56, 5...</td>\n",
       "      <td>26.346600</td>\n",
       "      <td>48</td>\n",
       "      <td>[175.87027, 174.4698, 173.10982, 171.74763, 17...</td>\n",
       "      <td>[197.0, 197.0, 198.0, 199.0, 200.0, 200.0, 200...</td>\n",
       "      <td>45</td>\n",
       "      <td>20.736847</td>\n",
       "      <td>[196.60711669921875, 195.20664978027344, 193.8...</td>\n",
       "      <td>[0.15435728803277016, 3.21610501059331, 17.250...</td>\n",
       "      <td>20.720793</td>\n",
       "    </tr>\n",
       "    <tr>\n",
       "      <th>10116</th>\n",
       "      <td>WISDM-98</td>\n",
       "      <td>190</td>\n",
       "      <td>[186.0, 211.0, 228.0, 232.0, 222.0, 199.0, 170...</td>\n",
       "      <td>[194.2219   194.05943  188.34961  184.3363   1...</td>\n",
       "      <td>[194.2219   194.05943  188.34961  184.3363   1...</td>\n",
       "      <td>[186.0, 211.0, 228.0, 232.0, 222.0, 199.0, 170...</td>\n",
       "      <td>[76, 77, 78, 79, 80, 81, 82, 83, 84, 85, 86, 8...</td>\n",
       "      <td>30.666986</td>\n",
       "      <td>48</td>\n",
       "      <td>[158.07375, 155.95914, 153.9463, 152.03969, 15...</td>\n",
       "      <td>[128.0, 109.0, 112.0, 101.0, 111.0, 104.0, 98....</td>\n",
       "      <td>75</td>\n",
       "      <td>-21.259705</td>\n",
       "      <td>[136.8140411376953, 134.69943237304688, 132.68...</td>\n",
       "      <td>[77.68732117698528, 660.4608242968097, 427.935...</td>\n",
       "      <td>32.349656</td>\n",
       "    </tr>\n",
       "    <tr>\n",
       "      <th>10117</th>\n",
       "      <td>WISDM-98</td>\n",
       "      <td>193</td>\n",
       "      <td>[170.0, 169.0, 168.0, 167.0, 166.0, 165.0, 164...</td>\n",
       "      <td>[169.25969  169.40143  165.21408  163.11504  1...</td>\n",
       "      <td>[169.25969  169.40143  165.21408  163.11504  1...</td>\n",
       "      <td>[170.0, 169.0, 168.0, 167.0, 166.0, 165.0, 164...</td>\n",
       "      <td>[244, 245, 246, 247, 248]</td>\n",
       "      <td>21.568338</td>\n",
       "      <td>5</td>\n",
       "      <td>[241.8956, 243.7336, 245.07027, 245.9387, 246....</td>\n",
       "      <td>[266.0, 263.0, 263.0, 267.0, 271.0]</td>\n",
       "      <td>243</td>\n",
       "      <td>22.401901</td>\n",
       "      <td>[264.29750061035156, 266.135498046875, 267.472...</td>\n",
       "      <td>[2.898504171753302, 9.83134800195694, 20.00028...</td>\n",
       "      <td>2.817079</td>\n",
       "    </tr>\n",
       "  </tbody>\n",
       "</table>\n",
       "<p>10118 rows × 16 columns</p>\n",
       "</div>"
      ],
      "text/plain": [
       "            SID  Day                                      Value_missing  \\\n",
       "0        CITY-1    2  [306.0, 301.0, 301.0, 301.0, 300.0, 306.0, 312...   \n",
       "1        CITY-1   11  [248.0, 251.0, 251.0, 254.0, 257.0, 262.0, 268...   \n",
       "2        CITY-1  207  [206.0, 204.0, 202.0, 202.0, 204.0, 208.0, 211...   \n",
       "3        CITY-1  282  [266.0, 270.0, 265.0, 261.0, 258.0, 257.0, 253...   \n",
       "4        CITY-1  283  [234.0, 223.0, 214.0, 206.0, 195.0, 180.0, 167...   \n",
       "...         ...  ...                                                ...   \n",
       "10113  WISDM-98  174  [91.0, 92.0, 92.0, 93.0, 94.0, 95.0, 94.0, 94....   \n",
       "10114  WISDM-98  183  [158.0, 163.0, 153.0, 122.0, 125.0, 126.0, 148...   \n",
       "10115  WISDM-98  185  [183.0, 193.0, 194.0, 192.0, 195.0, 195.0, 199...   \n",
       "10116  WISDM-98  190  [186.0, 211.0, 228.0, 232.0, 222.0, 199.0, 170...   \n",
       "10117  WISDM-98  193  [170.0, 169.0, 168.0, 167.0, 166.0, 165.0, 164...   \n",
       "\n",
       "                                        Value_prediction  \\\n",
       "0      [287.3701   297.58356  297.6433   297.43558  2...   \n",
       "1      [249.40462  255.71817  254.84705  254.03822  2...   \n",
       "2      [198.94165  206.15321  205.42213  205.0272   2...   \n",
       "3      [257.39426 265.40396 264.09146 261.9725  259.8...   \n",
       "4      [215.86612  215.33398  208.49551  202.88972  1...   \n",
       "...                                                  ...   \n",
       "10113  [100.51206   91.912415  85.14664   82.8822    ...   \n",
       "10114  [147.26544  142.0669   134.92786  131.41635  1...   \n",
       "10115  [189.44418  193.97711  192.6291   192.99515  1...   \n",
       "10116  [194.2219   194.05943  188.34961  184.3363   1...   \n",
       "10117  [169.25969  169.40143  165.21408  163.11504  1...   \n",
       "\n",
       "                                    Value_prediction_seq  \\\n",
       "0      [287.3701   297.58356  297.6433   297.43558  2...   \n",
       "1      [249.40462  255.71817  254.84705  254.03822  2...   \n",
       "2      [198.94165  206.15321  205.42213  205.0272   2...   \n",
       "3      [257.39426 265.40396 264.09146 261.9725  259.8...   \n",
       "4      [215.86612  215.33398  208.49551  202.88972  1...   \n",
       "...                                                  ...   \n",
       "10113  [100.51206   91.912415  85.14664   82.8822    ...   \n",
       "10114  [147.26544  142.0669   134.92786  131.41635  1...   \n",
       "10115  [189.44418  193.97711  192.6291   192.99515  1...   \n",
       "10116  [194.2219   194.05943  188.34961  184.3363   1...   \n",
       "10117  [169.25969  169.40143  165.21408  163.11504  1...   \n",
       "\n",
       "                                          Value_complete  \\\n",
       "0      [306.0, 301.0, 301.0, 301.0, 300.0, 306.0, 312...   \n",
       "1      [248.0, 251.0, 251.0, 254.0, 257.0, 262.0, 268...   \n",
       "2      [206.0, 204.0, 202.0, 202.0, 204.0, 208.0, 211...   \n",
       "3      [266.0, 270.0, 265.0, 261.0, 258.0, 257.0, 253...   \n",
       "4      [234.0, 223.0, 214.0, 206.0, 195.0, 180.0, 167...   \n",
       "...                                                  ...   \n",
       "10113  [91.0, 92.0, 92.0, 93.0, 94.0, 95.0, 94.0, 94....   \n",
       "10114  [158.0, 163.0, 153.0, 122.0, 125.0, 126.0, 148...   \n",
       "10115  [183.0, 193.0, 194.0, 192.0, 195.0, 195.0, 199...   \n",
       "10116  [186.0, 211.0, 228.0, 232.0, 222.0, 199.0, 170...   \n",
       "10117  [170.0, 169.0, 168.0, 167.0, 166.0, 165.0, 164...   \n",
       "\n",
       "                                         Missing_Indexes    Avg RMSE  \\\n",
       "0                                       [30, 31, 32, 33]   10.406688   \n",
       "1      [77, 78, 79, 80, 81, 82, 83, 84, 85, 86, 87, 8...  181.934481   \n",
       "2                    [266, 267, 268, 269, 270, 271, 272]   18.008322   \n",
       "3      [108, 109, 110, 111, 112, 113, 114, 115, 116, ...  129.325938   \n",
       "4      [108, 109, 110, 111, 112, 113, 114, 115, 116, ...   26.526092   \n",
       "...                                                  ...         ...   \n",
       "10113               [26, 27, 28, 29, 30, 31, 32, 33, 34]   15.682970   \n",
       "10114                     [244, 245, 246, 247, 248, 249]   23.556261   \n",
       "10115  [46, 47, 48, 49, 50, 51, 52, 53, 54, 55, 56, 5...   26.346600   \n",
       "10116  [76, 77, 78, 79, 80, 81, 82, 83, 84, 85, 86, 8...   30.666986   \n",
       "10117                          [244, 245, 246, 247, 248]   21.568338   \n",
       "\n",
       "       missing_count                                   Predicted_Values  \\\n",
       "0                  4        [261.76562, 258.7067, 255.58145, 252.41585]   \n",
       "1                 96  [289.3993, 283.76468, 277.86426, 271.7225, 265...   \n",
       "2                  7  [166.59639, 164.67213, 162.91809, 161.32664, 1...   \n",
       "3                 48  [156.82378, 161.36487, 166.26886, 171.55228, 1...   \n",
       "4                 24  [172.56993, 172.6088, 172.96222, 173.67265, 17...   \n",
       "...              ...                                                ...   \n",
       "10113              9  [100.12927, 101.63558, 103.122635, 104.61268, ...   \n",
       "10114              6  [92.25856, 92.251274, 92.356064, 92.647514, 93...   \n",
       "10115             48  [175.87027, 174.4698, 173.10982, 171.74763, 17...   \n",
       "10116             48  [158.07375, 155.95914, 153.9463, 152.03969, 15...   \n",
       "10117              5  [241.8956, 243.7336, 245.07027, 245.9387, 246....   \n",
       "\n",
       "                                             True_Values  offset_start  \\\n",
       "0                           [268.0, 271.0, 255.0, 268.0]            29   \n",
       "1      [370.0, 371.0, 374.0, 376.0, 379.0, 380.0, 353...            76   \n",
       "2      [185.0, 186.0, 184.0, 178.0, 175.0, 174.0, 175.0]           265   \n",
       "3      [88.0, 86.0, 83.0, 81.0, 80.0, 82.0, 85.0, 87....           107   \n",
       "4      [204.0, 203.0, 206.0, 206.0, 204.0, 205.0, 208...           107   \n",
       "...                                                  ...           ...   \n",
       "10113  [118.0, 120.0, 122.0, 123.0, 123.0, 123.0, 122...            25   \n",
       "10114               [68.0, 58.0, 64.0, 69.0, 80.0, 88.0]           243   \n",
       "10115  [197.0, 197.0, 198.0, 199.0, 200.0, 200.0, 200...            45   \n",
       "10116  [128.0, 109.0, 112.0, 101.0, 111.0, 104.0, 98....            75   \n",
       "10117                [266.0, 263.0, 263.0, 267.0, 271.0]           243   \n",
       "\n",
       "       offset_value                            Offset_Predicted_Values  \\\n",
       "0          1.304199  [263.06982421875, 260.0108947753906, 256.88565...   \n",
       "1         72.231171  [361.6304626464844, 355.995849609375, 350.0954...   \n",
       "2         13.348740  [179.94512939453125, 178.0208740234375, 176.26...   \n",
       "3        -61.635620  [95.18815612792969, 99.729248046875, 104.63323...   \n",
       "4         29.186157  [201.75608825683594, 201.79495239257812, 202.1...   \n",
       "...             ...                                                ...   \n",
       "10113     15.365105  [115.49437713623047, 117.00068664550781, 118.4...   \n",
       "10114    -21.432808  [70.82575225830078, 70.81846618652344, 70.9232...   \n",
       "10115     20.736847  [196.60711669921875, 195.20664978027344, 193.8...   \n",
       "10116    -21.259705  [136.8140411376953, 134.69943237304688, 132.68...   \n",
       "10117     22.401901  [264.29750061035156, 266.135498046875, 267.472...   \n",
       "\n",
       "                                         Offset_Sq_Error  Offset_RMSE  \n",
       "0      [24.306633234024048, 120.76043363753706, 3.555...     9.388022  \n",
       "1      [70.04915551189333, 225.12452894449234, 571.42...   113.697815  \n",
       "2      [25.551716838032007, 63.66645134985447, 59.801...     5.089628  \n",
       "3      [51.66958851949312, 188.492251932621, 467.9970...    69.514701  \n",
       "4      [5.035139911109582, 1.4521397361531854, 14.835...    23.818273  \n",
       "...                                                  ...          ...  \n",
       "10113  [6.278145935444627, 8.995880598435178, 12.3359...     3.693957  \n",
       "10114  [7.984875825291965, 164.31307537504472, 47.931...     9.497271  \n",
       "10115  [0.15435728803277016, 3.21610501059331, 17.250...    20.720793  \n",
       "10116  [77.68732117698528, 660.4608242968097, 427.935...    32.349656  \n",
       "10117  [2.898504171753302, 9.83134800195694, 20.00028...     2.817079  \n",
       "\n",
       "[10118 rows x 16 columns]"
      ]
     },
     "execution_count": 44,
     "metadata": {},
     "output_type": "execute_result"
    }
   ],
   "source": [
    "pd.read_csv('Seq2Seq_Bidirectional_100nodes.csv')"
   ]
  },
  {
   "cell_type": "code",
   "execution_count": 41,
   "id": "e0532177-ce2e-429d-a8b6-6d973e38cff9",
   "metadata": {
    "tags": []
   },
   "outputs": [
    {
     "data": {
      "image/png": "[encoded data removed]",
      "text/plain": [
       "<Figure size 1000x600 with 1 Axes>"
      ]
     },
     "metadata": {},
     "output_type": "display_data"
    }
   ],
   "source": [
    "val_point = 0\n",
    "\n",
    "compare_dataframe = pd.DataFrame({'True Value':preds_vs_true['Value_complete'][val_point].copy(), 'Predicted Value':preds_vs_true['Value_prediction'][val_point].copy()})\n",
    "\n",
    "import matplotlib.pyplot as plt\n",
    "\n",
    "plt.figure(figsize=(10, 6))\n",
    "plt.plot(compare_dataframe.index, compare_dataframe['Predicted Value'], label='Predicted Value')\n",
    "plt.plot(compare_dataframe.index, compare_dataframe['True Value'], label='True Value')\n",
    "plt.plot(preds_vs_true['Missing_Indexes'][val_point], preds_vs_true['Offset_Predicted_Values'][val_point], label = 'Model Values')\n",
    "\n",
    "plt.axvline(x=np.array(preds_vs_true['Missing_Indexes'][val_point]).min(), color='red', alpha=0.5)\n",
    "plt.axvline(x=np.array(preds_vs_true['Missing_Indexes'][val_point]).max(), color='red', alpha=0.5)\n",
    "\n",
    "plt.title('Predicted vs True Values')\n",
    "plt.xlabel('Index')\n",
    "plt.ylabel('Value')\n",
    "plt.legend()\n",
    "plt.grid(True)\n",
    "plt.show()"
   ]
  },
  {
   "cell_type": "code",
   "execution_count": null,
   "id": "15d21cdd-1ecf-4fa5-afda-c8072fadd225",
   "metadata": {},
   "outputs": [],
   "source": []
  }
 ],
 "metadata": {
  "kernelspec": {
   "display_name": "Python 3 (ipykernel)",
   "language": "python",
   "name": "python3"
  },
  "language_info": {
   "codemirror_mode": {
    "name": "ipython",
    "version": 3
   },
   "file_extension": ".py",
   "mimetype": "text/x-python",
   "name": "python",
   "nbconvert_exporter": "python",
   "pygments_lexer": "ipython3",
   "version": "3.10.8"
  }
 },
 "nbformat": 4,
 "nbformat_minor": 5
}
