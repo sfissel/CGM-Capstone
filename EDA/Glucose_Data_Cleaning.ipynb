{
 "cells": [
  {
   "cell_type": "code",
   "execution_count": 1,
   "id": "ebc3d5a2-acc5-4823-b5c3-38b607ab65f0",
   "metadata": {
    "tags": []
   },
   "outputs": [],
   "source": [
    "import polars as pl\n",
    "from datetime import date,datetime\n",
    "import matplotlib.pyplot as plt\n",
    "import pandas as pd\n",
    "import numpy as np\n",
    "import pyarrow\n",
    "import random"
   ]
  },
  {
   "cell_type": "code",
   "execution_count": 2,
   "id": "8dc3e0dd-6399-4f4e-ac8b-8dbe194b439f",
   "metadata": {
    "tags": []
   },
   "outputs": [],
   "source": [
    "# read in all csv files with polars\n",
    "city_features_df = pl.read_csv('./city_cgm_plus_features.csv')\n",
    "dclp3_features_df = pl.read_csv('./dclp3_cgm_plus_features.csv')\n",
    "dclp5_features_df = pl.read_csv('./dclp5_cgm_plus_features.csv')\n",
    "flair_features_df = pl.read_csv('./flair_cgm_plus_features.csv')\n",
    "hall18_features_df = pl.read_csv('./hall18_cgm_plus_features.csv')\n",
    "mdex_features_df = pl.read_csv('./mdex_cgm_plus_features.csv')\n",
    "ndiab_features_df = pl.read_csv('./ndiab_cgm_plus_features.csv')\n",
    "repbg_features_df = pl.read_csv('./repbg_cgm_plus_features.csv')\n",
    "rtcgm_features_df = pl.read_csv('./rtcgm_cgm_plus_features.csv')\n",
    "sence_features_df = pl.read_csv('./sence_cgm_plus_features.csv')\n",
    "sevhypo_features_df = pl.read_csv('./sevhypo_cgm_plus_features.csv')\n",
    "wisdm_features_df = pl.read_csv('./wisdm_cgm_plus_features.csv')\n",
    "\n",
    "city_demo_df = pl.read_csv('./city_demographic_data.csv')\n",
    "dclp3_demo_df = pl.read_csv('./dclp3_demographic_data.csv')\n",
    "dclp5_demo_df = pl.read_csv('./dclp5_demographic_data.csv')\n",
    "flair_demo_df = pl.read_csv('./flair_demographic_data.csv')\n",
    "hall18_demo_df = pl.read_csv('./hall18_demographic_data.csv')\n",
    "mdex_demo_df = pl.read_csv('./mdex_demographic_data.csv')\n",
    "repbg_demo_df = pl.read_csv('./repbg_demographic_data.csv')\n",
    "rtcgm_demo_df = pl.read_csv('./rtcgm_demographic_data.csv')\n",
    "sence_demo_df = pl.read_csv('./sence_demographic_data.csv')\n",
    "sevhypo_demo_df = pl.read_csv('./sevhypo_demographic_data.csv')\n",
    "wisdm_demo_df = pl.read_csv('./wisdm_demographic_data.csv')"
   ]
  },
  {
   "cell_type": "code",
   "execution_count": 3,
   "id": "06754d65-a237-4e63-9cfe-73a842f38d56",
   "metadata": {
    "tags": []
   },
   "outputs": [],
   "source": [
    "city_df = city_features_df.join(city_demo_df, on=\"SID\", how=\"left\")\n",
    "dclp3_df = dclp3_features_df.join(dclp3_demo_df, on=\"SID\",how=\"left\")\n",
    "dclp5_df = dclp5_features_df.join(dclp5_demo_df, on=\"SID\",how=\"left\")\n",
    "flair_df = flair_features_df.join(flair_demo_df, on=\"SID\",how=\"left\")\n",
    "hall18_df = hall18_features_df.join(hall18_demo_df, on=\"SID\", how=\"left\")\n",
    "mdex_df = mdex_features_df.join(mdex_demo_df, on=\"SID\", how=\"left\")\n",
    "repbg_df = repbg_features_df.join(repbg_demo_df, on=\"SID\", how=\"left\")\n",
    "rtcgm_df = rtcgm_features_df.join(rtcgm_demo_df, on=\"SID\", how=\"left\")\n",
    "sence_df = sence_features_df.join(sence_demo_df, on=\"SID\", how=\"left\")\n",
    "sevhypo_df = sevhypo_features_df.join(sevhypo_demo_df, on=\"SID\", how=\"left\")\n",
    "wisdm_df = wisdm_features_df.join(wisdm_demo_df, on=\"SID\", how=\"left\")"
   ]
  },
  {
   "cell_type": "code",
   "execution_count": 4,
   "id": "d547a962-db75-4b9a-a594-02bf4a88c808",
   "metadata": {
    "tags": []
   },
   "outputs": [],
   "source": [
    "hall18_df = hall18_df.with_columns(pl.col(\"Age\").cast(pl.Int64))\n",
    "sevhypo_df = sevhypo_df.with_columns(pl.col(\"Age\").fill_null(-1).cast(pl.Int64))"
   ]
  },
  {
   "cell_type": "code",
   "execution_count": 5,
   "id": "eef0766b-6a0c-4522-aff2-213751b5b416",
   "metadata": {
    "tags": []
   },
   "outputs": [],
   "source": [
    "# create a list of the dataframes excluding city and dclp3 dataframe to vstack\n",
    "df_list = [dclp5_df ,flair_df ,hall18_df ,mdex_df ,repbg_df ,rtcgm_df ,sence_df ,sevhypo_df ,wisdm_df]\n",
    "\n",
    "# vstack city and dclp3 dataframe\n",
    "combined_df = city_df.vstack(dclp3_df)\n",
    "\n",
    "# iterate through and add the remaining 10 datasets to the combined df\n",
    "for i in df_list:\n",
    "    combined_df = combined_df.vstack(i)"
   ]
  },
  {
   "cell_type": "code",
   "execution_count": 6,
   "id": "5a926547-5b6b-4255-be28-43e6acf50229",
   "metadata": {
    "tags": []
   },
   "outputs": [],
   "source": [
    "# create the date and date_time columns\n",
    "combined_df = combined_df.with_columns(combined_df['Date'].str.replace(r'\\.0+', '').alias('Date'))\n",
    "combined_df = combined_df.with_columns(pl.col('Date').str.to_datetime('%Y-%m-%d %H:%M:%S').alias('Date'))\n",
    "combined_df = combined_df.with_columns(combined_df['Date_Time'].str.replace(r'\\.[0-9]+', '').alias('Date_Time'))\n",
    "combined_df = combined_df.with_columns(pl.col('Date_Time').str.to_datetime('%Y-%m-%d %H:%M:%S').alias('Date_Time'))"
   ]
  },
  {
   "cell_type": "code",
   "execution_count": 7,
   "id": "ca014031-b8fe-4ebe-b6c5-a4ddaaca7229",
   "metadata": {},
   "outputs": [],
   "source": [
    "# Select Data for EDA Analysis\n",
    "EDA_data = combined_df.select('SID','Day','Hour','Min'\n",
    "                              ,'DT_Index','DailyTI_Index'\n",
    "                              ,'StudyTI_Index','BMI','BMI_Class'\n",
    "                              ,'Tx_Modality', 'Race', 'Sex','Age'\n",
    "                              , 'Value')\n",
    "#EDA_data.write_csv('./CGM_EDA_data.csv')"
   ]
  },
  {
   "cell_type": "code",
   "execution_count": 8,
   "id": "3be09812-1572-4efd-af0d-52c207b37042",
   "metadata": {
    "tags": []
   },
   "outputs": [
    {
     "data": {
      "text/html": [
       "<div><style>\n",
       ".dataframe > thead > tr,\n",
       ".dataframe > tbody > tr {\n",
       "  text-align: right;\n",
       "  white-space: pre-wrap;\n",
       "}\n",
       "</style>\n",
       "<small>shape: (78_650_377, 14)</small><table border=\"1\" class=\"dataframe\"><thead><tr><th>SID</th><th>Day</th><th>Hour</th><th>Min</th><th>DT_Index</th><th>DailyTI_Index</th><th>StudyTI_Index</th><th>BMI</th><th>BMI_Class</th><th>Tx_Modality</th><th>Race</th><th>Sex</th><th>Age</th><th>Value</th></tr><tr><td>str</td><td>i64</td><td>i64</td><td>i64</td><td>str</td><td>i64</td><td>i64</td><td>f64</td><td>str</td><td>str</td><td>str</td><td>str</td><td>i64</td><td>f64</td></tr></thead><tbody><tr><td>&quot;CITY-1&quot;</td><td>0</td><td>18</td><td>19</td><td>&quot;2000-03-25 18:…</td><td>219</td><td>219</td><td>23.187635</td><td>&quot;Normalweight&quot;</td><td>&quot;MDI&quot;</td><td>&quot;White&quot;</td><td>&quot;F&quot;</td><td>18</td><td>278.0</td></tr><tr><td>&quot;CITY-1&quot;</td><td>0</td><td>18</td><td>24</td><td>&quot;2000-03-25 18:…</td><td>220</td><td>220</td><td>23.187635</td><td>&quot;Normalweight&quot;</td><td>&quot;MDI&quot;</td><td>&quot;White&quot;</td><td>&quot;F&quot;</td><td>18</td><td>273.0</td></tr><tr><td>&quot;CITY-1&quot;</td><td>0</td><td>18</td><td>29</td><td>&quot;2000-03-25 18:…</td><td>221</td><td>221</td><td>23.187635</td><td>&quot;Normalweight&quot;</td><td>&quot;MDI&quot;</td><td>&quot;White&quot;</td><td>&quot;F&quot;</td><td>18</td><td>258.0</td></tr><tr><td>&quot;CITY-1&quot;</td><td>0</td><td>18</td><td>34</td><td>&quot;2000-03-25 18:…</td><td>222</td><td>222</td><td>23.187635</td><td>&quot;Normalweight&quot;</td><td>&quot;MDI&quot;</td><td>&quot;White&quot;</td><td>&quot;F&quot;</td><td>18</td><td>251.0</td></tr><tr><td>&quot;CITY-1&quot;</td><td>0</td><td>18</td><td>39</td><td>&quot;2000-03-25 18:…</td><td>223</td><td>223</td><td>23.187635</td><td>&quot;Normalweight&quot;</td><td>&quot;MDI&quot;</td><td>&quot;White&quot;</td><td>&quot;F&quot;</td><td>18</td><td>247.0</td></tr><tr><td>&hellip;</td><td>&hellip;</td><td>&hellip;</td><td>&hellip;</td><td>&hellip;</td><td>&hellip;</td><td>&hellip;</td><td>&hellip;</td><td>&hellip;</td><td>&hellip;</td><td>&hellip;</td><td>&hellip;</td><td>&hellip;</td><td>&hellip;</td></tr><tr><td>&quot;WISDM-99&quot;</td><td>391</td><td>9</td><td>38</td><td>&quot;2001-05-07 09:…</td><td>115</td><td>112723</td><td>35.257869</td><td>&quot;Obese&quot;</td><td>&quot;MDI&quot;</td><td>&quot;White&quot;</td><td>&quot;F&quot;</td><td>62</td><td>269.0</td></tr><tr><td>&quot;WISDM-99&quot;</td><td>391</td><td>9</td><td>43</td><td>&quot;2001-05-07 09:…</td><td>116</td><td>112724</td><td>35.257869</td><td>&quot;Obese&quot;</td><td>&quot;MDI&quot;</td><td>&quot;White&quot;</td><td>&quot;F&quot;</td><td>62</td><td>273.0</td></tr><tr><td>&quot;WISDM-99&quot;</td><td>391</td><td>9</td><td>48</td><td>&quot;2001-05-07 09:…</td><td>117</td><td>112725</td><td>35.257869</td><td>&quot;Obese&quot;</td><td>&quot;MDI&quot;</td><td>&quot;White&quot;</td><td>&quot;F&quot;</td><td>62</td><td>269.0</td></tr><tr><td>&quot;WISDM-99&quot;</td><td>391</td><td>9</td><td>53</td><td>&quot;2001-05-07 09:…</td><td>118</td><td>112726</td><td>35.257869</td><td>&quot;Obese&quot;</td><td>&quot;MDI&quot;</td><td>&quot;White&quot;</td><td>&quot;F&quot;</td><td>62</td><td>258.0</td></tr><tr><td>&quot;WISDM-99&quot;</td><td>391</td><td>9</td><td>58</td><td>&quot;2001-05-07 09:…</td><td>119</td><td>112727</td><td>35.257869</td><td>&quot;Obese&quot;</td><td>&quot;MDI&quot;</td><td>&quot;White&quot;</td><td>&quot;F&quot;</td><td>62</td><td>251.0</td></tr></tbody></table></div>"
      ],
      "text/plain": [
       "shape: (78_650_377, 14)\n",
       "┌──────────┬─────┬──────┬─────┬───┬───────┬─────┬─────┬───────┐\n",
       "│ SID      ┆ Day ┆ Hour ┆ Min ┆ … ┆ Race  ┆ Sex ┆ Age ┆ Value │\n",
       "│ ---      ┆ --- ┆ ---  ┆ --- ┆   ┆ ---   ┆ --- ┆ --- ┆ ---   │\n",
       "│ str      ┆ i64 ┆ i64  ┆ i64 ┆   ┆ str   ┆ str ┆ i64 ┆ f64   │\n",
       "╞══════════╪═════╪══════╪═════╪═══╪═══════╪═════╪═════╪═══════╡\n",
       "│ CITY-1   ┆ 0   ┆ 18   ┆ 19  ┆ … ┆ White ┆ F   ┆ 18  ┆ 278.0 │\n",
       "│ CITY-1   ┆ 0   ┆ 18   ┆ 24  ┆ … ┆ White ┆ F   ┆ 18  ┆ 273.0 │\n",
       "│ CITY-1   ┆ 0   ┆ 18   ┆ 29  ┆ … ┆ White ┆ F   ┆ 18  ┆ 258.0 │\n",
       "│ CITY-1   ┆ 0   ┆ 18   ┆ 34  ┆ … ┆ White ┆ F   ┆ 18  ┆ 251.0 │\n",
       "│ CITY-1   ┆ 0   ┆ 18   ┆ 39  ┆ … ┆ White ┆ F   ┆ 18  ┆ 247.0 │\n",
       "│ …        ┆ …   ┆ …    ┆ …   ┆ … ┆ …     ┆ …   ┆ …   ┆ …     │\n",
       "│ WISDM-99 ┆ 391 ┆ 9    ┆ 38  ┆ … ┆ White ┆ F   ┆ 62  ┆ 269.0 │\n",
       "│ WISDM-99 ┆ 391 ┆ 9    ┆ 43  ┆ … ┆ White ┆ F   ┆ 62  ┆ 273.0 │\n",
       "│ WISDM-99 ┆ 391 ┆ 9    ┆ 48  ┆ … ┆ White ┆ F   ┆ 62  ┆ 269.0 │\n",
       "│ WISDM-99 ┆ 391 ┆ 9    ┆ 53  ┆ … ┆ White ┆ F   ┆ 62  ┆ 258.0 │\n",
       "│ WISDM-99 ┆ 391 ┆ 9    ┆ 58  ┆ … ┆ White ┆ F   ┆ 62  ┆ 251.0 │\n",
       "└──────────┴─────┴──────┴─────┴───┴───────┴─────┴─────┴───────┘"
      ]
     },
     "execution_count": 8,
     "metadata": {},
     "output_type": "execute_result"
    }
   ],
   "source": [
    "EDA_data"
   ]
  },
  {
   "cell_type": "code",
   "execution_count": 9,
   "id": "e16dd18b-8ce3-4e1d-b159-e8792dc5358c",
   "metadata": {
    "tags": []
   },
   "outputs": [
    {
     "data": {
      "text/plain": [
       "1826"
      ]
     },
     "execution_count": 9,
     "metadata": {},
     "output_type": "execute_result"
    }
   ],
   "source": [
    "# get the unique number of patients\n",
    "len(combined_df['SID'].unique())"
   ]
  },
  {
   "cell_type": "code",
   "execution_count": 10,
   "id": "28e87c03-90b3-4daf-917a-97380a976bfc",
   "metadata": {
    "tags": []
   },
   "outputs": [],
   "source": [
    "# group by patient id and day and get the count of readings per day\n",
    "daily_id_counts = combined_df.group_by(['SID', 'Day']).agg(pl.col('DT_Index').count().alias('DT_Index_Count'))"
   ]
  },
  {
   "cell_type": "code",
   "execution_count": 11,
   "id": "346da9ec-085e-4e12-8e0a-6009f47844d3",
   "metadata": {
    "tags": []
   },
   "outputs": [],
   "source": [
    "# sort by paitent ID and day\n",
    "daily_id_counts = daily_id_counts.sort(['SID', 'Day'])"
   ]
  },
  {
   "cell_type": "code",
   "execution_count": 12,
   "id": "eda25f93-aabc-4794-9391-5bda032ea58f",
   "metadata": {
    "tags": []
   },
   "outputs": [
    {
     "data": {
      "text/plain": [
       "101168"
      ]
     },
     "execution_count": 12,
     "metadata": {},
     "output_type": "execute_result"
    }
   ],
   "source": [
    "# Filter to the number of patient days with 288 readings (reading every 5 minutes)\n",
    "complete_days = daily_id_counts.filter(pl.col('DT_Index_Count') >= 288)\n",
    "\n",
    "# Print number of days\n",
    "len(complete_days)"
   ]
  },
  {
   "cell_type": "code",
   "execution_count": 13,
   "id": "688412b9-12b4-469e-ab6a-5715d20195a7",
   "metadata": {
    "tags": []
   },
   "outputs": [],
   "source": [
    "# create the SID_Day key to join to data to filter out records not a part of complete days\n",
    "complete_days = complete_days.with_columns(\n",
    "    pl.concat_str(\n",
    "        [\n",
    "            pl.col(\"SID\"),\n",
    "            pl.col(\"Day\"),\n",
    "        ],\n",
    "        separator=\" \",\n",
    "    ).alias(\"SID_Day\"),\n",
    ")"
   ]
  },
  {
   "cell_type": "code",
   "execution_count": 14,
   "id": "1316c990-3fc4-499e-b36f-6ce4204c3e08",
   "metadata": {
    "tags": []
   },
   "outputs": [
    {
     "data": {
      "text/html": [
       "<div><style>\n",
       ".dataframe > thead > tr,\n",
       ".dataframe > tbody > tr {\n",
       "  text-align: right;\n",
       "  white-space: pre-wrap;\n",
       "}\n",
       "</style>\n",
       "<small>shape: (1_425, 2)</small><table border=\"1\" class=\"dataframe\"><thead><tr><th>SID</th><th>Complete_Days</th></tr><tr><td>str</td><td>u32</td></tr></thead><tbody><tr><td>&quot;CITY-86&quot;</td><td>77</td></tr><tr><td>&quot;SENCE-128&quot;</td><td>56</td></tr><tr><td>&quot;SEVHYPO-82&quot;</td><td>2</td></tr><tr><td>&quot;CITY-99&quot;</td><td>184</td></tr><tr><td>&quot;SENCE-99&quot;</td><td>183</td></tr><tr><td>&hellip;</td><td>&hellip;</td></tr><tr><td>&quot;SENCE-157&quot;</td><td>40</td></tr><tr><td>&quot;DCLP3-003-020&quot;</td><td>133</td></tr><tr><td>&quot;FLAIR-23&quot;</td><td>78</td></tr><tr><td>&quot;DCLP3-007-012&quot;</td><td>138</td></tr><tr><td>&quot;REPBG-162&quot;</td><td>4</td></tr></tbody></table></div>"
      ],
      "text/plain": [
       "shape: (1_425, 2)\n",
       "┌───────────────┬───────────────┐\n",
       "│ SID           ┆ Complete_Days │\n",
       "│ ---           ┆ ---           │\n",
       "│ str           ┆ u32           │\n",
       "╞═══════════════╪═══════════════╡\n",
       "│ CITY-86       ┆ 77            │\n",
       "│ SENCE-128     ┆ 56            │\n",
       "│ SEVHYPO-82    ┆ 2             │\n",
       "│ CITY-99       ┆ 184           │\n",
       "│ SENCE-99      ┆ 183           │\n",
       "│ …             ┆ …             │\n",
       "│ SENCE-157     ┆ 40            │\n",
       "│ DCLP3-003-020 ┆ 133           │\n",
       "│ FLAIR-23      ┆ 78            │\n",
       "│ DCLP3-007-012 ┆ 138           │\n",
       "│ REPBG-162     ┆ 4             │\n",
       "└───────────────┴───────────────┘"
      ]
     },
     "execution_count": 14,
     "metadata": {},
     "output_type": "execute_result"
    }
   ],
   "source": [
    "# number of complete days of readings each patient has\n",
    "complete_days.group_by(['SID']).agg(pl.col('Day').count().alias('Complete_Days'))"
   ]
  },
  {
   "cell_type": "code",
   "execution_count": 15,
   "id": "27929d1f-a5ce-4c39-b441-3b1016571e17",
   "metadata": {
    "tags": []
   },
   "outputs": [],
   "source": [
    "# create the SID_Day key to join to data to filter out records not a part of complete days\n",
    "combined_df = combined_df.with_columns(\n",
    "    pl.concat_str(\n",
    "        [\n",
    "            pl.col(\"SID\"),\n",
    "            pl.col(\"Day\"),\n",
    "        ],\n",
    "        separator=\" \",\n",
    "    ).alias(\"SID_Day\"),\n",
    ")"
   ]
  },
  {
   "cell_type": "code",
   "execution_count": 16,
   "id": "fb4fa9ca-ec30-486c-a0d9-eaa850a7b326",
   "metadata": {
    "tags": []
   },
   "outputs": [
    {
     "data": {
      "text/html": [
       "<div><style>\n",
       ".dataframe > thead > tr,\n",
       ".dataframe > tbody > tr {\n",
       "  text-align: right;\n",
       "  white-space: pre-wrap;\n",
       "}\n",
       "</style>\n",
       "<small>shape: (1, 23)</small><table border=\"1\" class=\"dataframe\"><thead><tr><th>SID</th><th>Date_Time</th><th>Date</th><th>Day</th><th>Hour</th><th>Min</th><th>DT_Index</th><th>DailyTI_Index</th><th>StudyTI_Index</th><th>Value</th><th>Study</th><th>Age</th><th>Sex</th><th>Race</th><th>BMI</th><th>BMI_Class</th><th>Baseline_HbA1c</th><th>Tx_Modality</th><th>Diabetes_Type</th><th>SID_Day</th><th>SID_right</th><th>Day_right</th><th>DT_Index_Count</th></tr><tr><td>str</td><td>datetime[μs]</td><td>datetime[μs]</td><td>i64</td><td>i64</td><td>i64</td><td>str</td><td>i64</td><td>i64</td><td>f64</td><td>str</td><td>i64</td><td>str</td><td>str</td><td>f64</td><td>str</td><td>f64</td><td>str</td><td>str</td><td>str</td><td>str</td><td>i64</td><td>u32</td></tr></thead><tbody><tr><td>&quot;CITY-1&quot;</td><td>2000-03-26 00:04:54</td><td>2000-03-26 00:00:00</td><td>1</td><td>0</td><td>4</td><td>&quot;2000-03-26 00:…</td><td>0</td><td>288</td><td>234.0</td><td>&quot;CITY&quot;</td><td>18</td><td>&quot;F&quot;</td><td>&quot;White&quot;</td><td>23.187635</td><td>&quot;Normalweight&quot;</td><td>8.2</td><td>&quot;MDI&quot;</td><td>&quot;T1D&quot;</td><td>&quot;CITY-1 1&quot;</td><td>&quot;CITY-1&quot;</td><td>1</td><td>288</td></tr></tbody></table></div>"
      ],
      "text/plain": [
       "shape: (1, 23)\n",
       "┌────────┬──────────────┬──────────────┬─────┬───┬──────────┬───────────┬───────────┬──────────────┐\n",
       "│ SID    ┆ Date_Time    ┆ Date         ┆ Day ┆ … ┆ SID_Day  ┆ SID_right ┆ Day_right ┆ DT_Index_Cou │\n",
       "│ ---    ┆ ---          ┆ ---          ┆ --- ┆   ┆ ---      ┆ ---       ┆ ---       ┆ nt           │\n",
       "│ str    ┆ datetime[μs] ┆ datetime[μs] ┆ i64 ┆   ┆ str      ┆ str       ┆ i64       ┆ ---          │\n",
       "│        ┆              ┆              ┆     ┆   ┆          ┆           ┆           ┆ u32          │\n",
       "╞════════╪══════════════╪══════════════╪═════╪═══╪══════════╪═══════════╪═══════════╪══════════════╡\n",
       "│ CITY-1 ┆ 2000-03-26   ┆ 2000-03-26   ┆ 1   ┆ … ┆ CITY-1 1 ┆ CITY-1    ┆ 1         ┆ 288          │\n",
       "│        ┆ 00:04:54     ┆ 00:00:00     ┆     ┆   ┆          ┆           ┆           ┆              │\n",
       "└────────┴──────────────┴──────────────┴─────┴───┴──────────┴───────────┴───────────┴──────────────┘"
      ]
     },
     "execution_count": 16,
     "metadata": {},
     "output_type": "execute_result"
    }
   ],
   "source": [
    "# inner join the complete days with all records to create dataset we will use for model building and eval\n",
    "records_kept = combined_df.join(complete_days, on = 'SID_Day', how = 'inner')\n",
    "records_kept.head(1)"
   ]
  },
  {
   "cell_type": "code",
   "execution_count": 17,
   "id": "790a165d-1a7a-4041-9f26-46b829d696d6",
   "metadata": {
    "tags": []
   },
   "outputs": [
    {
     "data": {
      "text/plain": [
       "True"
      ]
     },
     "execution_count": 17,
     "metadata": {},
     "output_type": "execute_result"
    }
   ],
   "source": [
    "# check that the number of complete days is the same as the number of unique days in records kept\n",
    "len(complete_days)==len(records_kept[\"SID_Day\"].unique())"
   ]
  },
  {
   "cell_type": "code",
   "execution_count": 18,
   "id": "668ab1f1-55e1-4485-869f-a88466ab328e",
   "metadata": {
    "tags": []
   },
   "outputs": [
    {
     "data": {
      "text/plain": [
       "101168"
      ]
     },
     "execution_count": 18,
     "metadata": {},
     "output_type": "execute_result"
    }
   ],
   "source": [
    "len(records_kept[\"SID_Day\"].unique())"
   ]
  },
  {
   "cell_type": "code",
   "execution_count": 19,
   "id": "38e204b0-1561-432b-a124-0e7a72f6cc43",
   "metadata": {
    "tags": []
   },
   "outputs": [],
   "source": [
    "# Export data for modeling\n",
    "export_data = records_kept.select('SID','Day','Hour','Min','DT_Index','DailyTI_Index','StudyTI_Index','BMI','BMI_Class','Tx_Modality','Value')\n",
    "#export_data.write_csv('./CGM_model_data.csv')"
   ]
  },
  {
   "cell_type": "code",
   "execution_count": 20,
   "id": "a0e85a14-9424-48c0-b0d0-9884575cf3a8",
   "metadata": {
    "tags": []
   },
   "outputs": [
    {
     "data": {
      "text/html": [
       "<div><style>\n",
       ".dataframe > thead > tr,\n",
       ".dataframe > tbody > tr {\n",
       "  text-align: right;\n",
       "  white-space: pre-wrap;\n",
       "}\n",
       "</style>\n",
       "<small>shape: (101_168, 3)</small><table border=\"1\" class=\"dataframe\"><thead><tr><th>SID</th><th>Day</th><th>DT_Index_Count</th></tr><tr><td>str</td><td>i64</td><td>u32</td></tr></thead><tbody><tr><td>&quot;CITY-1&quot;</td><td>234</td><td>288</td></tr><tr><td>&quot;CITY-1&quot;</td><td>252</td><td>288</td></tr><tr><td>&quot;CITY-1&quot;</td><td>258</td><td>288</td></tr><tr><td>&quot;CITY-1&quot;</td><td>301</td><td>288</td></tr><tr><td>&quot;CITY-1&quot;</td><td>324</td><td>288</td></tr><tr><td>&hellip;</td><td>&hellip;</td><td>&hellip;</td></tr><tr><td>&quot;WISDM-98&quot;</td><td>153</td><td>288</td></tr><tr><td>&quot;WISDM-98&quot;</td><td>154</td><td>288</td></tr><tr><td>&quot;WISDM-98&quot;</td><td>164</td><td>288</td></tr><tr><td>&quot;WISDM-98&quot;</td><td>176</td><td>288</td></tr><tr><td>&quot;WISDM-98&quot;</td><td>193</td><td>288</td></tr></tbody></table></div>"
      ],
      "text/plain": [
       "shape: (101_168, 3)\n",
       "┌──────────┬─────┬────────────────┐\n",
       "│ SID      ┆ Day ┆ DT_Index_Count │\n",
       "│ ---      ┆ --- ┆ ---            │\n",
       "│ str      ┆ i64 ┆ u32            │\n",
       "╞══════════╪═════╪════════════════╡\n",
       "│ CITY-1   ┆ 234 ┆ 288            │\n",
       "│ CITY-1   ┆ 252 ┆ 288            │\n",
       "│ CITY-1   ┆ 258 ┆ 288            │\n",
       "│ CITY-1   ┆ 301 ┆ 288            │\n",
       "│ CITY-1   ┆ 324 ┆ 288            │\n",
       "│ …        ┆ …   ┆ …              │\n",
       "│ WISDM-98 ┆ 153 ┆ 288            │\n",
       "│ WISDM-98 ┆ 154 ┆ 288            │\n",
       "│ WISDM-98 ┆ 164 ┆ 288            │\n",
       "│ WISDM-98 ┆ 176 ┆ 288            │\n",
       "│ WISDM-98 ┆ 193 ┆ 288            │\n",
       "└──────────┴─────┴────────────────┘"
      ]
     },
     "execution_count": 20,
     "metadata": {},
     "output_type": "execute_result"
    }
   ],
   "source": [
    "export_data.group_by(['SID', 'Day']).agg(pl.col('DT_Index').count().alias('DT_Index_Count')).filter(pl.col('DT_Index_Count') >= 288)"
   ]
  },
  {
   "cell_type": "code",
   "execution_count": 21,
   "id": "bc2539ed-acf1-47f1-947c-efdc6e2ff9b6",
   "metadata": {
    "tags": []
   },
   "outputs": [],
   "source": [
    "complete_data_all = export_data.to_pandas()"
   ]
  },
  {
   "cell_type": "markdown",
   "id": "bb163e26-4d0d-4306-896d-0ac61773ad38",
   "metadata": {},
   "source": [
    "### Profiling Missingness"
   ]
  },
  {
   "cell_type": "code",
   "execution_count": 22,
   "id": "1e0f0737-776e-45c8-b715-d8016760f5f2",
   "metadata": {
    "tags": []
   },
   "outputs": [],
   "source": [
    "# sort dataframe by SID and Date_Time\n",
    "combined_df = combined_df.sort(['SID', 'Date_Time'])\n",
    "\n",
    "# create a previous missing readings column\n",
    "df = combined_df.with_columns(\n",
    "    pl.when(combined_df['SID'] == combined_df['SID'].shift(1))\n",
    "        .then(combined_df['StudyTI_Index'] - combined_df['StudyTI_Index'].shift(1)-1)\n",
    "        .otherwise(None).alias('previous_missing_readings')\n",
    ")\n",
    "\n",
    "# make any missing more than 1000 readings be 1000\n",
    "df = df.with_columns(\n",
    "    pl.when(df['previous_missing_readings'] >1000)\n",
    "        .then(1000)\n",
    "        .otherwise(df['previous_missing_readings']).alias('previous_missing_readings')\n",
    ")"
   ]
  },
  {
   "cell_type": "code",
   "execution_count": 23,
   "id": "871d4d47-36bd-4a46-aac9-06734166a05f",
   "metadata": {
    "tags": []
   },
   "outputs": [
    {
     "data": {
      "text/plain": [
       "3004598"
      ]
     },
     "execution_count": 23,
     "metadata": {},
     "output_type": "execute_result"
    }
   ],
   "source": [
    "# Number of days missing 1 or 2 readings\n",
    "len(df.filter((pl.col('previous_missing_readings')==1) | (pl.col('previous_missing_readings')==2)))"
   ]
  },
  {
   "cell_type": "code",
   "execution_count": 24,
   "id": "25417bea-4066-43df-9736-a9a555caa7a0",
   "metadata": {
    "tags": []
   },
   "outputs": [
    {
     "data": {
      "text/plain": [
       "Text(0.5, 1.0, 'Histogram of previous_missing_readings')"
      ]
     },
     "execution_count": 24,
     "metadata": {},
     "output_type": "execute_result"
    },
    {
     "data": {
      "image/png": "[encoded data removed]",
      "text/plain": [
       "<Figure size 640x480 with 1 Axes>"
      ]
     },
     "metadata": {},
     "output_type": "display_data"
    }
   ],
   "source": [
    "# Missing readings are defined as more than 3 missing readings for the project\n",
    "missing_readings = df.filter(pl.col('previous_missing_readings') > 3)\n",
    "\n",
    "# create data for a histogram by converting to Numpy\n",
    "hist_data = missing_readings['previous_missing_readings'].to_numpy()\n",
    "\n",
    "# Plot a histogram using matplotlib\n",
    "plt.hist(hist_data, bins=30, alpha=0.7, color='blue', edgecolor='black')\n",
    "\n",
    "# Add labels and title\n",
    "plt.xlabel('previous_missing_readings')\n",
    "plt.ylabel('Frequency')\n",
    "plt.title('Histogram of previous_missing_readings')"
   ]
  },
  {
   "cell_type": "code",
   "execution_count": 25,
   "id": "573f0100-4c74-43e6-9b89-7502d803ba69",
   "metadata": {
    "tags": []
   },
   "outputs": [],
   "source": [
    "# Calculate the percentage of readings missing each count\n",
    "pct_missing_reads = missing_readings.group_by('previous_missing_readings').agg(pl.col('previous_missing_readings').count().alias('Count')).select(\n",
    "        pl.col('previous_missing_readings'),\n",
    "        (pl.col('Count') / len(missing_readings)).alias('Percent')*100\n",
    "    )"
   ]
  },
  {
   "cell_type": "code",
   "execution_count": 26,
   "id": "d4d05d56-6535-42ad-9707-36aedfcf23d7",
   "metadata": {
    "tags": []
   },
   "outputs": [],
   "source": [
    "# Look at the readings missing less than 8 hours of data\n",
    "missing_pct_interest = pct_missing_reads.filter(pl.col('previous_missing_readings') <= 96).sort('previous_missing_readings')"
   ]
  },
  {
   "cell_type": "code",
   "execution_count": 27,
   "id": "c145666a",
   "metadata": {
    "tags": []
   },
   "outputs": [],
   "source": [
    "# Calculate the percentage each group is missing from 4 to 96 to Generate distribution for test set\n",
    "missing_pct_interest = missing_pct_interest.select(pl.col('previous_missing_readings'),\n",
    "                                                   (pl.col('Percent') / missing_pct_interest['Percent'].sum()).alias('Frequency')\n",
    "    )"
   ]
  },
  {
   "cell_type": "code",
   "execution_count": 28,
   "id": "070227e7-2202-4d38-90ce-c03a0f7249ba",
   "metadata": {
    "tags": []
   },
   "outputs": [],
   "source": [
    "missing_distribution = missing_pct_interest.to_pandas()"
   ]
  },
  {
   "cell_type": "code",
   "execution_count": 29,
   "id": "0ccf5882-610b-4c56-9da4-9ca1a37ec487",
   "metadata": {
    "tags": []
   },
   "outputs": [
    {
     "data": {
      "text/plain": [
       "1.0000000000000007"
      ]
     },
     "execution_count": 29,
     "metadata": {},
     "output_type": "execute_result"
    }
   ],
   "source": [
    "# Ensure sums to 100\n",
    "missing_pct_interest['Frequency'].sum()"
   ]
  },
  {
   "cell_type": "code",
   "execution_count": 30,
   "id": "371a9e64-f7f8-40aa-8be5-fcaa2b42127e",
   "metadata": {
    "tags": []
   },
   "outputs": [],
   "source": [
    "# View table\n",
    "missing_pct_interest.write_csv('./test_weights.csv')"
   ]
  },
  {
   "cell_type": "markdown",
   "id": "72ea721b-9da2-456e-9a2d-280b1027221e",
   "metadata": {},
   "source": [
    "### Introduce Missingness"
   ]
  },
  {
   "cell_type": "code",
   "execution_count": 31,
   "id": "df74b653-248a-4436-a856-5ebd9927dfa7",
   "metadata": {
    "tags": []
   },
   "outputs": [],
   "source": [
    "np.random.seed(26)"
   ]
  },
  {
   "cell_type": "code",
   "execution_count": 32,
   "id": "eaae6a2d-ac32-42ab-a178-5fae1df7c147",
   "metadata": {
    "tags": []
   },
   "outputs": [],
   "source": [
    "unique_combinations = complete_data_all[['SID', 'Day']].drop_duplicates()\n",
    "unique_combinations = unique_combinations.sample(frac=1, random_state=26).reset_index(drop=True)\n",
    "\n",
    "total_combinations = len(unique_combinations)\n",
    "train_end = int(total_combinations * 0.7)\n",
    "test_end = train_end + int(total_combinations * 0.2)\n",
    "\n",
    "train_combinations = unique_combinations[:train_end].reset_index(drop = True).copy()\n",
    "test_combinations = unique_combinations[train_end:test_end].reset_index(drop = True).copy()\n",
    "val_combinations = unique_combinations[test_end:].reset_index(drop = True).copy()\n"
   ]
  },
  {
   "cell_type": "code",
   "execution_count": 33,
   "id": "9e4900b2-3654-4db7-9bef-d1d608a08218",
   "metadata": {
    "tags": []
   },
   "outputs": [],
   "source": [
    "train_data = pd.merge(complete_data_all, train_combinations, how = 'inner', on = ['SID','Day'])\n",
    "test_data = pd.merge(complete_data_all, test_combinations, how = 'inner', on = ['SID','Day'])\n",
    "val_data = pd.merge(complete_data_all, val_combinations, how = 'inner', on = ['SID','Day'])"
   ]
  },
  {
   "cell_type": "code",
   "execution_count": 34,
   "id": "b542ee6b-d84c-4cc3-8720-83ceea53befc",
   "metadata": {
    "tags": []
   },
   "outputs": [],
   "source": [
    "missing_distribution.columns = ['missing_counts','frequency']"
   ]
  },
  {
   "cell_type": "code",
   "execution_count": 35,
   "id": "2be2fdef-0778-4124-9850-c82e27ca0cd2",
   "metadata": {
    "tags": []
   },
   "outputs": [],
   "source": [
    "missing_distribution['missing_counts'] = missing_distribution['missing_counts'].apply(\n",
    "    lambda x: 24 if 13 <= x <= 24 else (48 if 25 <= x <= 48 else (96 if 49 <= x <= 96 else x)))"
   ]
  },
  {
   "cell_type": "code",
   "execution_count": 36,
   "id": "c2fdf782-095e-4610-aad5-aee9aae48577",
   "metadata": {
    "tags": []
   },
   "outputs": [],
   "source": [
    "missing_distribution = missing_distribution.groupby('missing_counts').sum().reset_index()"
   ]
  },
  {
   "cell_type": "code",
   "execution_count": 37,
   "id": "ada51c70-aca4-464a-9fe0-41ce7020322a",
   "metadata": {
    "tags": []
   },
   "outputs": [],
   "source": [
    "num_missing_assignments = np.random.choice(missing_distribution['missing_counts'].to_list(), size=len(test_combinations), p=missing_distribution['frequency'].to_list())"
   ]
  },
  {
   "cell_type": "code",
   "execution_count": 38,
   "id": "07fb6500-4bcc-4303-b846-7da8ba0510b5",
   "metadata": {
    "tags": []
   },
   "outputs": [],
   "source": [
    "random.seed(26)"
   ]
  },
  {
   "cell_type": "code",
   "execution_count": 39,
   "id": "f8ec1c34-a1f6-4538-ace7-53bc47f6ff04",
   "metadata": {
    "tags": []
   },
   "outputs": [],
   "source": [
    "start_missing = [random.randint(5, 287 - num_missing) for num_missing in num_missing_assignments]"
   ]
  },
  {
   "cell_type": "code",
   "execution_count": 40,
   "id": "61dd9072-19e9-4d5f-a8cd-d4d509e6b83f",
   "metadata": {
    "tags": []
   },
   "outputs": [],
   "source": [
    "test_combinations['num_missing'] = num_missing_assignments\n",
    "test_combinations['start_missing'] = start_missing"
   ]
  },
  {
   "cell_type": "code",
   "execution_count": 41,
   "id": "6841bee1-deef-43c9-9032-d7561c4fd9b7",
   "metadata": {
    "tags": []
   },
   "outputs": [],
   "source": [
    "SID = []\n",
    "Day = []\n",
    "missing_reading = []\n",
    "\n",
    "for i in range(len(test_combinations)):\n",
    "    for n in range(test_combinations['num_missing'][i]):\n",
    "        SID.append(test_combinations['SID'][i])\n",
    "        Day.append(test_combinations['Day'][i])\n",
    "        missing_reading.append(test_combinations['start_missing'][i] + n)\n",
    "        "
   ]
  },
  {
   "cell_type": "code",
   "execution_count": 42,
   "id": "3d946787-ef04-4bf1-9713-8a727f60850d",
   "metadata": {
    "tags": []
   },
   "outputs": [],
   "source": [
    "test_missing = pd.DataFrame({'SID': SID,'Day':Day, 'DailyTI_Index':missing_reading, 'filter':missing_reading})"
   ]
  },
  {
   "cell_type": "code",
   "execution_count": 43,
   "id": "83a34029-0ad1-4829-af5e-5d53de2d5dd6",
   "metadata": {
    "tags": []
   },
   "outputs": [],
   "source": [
    "test_set = pd.merge(test_data, test_missing, how = 'left', on = ['SID','Day','DailyTI_Index'])\n",
    "test_set = test_set[test_set['filter'].isna()].reset_index(drop = True).copy()"
   ]
  },
  {
   "cell_type": "markdown",
   "id": "dc1d91b7-310d-442a-8902-3c087bebef11",
   "metadata": {},
   "source": [
    "##### Val Set"
   ]
  },
  {
   "cell_type": "code",
   "execution_count": 44,
   "id": "a1166dc9-78df-4a82-bce4-fb04942fd16b",
   "metadata": {
    "tags": []
   },
   "outputs": [],
   "source": [
    "random.seed(27)\n",
    "np.random.seed(27)"
   ]
  },
  {
   "cell_type": "code",
   "execution_count": 45,
   "id": "22992fbb-e7cb-493d-9a1f-bfec93028d6e",
   "metadata": {
    "tags": []
   },
   "outputs": [],
   "source": [
    "num_missing_assignments = np.random.choice(missing_distribution['missing_counts'].to_list(), size=len(val_combinations), p=missing_distribution['frequency'].to_list())"
   ]
  },
  {
   "cell_type": "code",
   "execution_count": 46,
   "id": "70b46144-1223-4ba2-8c3b-331c95a4f99a",
   "metadata": {
    "tags": []
   },
   "outputs": [],
   "source": [
    "start_missing = [random.randint(5, 287 - num_missing) for num_missing in num_missing_assignments]"
   ]
  },
  {
   "cell_type": "code",
   "execution_count": 47,
   "id": "501358f9-2c27-4b5a-b980-081c789f3f33",
   "metadata": {
    "tags": []
   },
   "outputs": [],
   "source": [
    "val_combinations['num_missing'] = num_missing_assignments\n",
    "val_combinations['start_missing'] = start_missing"
   ]
  },
  {
   "cell_type": "code",
   "execution_count": 48,
   "id": "8da16b37-af70-4921-b7c2-6962cdc3aa7e",
   "metadata": {
    "tags": []
   },
   "outputs": [],
   "source": [
    "SID = []\n",
    "Day = []\n",
    "missing_reading = []\n",
    "\n",
    "for i in range(len(val_combinations)):\n",
    "    for n in range(val_combinations['num_missing'][i]):\n",
    "        SID.append(val_combinations['SID'][i])\n",
    "        Day.append(val_combinations['Day'][i])\n",
    "        missing_reading.append(val_combinations['start_missing'][i] + n)\n",
    "        "
   ]
  },
  {
   "cell_type": "code",
   "execution_count": 49,
   "id": "31697fc8-3109-4d9d-b824-ed16baff75fb",
   "metadata": {
    "tags": []
   },
   "outputs": [],
   "source": [
    "val_missing = pd.DataFrame({'SID': SID,'Day':Day, 'DailyTI_Index':missing_reading, 'filter':missing_reading})"
   ]
  },
  {
   "cell_type": "code",
   "execution_count": 50,
   "id": "2587085e-837e-40b4-b972-0fc580dea35a",
   "metadata": {
    "tags": []
   },
   "outputs": [],
   "source": [
    "val_set = pd.merge(val_data, val_missing, how = 'left', on = ['SID','Day','DailyTI_Index'])\n",
    "val_set = val_set[val_set['filter'].isna()].reset_index(drop = True).copy()"
   ]
  },
  {
   "cell_type": "code",
   "execution_count": 51,
   "id": "76f1f54a-f392-4589-8780-27fbeb7e8be6",
   "metadata": {
    "tags": []
   },
   "outputs": [],
   "source": [
    "val_set.to_csv('./Glucose_Validation_Set.csv', header = True, index=False)\n",
    "test_set.to_csv('./Glucose_Test_Set.csv', header = True, index=False)\n",
    "train_data.to_csv('./Glucose_Train_Set.csv', header = True, index=False)\n",
    "\n",
    "val_data.to_csv('./Glucose_Validation_Set_Complete.csv', header = True, index=False)\n",
    "test_data.to_csv('./Glucose_Test_Set_Complete.csv', header = True, index=False)"
   ]
  },
  {
   "cell_type": "markdown",
   "id": "f2c28790-a656-431b-9c61-600ffce82632",
   "metadata": {},
   "source": [
    "### Check test/val set worked"
   ]
  },
  {
   "cell_type": "code",
   "execution_count": 52,
   "id": "7e3ae874-e8ea-4619-9b51-db819f1849ca",
   "metadata": {
    "tags": []
   },
   "outputs": [],
   "source": [
    "test_set = pl.from_pandas(test_set)"
   ]
  },
  {
   "cell_type": "code",
   "execution_count": 53,
   "id": "3d85369c-cea5-49c3-ab50-07b1d4b41692",
   "metadata": {
    "tags": []
   },
   "outputs": [],
   "source": [
    "# sort dataframe by SID and Date_Time\n",
    "test_set = test_set.sort(['SID', 'StudyTI_Index'])\n",
    "\n",
    "# create a previous missing readings column\n",
    "df = test_set.with_columns(\n",
    "    pl.when(test_set['SID'] == test_set['SID'].shift(1))\n",
    "        .then(test_set['StudyTI_Index'] - test_set['StudyTI_Index'].shift(1)-1)\n",
    "        .otherwise(None).alias('previous_missing_readings')\n",
    ")\n",
    "\n",
    "# make any missing more than 1000 readings be 1000\n",
    "df = df.with_columns(\n",
    "    pl.when(df['previous_missing_readings'] >1000)\n",
    "        .then(1000)\n",
    "        .otherwise(df['previous_missing_readings']).alias('previous_missing_readings')\n",
    ")"
   ]
  },
  {
   "cell_type": "code",
   "execution_count": 54,
   "id": "ca9f69ec-bb24-49cd-9ca7-92fba56414ed",
   "metadata": {
    "tags": []
   },
   "outputs": [],
   "source": [
    "df = df.to_pandas()"
   ]
  },
  {
   "cell_type": "code",
   "execution_count": 55,
   "id": "494d50d4-1da2-4fce-a59c-d0e785117d1d",
   "metadata": {
    "tags": []
   },
   "outputs": [
    {
     "data": {
      "text/html": [
       "<div>\n",
       "<style scoped>\n",
       "    .dataframe tbody tr th:only-of-type {\n",
       "        vertical-align: middle;\n",
       "    }\n",
       "\n",
       "    .dataframe tbody tr th {\n",
       "        vertical-align: top;\n",
       "    }\n",
       "\n",
       "    .dataframe thead th {\n",
       "        text-align: right;\n",
       "    }\n",
       "</style>\n",
       "<table border=\"1\" class=\"dataframe\">\n",
       "  <thead>\n",
       "    <tr style=\"text-align: right;\">\n",
       "      <th></th>\n",
       "      <th>SID</th>\n",
       "      <th>Day</th>\n",
       "      <th>Hour</th>\n",
       "      <th>Min</th>\n",
       "      <th>DT_Index</th>\n",
       "      <th>DailyTI_Index</th>\n",
       "      <th>StudyTI_Index</th>\n",
       "      <th>BMI</th>\n",
       "      <th>BMI_Class</th>\n",
       "      <th>Tx_Modality</th>\n",
       "      <th>Value</th>\n",
       "      <th>filter</th>\n",
       "      <th>previous_missing_readings</th>\n",
       "    </tr>\n",
       "  </thead>\n",
       "  <tbody>\n",
       "    <tr>\n",
       "      <th>0</th>\n",
       "      <td>CITY-1</td>\n",
       "      <td>1</td>\n",
       "      <td>0</td>\n",
       "      <td>4</td>\n",
       "      <td>2000-03-26 00:00:00</td>\n",
       "      <td>0</td>\n",
       "      <td>288</td>\n",
       "      <td>23.187635</td>\n",
       "      <td>Normalweight</td>\n",
       "      <td>MDI</td>\n",
       "      <td>234.0</td>\n",
       "      <td>NaN</td>\n",
       "      <td>NaN</td>\n",
       "    </tr>\n",
       "    <tr>\n",
       "      <th>3984</th>\n",
       "      <td>CITY-10</td>\n",
       "      <td>181</td>\n",
       "      <td>0</td>\n",
       "      <td>0</td>\n",
       "      <td>2000-07-25 00:00:00</td>\n",
       "      <td>0</td>\n",
       "      <td>52128</td>\n",
       "      <td>22.427711</td>\n",
       "      <td>Normalweight</td>\n",
       "      <td>PUMP</td>\n",
       "      <td>375.0</td>\n",
       "      <td>NaN</td>\n",
       "      <td>NaN</td>\n",
       "    </tr>\n",
       "    <tr>\n",
       "      <th>6058</th>\n",
       "      <td>CITY-101</td>\n",
       "      <td>190</td>\n",
       "      <td>0</td>\n",
       "      <td>0</td>\n",
       "      <td>2000-09-29 00:00:00</td>\n",
       "      <td>0</td>\n",
       "      <td>54720</td>\n",
       "      <td>25.234509</td>\n",
       "      <td>Overweight</td>\n",
       "      <td>PUMP</td>\n",
       "      <td>181.0</td>\n",
       "      <td>NaN</td>\n",
       "      <td>NaN</td>\n",
       "    </tr>\n",
       "    <tr>\n",
       "      <th>9092</th>\n",
       "      <td>CITY-102</td>\n",
       "      <td>213</td>\n",
       "      <td>0</td>\n",
       "      <td>4</td>\n",
       "      <td>2000-10-21 00:00:00</td>\n",
       "      <td>0</td>\n",
       "      <td>61344</td>\n",
       "      <td>24.334776</td>\n",
       "      <td>Normalweight</td>\n",
       "      <td>PUMP</td>\n",
       "      <td>224.0</td>\n",
       "      <td>NaN</td>\n",
       "      <td>NaN</td>\n",
       "    </tr>\n",
       "    <tr>\n",
       "      <th>12008</th>\n",
       "      <td>CITY-103</td>\n",
       "      <td>117</td>\n",
       "      <td>0</td>\n",
       "      <td>1</td>\n",
       "      <td>2000-10-31 00:00:00</td>\n",
       "      <td>0</td>\n",
       "      <td>33696</td>\n",
       "      <td>24.689795</td>\n",
       "      <td>Normalweight</td>\n",
       "      <td>MDI</td>\n",
       "      <td>60.0</td>\n",
       "      <td>NaN</td>\n",
       "      <td>NaN</td>\n",
       "    </tr>\n",
       "    <tr>\n",
       "      <th>...</th>\n",
       "      <td>...</td>\n",
       "      <td>...</td>\n",
       "      <td>...</td>\n",
       "      <td>...</td>\n",
       "      <td>...</td>\n",
       "      <td>...</td>\n",
       "      <td>...</td>\n",
       "      <td>...</td>\n",
       "      <td>...</td>\n",
       "      <td>...</td>\n",
       "      <td>...</td>\n",
       "      <td>...</td>\n",
       "      <td>...</td>\n",
       "    </tr>\n",
       "    <tr>\n",
       "      <th>5284184</th>\n",
       "      <td>WISDM-93</td>\n",
       "      <td>2</td>\n",
       "      <td>0</td>\n",
       "      <td>3</td>\n",
       "      <td>2000-03-16 00:00:00</td>\n",
       "      <td>0</td>\n",
       "      <td>576</td>\n",
       "      <td>27.464767</td>\n",
       "      <td>Overweight</td>\n",
       "      <td>PUMP</td>\n",
       "      <td>89.0</td>\n",
       "      <td>NaN</td>\n",
       "      <td>NaN</td>\n",
       "    </tr>\n",
       "    <tr>\n",
       "      <th>5286288</th>\n",
       "      <td>WISDM-94</td>\n",
       "      <td>206</td>\n",
       "      <td>0</td>\n",
       "      <td>0</td>\n",
       "      <td>2001-01-12 00:00:00</td>\n",
       "      <td>0</td>\n",
       "      <td>59328</td>\n",
       "      <td>22.294722</td>\n",
       "      <td>Normalweight</td>\n",
       "      <td>MDI</td>\n",
       "      <td>262.0</td>\n",
       "      <td>NaN</td>\n",
       "      <td>NaN</td>\n",
       "    </tr>\n",
       "    <tr>\n",
       "      <th>5289263</th>\n",
       "      <td>WISDM-95</td>\n",
       "      <td>8</td>\n",
       "      <td>0</td>\n",
       "      <td>3</td>\n",
       "      <td>2000-03-13 00:00:00</td>\n",
       "      <td>0</td>\n",
       "      <td>2304</td>\n",
       "      <td>24.836323</td>\n",
       "      <td>Normalweight</td>\n",
       "      <td>PUMP</td>\n",
       "      <td>160.0</td>\n",
       "      <td>NaN</td>\n",
       "      <td>NaN</td>\n",
       "    </tr>\n",
       "    <tr>\n",
       "      <th>5290870</th>\n",
       "      <td>WISDM-97</td>\n",
       "      <td>13</td>\n",
       "      <td>0</td>\n",
       "      <td>1</td>\n",
       "      <td>2000-02-17 00:00:00</td>\n",
       "      <td>0</td>\n",
       "      <td>3744</td>\n",
       "      <td>23.670933</td>\n",
       "      <td>Normalweight</td>\n",
       "      <td>PUMP</td>\n",
       "      <td>86.0</td>\n",
       "      <td>NaN</td>\n",
       "      <td>NaN</td>\n",
       "    </tr>\n",
       "    <tr>\n",
       "      <th>5299045</th>\n",
       "      <td>WISDM-98</td>\n",
       "      <td>11</td>\n",
       "      <td>0</td>\n",
       "      <td>4</td>\n",
       "      <td>2000-07-13 00:00:00</td>\n",
       "      <td>0</td>\n",
       "      <td>3168</td>\n",
       "      <td>29.903628</td>\n",
       "      <td>Overweight</td>\n",
       "      <td>PUMP</td>\n",
       "      <td>348.0</td>\n",
       "      <td>NaN</td>\n",
       "      <td>NaN</td>\n",
       "    </tr>\n",
       "  </tbody>\n",
       "</table>\n",
       "<p>1291 rows × 13 columns</p>\n",
       "</div>"
      ],
      "text/plain": [
       "              SID  Day  Hour  Min             DT_Index  DailyTI_Index  \\\n",
       "0          CITY-1    1     0    4  2000-03-26 00:00:00              0   \n",
       "3984      CITY-10  181     0    0  2000-07-25 00:00:00              0   \n",
       "6058     CITY-101  190     0    0  2000-09-29 00:00:00              0   \n",
       "9092     CITY-102  213     0    4  2000-10-21 00:00:00              0   \n",
       "12008    CITY-103  117     0    1  2000-10-31 00:00:00              0   \n",
       "...           ...  ...   ...  ...                  ...            ...   \n",
       "5284184  WISDM-93    2     0    3  2000-03-16 00:00:00              0   \n",
       "5286288  WISDM-94  206     0    0  2001-01-12 00:00:00              0   \n",
       "5289263  WISDM-95    8     0    3  2000-03-13 00:00:00              0   \n",
       "5290870  WISDM-97   13     0    1  2000-02-17 00:00:00              0   \n",
       "5299045  WISDM-98   11     0    4  2000-07-13 00:00:00              0   \n",
       "\n",
       "         StudyTI_Index        BMI     BMI_Class Tx_Modality  Value  filter  \\\n",
       "0                  288  23.187635  Normalweight         MDI  234.0     NaN   \n",
       "3984             52128  22.427711  Normalweight        PUMP  375.0     NaN   \n",
       "6058             54720  25.234509    Overweight        PUMP  181.0     NaN   \n",
       "9092             61344  24.334776  Normalweight        PUMP  224.0     NaN   \n",
       "12008            33696  24.689795  Normalweight         MDI   60.0     NaN   \n",
       "...                ...        ...           ...         ...    ...     ...   \n",
       "5284184            576  27.464767    Overweight        PUMP   89.0     NaN   \n",
       "5286288          59328  22.294722  Normalweight         MDI  262.0     NaN   \n",
       "5289263           2304  24.836323  Normalweight        PUMP  160.0     NaN   \n",
       "5290870           3744  23.670933  Normalweight        PUMP   86.0     NaN   \n",
       "5299045           3168  29.903628    Overweight        PUMP  348.0     NaN   \n",
       "\n",
       "         previous_missing_readings  \n",
       "0                              NaN  \n",
       "3984                           NaN  \n",
       "6058                           NaN  \n",
       "9092                           NaN  \n",
       "12008                          NaN  \n",
       "...                            ...  \n",
       "5284184                        NaN  \n",
       "5286288                        NaN  \n",
       "5289263                        NaN  \n",
       "5290870                        NaN  \n",
       "5299045                        NaN  \n",
       "\n",
       "[1291 rows x 13 columns]"
      ]
     },
     "execution_count": 55,
     "metadata": {},
     "output_type": "execute_result"
    }
   ],
   "source": [
    "df[df['previous_missing_readings'].isna()]"
   ]
  },
  {
   "cell_type": "code",
   "execution_count": 56,
   "id": "63a1fde3-095e-4fae-b7af-a4c4e3df8f6d",
   "metadata": {
    "tags": []
   },
   "outputs": [
    {
     "data": {
      "text/plain": [
       "0            CITY-1\n",
       "3984        CITY-10\n",
       "6058       CITY-101\n",
       "9092       CITY-102\n",
       "12008      CITY-103\n",
       "             ...   \n",
       "5284184    WISDM-93\n",
       "5286288    WISDM-94\n",
       "5289263    WISDM-95\n",
       "5290870    WISDM-97\n",
       "5299045    WISDM-98\n",
       "Name: SID, Length: 1291, dtype: object"
      ]
     },
     "execution_count": 56,
     "metadata": {},
     "output_type": "execute_result"
    }
   ],
   "source": [
    "df['SID'].drop_duplicates()"
   ]
  },
  {
   "cell_type": "code",
   "execution_count": 57,
   "id": "c3f5dba7-f5e6-40a6-bc43-8c2a6d954dc9",
   "metadata": {
    "tags": []
   },
   "outputs": [],
   "source": [
    "test_check = df[(df['previous_missing_readings']> 0) & (df['previous_missing_readings']< 287)][['SID','Day', 'DailyTI_Index', 'previous_missing_readings']]"
   ]
  },
  {
   "cell_type": "code",
   "execution_count": 58,
   "id": "09340606-da25-45eb-a540-a40265a43ada",
   "metadata": {
    "tags": []
   },
   "outputs": [
    {
     "data": {
      "text/html": [
       "<div>\n",
       "<style scoped>\n",
       "    .dataframe tbody tr th:only-of-type {\n",
       "        vertical-align: middle;\n",
       "    }\n",
       "\n",
       "    .dataframe tbody tr th {\n",
       "        vertical-align: top;\n",
       "    }\n",
       "\n",
       "    .dataframe thead th {\n",
       "        text-align: right;\n",
       "    }\n",
       "</style>\n",
       "<table border=\"1\" class=\"dataframe\">\n",
       "  <thead>\n",
       "    <tr style=\"text-align: right;\">\n",
       "      <th></th>\n",
       "      <th>SID</th>\n",
       "      <th>Day</th>\n",
       "      <th>num_missing</th>\n",
       "      <th>start_missing</th>\n",
       "    </tr>\n",
       "  </thead>\n",
       "  <tbody>\n",
       "    <tr>\n",
       "      <th>0</th>\n",
       "      <td>WISDM-120</td>\n",
       "      <td>271</td>\n",
       "      <td>6</td>\n",
       "      <td>108</td>\n",
       "    </tr>\n",
       "    <tr>\n",
       "      <th>1</th>\n",
       "      <td>DCLP3-004-017</td>\n",
       "      <td>91</td>\n",
       "      <td>11</td>\n",
       "      <td>110</td>\n",
       "    </tr>\n",
       "    <tr>\n",
       "      <th>2</th>\n",
       "      <td>CITY-114</td>\n",
       "      <td>265</td>\n",
       "      <td>48</td>\n",
       "      <td>115</td>\n",
       "    </tr>\n",
       "    <tr>\n",
       "      <th>3</th>\n",
       "      <td>DCLP3-003-001</td>\n",
       "      <td>55</td>\n",
       "      <td>48</td>\n",
       "      <td>158</td>\n",
       "    </tr>\n",
       "    <tr>\n",
       "      <th>4</th>\n",
       "      <td>SENCE-143</td>\n",
       "      <td>237</td>\n",
       "      <td>48</td>\n",
       "      <td>144</td>\n",
       "    </tr>\n",
       "    <tr>\n",
       "      <th>...</th>\n",
       "      <td>...</td>\n",
       "      <td>...</td>\n",
       "      <td>...</td>\n",
       "      <td>...</td>\n",
       "    </tr>\n",
       "    <tr>\n",
       "      <th>20228</th>\n",
       "      <td>DCLP3-004-012</td>\n",
       "      <td>120</td>\n",
       "      <td>4</td>\n",
       "      <td>146</td>\n",
       "    </tr>\n",
       "    <tr>\n",
       "      <th>20229</th>\n",
       "      <td>REPBG-244</td>\n",
       "      <td>77</td>\n",
       "      <td>48</td>\n",
       "      <td>222</td>\n",
       "    </tr>\n",
       "    <tr>\n",
       "      <th>20230</th>\n",
       "      <td>RTCGM-103</td>\n",
       "      <td>321</td>\n",
       "      <td>24</td>\n",
       "      <td>121</td>\n",
       "    </tr>\n",
       "    <tr>\n",
       "      <th>20231</th>\n",
       "      <td>WISDM-97</td>\n",
       "      <td>298</td>\n",
       "      <td>6</td>\n",
       "      <td>152</td>\n",
       "    </tr>\n",
       "    <tr>\n",
       "      <th>20232</th>\n",
       "      <td>DCLP5-61</td>\n",
       "      <td>13</td>\n",
       "      <td>7</td>\n",
       "      <td>250</td>\n",
       "    </tr>\n",
       "  </tbody>\n",
       "</table>\n",
       "<p>20233 rows × 4 columns</p>\n",
       "</div>"
      ],
      "text/plain": [
       "                 SID  Day  num_missing  start_missing\n",
       "0          WISDM-120  271            6            108\n",
       "1      DCLP3-004-017   91           11            110\n",
       "2           CITY-114  265           48            115\n",
       "3      DCLP3-003-001   55           48            158\n",
       "4          SENCE-143  237           48            144\n",
       "...              ...  ...          ...            ...\n",
       "20228  DCLP3-004-012  120            4            146\n",
       "20229      REPBG-244   77           48            222\n",
       "20230      RTCGM-103  321           24            121\n",
       "20231       WISDM-97  298            6            152\n",
       "20232       DCLP5-61   13            7            250\n",
       "\n",
       "[20233 rows x 4 columns]"
      ]
     },
     "execution_count": 58,
     "metadata": {},
     "output_type": "execute_result"
    }
   ],
   "source": [
    "test_combinations"
   ]
  },
  {
   "cell_type": "code",
   "execution_count": 59,
   "id": "8410d0e1-1c9c-48bc-9c63-eb2a45173cfa",
   "metadata": {
    "tags": []
   },
   "outputs": [
    {
     "data": {
      "text/html": [
       "<div>\n",
       "<style scoped>\n",
       "    .dataframe tbody tr th:only-of-type {\n",
       "        vertical-align: middle;\n",
       "    }\n",
       "\n",
       "    .dataframe tbody tr th {\n",
       "        vertical-align: top;\n",
       "    }\n",
       "\n",
       "    .dataframe thead th {\n",
       "        text-align: right;\n",
       "    }\n",
       "</style>\n",
       "<table border=\"1\" class=\"dataframe\">\n",
       "  <thead>\n",
       "    <tr style=\"text-align: right;\">\n",
       "      <th></th>\n",
       "      <th>SID</th>\n",
       "      <th>Day</th>\n",
       "      <th>DailyTI_Index</th>\n",
       "      <th>previous_missing_readings</th>\n",
       "    </tr>\n",
       "  </thead>\n",
       "  <tbody>\n",
       "    <tr>\n",
       "      <th>42</th>\n",
       "      <td>CITY-1</td>\n",
       "      <td>1</td>\n",
       "      <td>90</td>\n",
       "      <td>48.0</td>\n",
       "    </tr>\n",
       "    <tr>\n",
       "      <th>279</th>\n",
       "      <td>CITY-1</td>\n",
       "      <td>3</td>\n",
       "      <td>135</td>\n",
       "      <td>96.0</td>\n",
       "    </tr>\n",
       "    <tr>\n",
       "      <th>703</th>\n",
       "      <td>CITY-1</td>\n",
       "      <td>5</td>\n",
       "      <td>283</td>\n",
       "      <td>12.0</td>\n",
       "    </tr>\n",
       "    <tr>\n",
       "      <th>806</th>\n",
       "      <td>CITY-1</td>\n",
       "      <td>12</td>\n",
       "      <td>104</td>\n",
       "      <td>6.0</td>\n",
       "    </tr>\n",
       "    <tr>\n",
       "      <th>1220</th>\n",
       "      <td>CITY-1</td>\n",
       "      <td>24</td>\n",
       "      <td>234</td>\n",
       "      <td>4.0</td>\n",
       "    </tr>\n",
       "    <tr>\n",
       "      <th>...</th>\n",
       "      <td>...</td>\n",
       "      <td>...</td>\n",
       "      <td>...</td>\n",
       "      <td>...</td>\n",
       "    </tr>\n",
       "    <tr>\n",
       "      <th>5304086</th>\n",
       "      <td>WISDM-98</td>\n",
       "      <td>167</td>\n",
       "      <td>261</td>\n",
       "      <td>96.0</td>\n",
       "    </tr>\n",
       "    <tr>\n",
       "      <th>5304245</th>\n",
       "      <td>WISDM-98</td>\n",
       "      <td>168</td>\n",
       "      <td>180</td>\n",
       "      <td>48.0</td>\n",
       "    </tr>\n",
       "    <tr>\n",
       "      <th>5304449</th>\n",
       "      <td>WISDM-98</td>\n",
       "      <td>173</td>\n",
       "      <td>101</td>\n",
       "      <td>5.0</td>\n",
       "    </tr>\n",
       "    <tr>\n",
       "      <th>5304914</th>\n",
       "      <td>WISDM-98</td>\n",
       "      <td>188</td>\n",
       "      <td>284</td>\n",
       "      <td>6.0</td>\n",
       "    </tr>\n",
       "    <tr>\n",
       "      <th>5304995</th>\n",
       "      <td>WISDM-98</td>\n",
       "      <td>191</td>\n",
       "      <td>173</td>\n",
       "      <td>96.0</td>\n",
       "    </tr>\n",
       "  </tbody>\n",
       "</table>\n",
       "<p>20233 rows × 4 columns</p>\n",
       "</div>"
      ],
      "text/plain": [
       "              SID  Day  DailyTI_Index  previous_missing_readings\n",
       "42         CITY-1    1             90                       48.0\n",
       "279        CITY-1    3            135                       96.0\n",
       "703        CITY-1    5            283                       12.0\n",
       "806        CITY-1   12            104                        6.0\n",
       "1220       CITY-1   24            234                        4.0\n",
       "...           ...  ...            ...                        ...\n",
       "5304086  WISDM-98  167            261                       96.0\n",
       "5304245  WISDM-98  168            180                       48.0\n",
       "5304449  WISDM-98  173            101                        5.0\n",
       "5304914  WISDM-98  188            284                        6.0\n",
       "5304995  WISDM-98  191            173                       96.0\n",
       "\n",
       "[20233 rows x 4 columns]"
      ]
     },
     "execution_count": 59,
     "metadata": {},
     "output_type": "execute_result"
    }
   ],
   "source": [
    "test_check"
   ]
  },
  {
   "cell_type": "code",
   "execution_count": 60,
   "id": "6d90e22d-16a5-48f1-8b6d-f522672cb43f",
   "metadata": {
    "tags": []
   },
   "outputs": [],
   "source": [
    "checking = pd.merge(test_combinations, test_check, how = 'left', on = ['SID','Day'])"
   ]
  },
  {
   "cell_type": "code",
   "execution_count": 61,
   "id": "92691e9b-1bac-446f-8a80-cee18bb74416",
   "metadata": {
    "tags": []
   },
   "outputs": [
    {
     "data": {
      "text/html": [
       "<div>\n",
       "<style scoped>\n",
       "    .dataframe tbody tr th:only-of-type {\n",
       "        vertical-align: middle;\n",
       "    }\n",
       "\n",
       "    .dataframe tbody tr th {\n",
       "        vertical-align: top;\n",
       "    }\n",
       "\n",
       "    .dataframe thead th {\n",
       "        text-align: right;\n",
       "    }\n",
       "</style>\n",
       "<table border=\"1\" class=\"dataframe\">\n",
       "  <thead>\n",
       "    <tr style=\"text-align: right;\">\n",
       "      <th></th>\n",
       "      <th>SID</th>\n",
       "      <th>Day</th>\n",
       "      <th>num_missing</th>\n",
       "      <th>start_missing</th>\n",
       "      <th>DailyTI_Index</th>\n",
       "      <th>previous_missing_readings</th>\n",
       "    </tr>\n",
       "  </thead>\n",
       "  <tbody>\n",
       "  </tbody>\n",
       "</table>\n",
       "</div>"
      ],
      "text/plain": [
       "Empty DataFrame\n",
       "Columns: [SID, Day, num_missing, start_missing, DailyTI_Index, previous_missing_readings]\n",
       "Index: []"
      ]
     },
     "execution_count": 61,
     "metadata": {},
     "output_type": "execute_result"
    }
   ],
   "source": [
    "checking[checking['previous_missing_readings'].isna()]"
   ]
  },
  {
   "cell_type": "markdown",
   "id": "c0e675bc-4c9e-4be9-9ff1-e83d558c54d1",
   "metadata": {},
   "source": [
    "#### Review Distribution of Artifical Missingness"
   ]
  },
  {
   "cell_type": "code",
   "execution_count": 62,
   "id": "626cb499-b7db-453e-aa36-9272d0b1243f",
   "metadata": {
    "tags": []
   },
   "outputs": [
    {
     "data": {
      "text/plain": [
       "Text(0.5, 1.0, 'Histogram of Test Missing Start Point')"
      ]
     },
     "execution_count": 62,
     "metadata": {},
     "output_type": "execute_result"
    },
    {
     "data": {
      "image/png": "[encoded data removed]",
      "text/plain": [
       "<Figure size 640x480 with 1 Axes>"
      ]
     },
     "metadata": {},
     "output_type": "display_data"
    }
   ],
   "source": [
    "# create data for a histogram by converting to Numpy\n",
    "hist_data = test_combinations['start_missing'].to_numpy()\n",
    "\n",
    "# Plot a histogram using matplotlib\n",
    "plt.hist(hist_data, bins=50, alpha=0.7, color='blue', edgecolor='black')\n",
    "\n",
    "# Add labels and title\n",
    "plt.xlabel('Missing Starting Point')\n",
    "plt.ylabel('Frequency')\n",
    "plt.title('Histogram of Test Missing Start Point')"
   ]
  },
  {
   "cell_type": "code",
   "execution_count": 63,
   "id": "0d786059-4bf7-4c4f-83ca-26471df9afc7",
   "metadata": {
    "tags": []
   },
   "outputs": [
    {
     "data": {
      "text/plain": [
       "Text(0.5, 1.0, 'Histogram of Val Missing Start Point')"
      ]
     },
     "execution_count": 63,
     "metadata": {},
     "output_type": "execute_result"
    },
    {
     "data": {
      "image/png": "[encoded data removed]",
      "text/plain": [
       "<Figure size 640x480 with 1 Axes>"
      ]
     },
     "metadata": {},
     "output_type": "display_data"
    }
   ],
   "source": [
    "# create data for a histogram by converting to Numpy\n",
    "hist_data = val_combinations['start_missing'].to_numpy()\n",
    "\n",
    "# Plot a histogram using matplotlib\n",
    "plt.hist(hist_data, bins=50, alpha=0.7, color='blue', edgecolor='black')\n",
    "\n",
    "# Add labels and title\n",
    "plt.xlabel('Missing Starting Point')\n",
    "plt.ylabel('Frequency')\n",
    "plt.title('Histogram of Val Missing Start Point')"
   ]
  },
  {
   "cell_type": "code",
   "execution_count": 64,
   "id": "c1e63ca1-8825-46d8-a3c8-dc0fe48852b0",
   "metadata": {
    "tags": []
   },
   "outputs": [],
   "source": [
    "test_missing_dist = pd.DataFrame(test_combinations.groupby('num_missing').count()['SID']/sum(test_combinations.groupby('num_missing').count()['SID'])).reset_index()\n",
    "val_missing_dist = pd.DataFrame(val_combinations.groupby('num_missing').count()['SID']/sum(val_combinations.groupby('num_missing').count()['SID'])).reset_index()"
   ]
  },
  {
   "cell_type": "code",
   "execution_count": 65,
   "id": "2ba2ad1c-cbfe-42d1-bdb8-b6f08d61e559",
   "metadata": {
    "tags": []
   },
   "outputs": [
    {
     "data": {
      "text/html": [
       "<div>\n",
       "<style scoped>\n",
       "    .dataframe tbody tr th:only-of-type {\n",
       "        vertical-align: middle;\n",
       "    }\n",
       "\n",
       "    .dataframe tbody tr th {\n",
       "        vertical-align: top;\n",
       "    }\n",
       "\n",
       "    .dataframe thead th {\n",
       "        text-align: right;\n",
       "    }\n",
       "</style>\n",
       "<table border=\"1\" class=\"dataframe\">\n",
       "  <thead>\n",
       "    <tr style=\"text-align: right;\">\n",
       "      <th></th>\n",
       "      <th>missing_counts</th>\n",
       "      <th>true_freq</th>\n",
       "      <th>artificial_freq</th>\n",
       "      <th>diff</th>\n",
       "    </tr>\n",
       "  </thead>\n",
       "  <tbody>\n",
       "    <tr>\n",
       "      <th>11</th>\n",
       "      <td>96</td>\n",
       "      <td>0.090205</td>\n",
       "      <td>0.093263</td>\n",
       "      <td>0.003059</td>\n",
       "    </tr>\n",
       "    <tr>\n",
       "      <th>6</th>\n",
       "      <td>10</td>\n",
       "      <td>0.027062</td>\n",
       "      <td>0.028864</td>\n",
       "      <td>0.001802</td>\n",
       "    </tr>\n",
       "    <tr>\n",
       "      <th>3</th>\n",
       "      <td>7</td>\n",
       "      <td>0.052190</td>\n",
       "      <td>0.050610</td>\n",
       "      <td>0.001580</td>\n",
       "    </tr>\n",
       "    <tr>\n",
       "      <th>9</th>\n",
       "      <td>24</td>\n",
       "      <td>0.170595</td>\n",
       "      <td>0.169228</td>\n",
       "      <td>0.001366</td>\n",
       "    </tr>\n",
       "    <tr>\n",
       "      <th>5</th>\n",
       "      <td>9</td>\n",
       "      <td>0.034401</td>\n",
       "      <td>0.033411</td>\n",
       "      <td>0.000990</td>\n",
       "    </tr>\n",
       "    <tr>\n",
       "      <th>8</th>\n",
       "      <td>12</td>\n",
       "      <td>0.020843</td>\n",
       "      <td>0.020017</td>\n",
       "      <td>0.000826</td>\n",
       "    </tr>\n",
       "    <tr>\n",
       "      <th>7</th>\n",
       "      <td>11</td>\n",
       "      <td>0.026440</td>\n",
       "      <td>0.027183</td>\n",
       "      <td>0.000744</td>\n",
       "    </tr>\n",
       "    <tr>\n",
       "      <th>1</th>\n",
       "      <td>5</td>\n",
       "      <td>0.112861</td>\n",
       "      <td>0.112193</td>\n",
       "      <td>0.000669</td>\n",
       "    </tr>\n",
       "    <tr>\n",
       "      <th>10</th>\n",
       "      <td>48</td>\n",
       "      <td>0.195674</td>\n",
       "      <td>0.195077</td>\n",
       "      <td>0.000597</td>\n",
       "    </tr>\n",
       "    <tr>\n",
       "      <th>0</th>\n",
       "      <td>4</td>\n",
       "      <td>0.158211</td>\n",
       "      <td>0.158701</td>\n",
       "      <td>0.000491</td>\n",
       "    </tr>\n",
       "    <tr>\n",
       "      <th>4</th>\n",
       "      <td>8</td>\n",
       "      <td>0.036739</td>\n",
       "      <td>0.036673</td>\n",
       "      <td>0.000066</td>\n",
       "    </tr>\n",
       "    <tr>\n",
       "      <th>2</th>\n",
       "      <td>6</td>\n",
       "      <td>0.074780</td>\n",
       "      <td>0.074779</td>\n",
       "      <td>0.000001</td>\n",
       "    </tr>\n",
       "  </tbody>\n",
       "</table>\n",
       "</div>"
      ],
      "text/plain": [
       "    missing_counts  true_freq  artificial_freq      diff\n",
       "11              96   0.090205         0.093263  0.003059\n",
       "6               10   0.027062         0.028864  0.001802\n",
       "3                7   0.052190         0.050610  0.001580\n",
       "9               24   0.170595         0.169228  0.001366\n",
       "5                9   0.034401         0.033411  0.000990\n",
       "8               12   0.020843         0.020017  0.000826\n",
       "7               11   0.026440         0.027183  0.000744\n",
       "1                5   0.112861         0.112193  0.000669\n",
       "10              48   0.195674         0.195077  0.000597\n",
       "0                4   0.158211         0.158701  0.000491\n",
       "4                8   0.036739         0.036673  0.000066\n",
       "2                6   0.074780         0.074779  0.000001"
      ]
     },
     "execution_count": 65,
     "metadata": {},
     "output_type": "execute_result"
    }
   ],
   "source": [
    "test_check = pd.merge(missing_distribution, test_missing_dist, right_on = 'num_missing', left_on='missing_counts')[['missing_counts','frequency','SID']]\n",
    "test_check.columns = ['missing_counts','true_freq','artificial_freq']\n",
    "test_check['diff'] = abs(test_check['true_freq'] - test_check['artificial_freq'])\n",
    "test_check.sort_values('diff', ascending=False)"
   ]
  },
  {
   "cell_type": "code",
   "execution_count": 66,
   "id": "e23461b9-91b2-420d-9c7b-276052514457",
   "metadata": {
    "tags": []
   },
   "outputs": [
    {
     "data": {
      "text/html": [
       "<div>\n",
       "<style scoped>\n",
       "    .dataframe tbody tr th:only-of-type {\n",
       "        vertical-align: middle;\n",
       "    }\n",
       "\n",
       "    .dataframe tbody tr th {\n",
       "        vertical-align: top;\n",
       "    }\n",
       "\n",
       "    .dataframe thead th {\n",
       "        text-align: right;\n",
       "    }\n",
       "</style>\n",
       "<table border=\"1\" class=\"dataframe\">\n",
       "  <thead>\n",
       "    <tr style=\"text-align: right;\">\n",
       "      <th></th>\n",
       "      <th>missing_counts</th>\n",
       "      <th>true_freq</th>\n",
       "      <th>artificial_freq</th>\n",
       "      <th>diff</th>\n",
       "    </tr>\n",
       "  </thead>\n",
       "  <tbody>\n",
       "    <tr>\n",
       "      <th>1</th>\n",
       "      <td>5</td>\n",
       "      <td>0.112861</td>\n",
       "      <td>0.118008</td>\n",
       "      <td>0.005146</td>\n",
       "    </tr>\n",
       "    <tr>\n",
       "      <th>3</th>\n",
       "      <td>7</td>\n",
       "      <td>0.052190</td>\n",
       "      <td>0.048132</td>\n",
       "      <td>0.004058</td>\n",
       "    </tr>\n",
       "    <tr>\n",
       "      <th>2</th>\n",
       "      <td>6</td>\n",
       "      <td>0.074780</td>\n",
       "      <td>0.071259</td>\n",
       "      <td>0.003521</td>\n",
       "    </tr>\n",
       "    <tr>\n",
       "      <th>4</th>\n",
       "      <td>8</td>\n",
       "      <td>0.036739</td>\n",
       "      <td>0.039534</td>\n",
       "      <td>0.002795</td>\n",
       "    </tr>\n",
       "    <tr>\n",
       "      <th>10</th>\n",
       "      <td>48</td>\n",
       "      <td>0.195674</td>\n",
       "      <td>0.193022</td>\n",
       "      <td>0.002652</td>\n",
       "    </tr>\n",
       "    <tr>\n",
       "      <th>7</th>\n",
       "      <td>11</td>\n",
       "      <td>0.026440</td>\n",
       "      <td>0.028563</td>\n",
       "      <td>0.002123</td>\n",
       "    </tr>\n",
       "    <tr>\n",
       "      <th>11</th>\n",
       "      <td>96</td>\n",
       "      <td>0.090205</td>\n",
       "      <td>0.091915</td>\n",
       "      <td>0.001711</td>\n",
       "    </tr>\n",
       "    <tr>\n",
       "      <th>6</th>\n",
       "      <td>10</td>\n",
       "      <td>0.027062</td>\n",
       "      <td>0.025598</td>\n",
       "      <td>0.001464</td>\n",
       "    </tr>\n",
       "    <tr>\n",
       "      <th>9</th>\n",
       "      <td>24</td>\n",
       "      <td>0.170595</td>\n",
       "      <td>0.169401</td>\n",
       "      <td>0.001194</td>\n",
       "    </tr>\n",
       "    <tr>\n",
       "      <th>8</th>\n",
       "      <td>12</td>\n",
       "      <td>0.020843</td>\n",
       "      <td>0.021941</td>\n",
       "      <td>0.001098</td>\n",
       "    </tr>\n",
       "    <tr>\n",
       "      <th>5</th>\n",
       "      <td>9</td>\n",
       "      <td>0.034401</td>\n",
       "      <td>0.034592</td>\n",
       "      <td>0.000191</td>\n",
       "    </tr>\n",
       "    <tr>\n",
       "      <th>0</th>\n",
       "      <td>4</td>\n",
       "      <td>0.158211</td>\n",
       "      <td>0.158035</td>\n",
       "      <td>0.000175</td>\n",
       "    </tr>\n",
       "  </tbody>\n",
       "</table>\n",
       "</div>"
      ],
      "text/plain": [
       "    missing_counts  true_freq  artificial_freq      diff\n",
       "1                5   0.112861         0.118008  0.005146\n",
       "3                7   0.052190         0.048132  0.004058\n",
       "2                6   0.074780         0.071259  0.003521\n",
       "4                8   0.036739         0.039534  0.002795\n",
       "10              48   0.195674         0.193022  0.002652\n",
       "7               11   0.026440         0.028563  0.002123\n",
       "11              96   0.090205         0.091915  0.001711\n",
       "6               10   0.027062         0.025598  0.001464\n",
       "9               24   0.170595         0.169401  0.001194\n",
       "8               12   0.020843         0.021941  0.001098\n",
       "5                9   0.034401         0.034592  0.000191\n",
       "0                4   0.158211         0.158035  0.000175"
      ]
     },
     "execution_count": 66,
     "metadata": {},
     "output_type": "execute_result"
    }
   ],
   "source": [
    "val_check = pd.merge(missing_distribution, val_missing_dist, right_on = 'num_missing', left_on='missing_counts')[['missing_counts','frequency','SID']]\n",
    "val_check.columns = ['missing_counts','true_freq','artificial_freq']\n",
    "val_check['diff'] = abs(val_check['true_freq'] - val_check['artificial_freq'])\n",
    "val_check.sort_values('diff', ascending=False)"
   ]
  }
 ],
 "metadata": {
  "kernelspec": {
   "display_name": "Python 3 (ipykernel)",
   "language": "python",
   "name": "python3"
  },
  "language_info": {
   "codemirror_mode": {
    "name": "ipython",
    "version": 3
   },
   "file_extension": ".py",
   "mimetype": "text/x-python",
   "name": "python",
   "nbconvert_exporter": "python",
   "pygments_lexer": "ipython3",
   "version": "3.10.8"
  }
 },
 "nbformat": 4,
 "nbformat_minor": 5
}
