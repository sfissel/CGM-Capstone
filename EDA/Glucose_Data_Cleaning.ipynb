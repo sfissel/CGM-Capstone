{
 "cells": [
  {
   "cell_type": "code",
   "execution_count": 1,
   "id": "ebc3d5a2-acc5-4823-b5c3-38b607ab65f0",
   "metadata": {
    "tags": []
   },
   "outputs": [],
   "source": [
    "import polars as pl\n",
    "from datetime import date,datetime\n",
    "import matplotlib.pyplot as plt"
   ]
  },
  {
   "cell_type": "code",
   "execution_count": 2,
   "id": "8dc3e0dd-6399-4f4e-ac8b-8dbe194b439f",
   "metadata": {
    "tags": []
   },
   "outputs": [],
   "source": [
    "# read in all csv files with polars\n",
    "city_features_df = pl.read_csv('./city_cgm_plus_features.csv')\n",
    "dclp3_features_df = pl.read_csv('./dclp3_cgm_plus_features.csv')\n",
    "dclp5_features_df = pl.read_csv('./dclp5_cgm_plus_features.csv')\n",
    "flair_features_df = pl.read_csv('./flair_cgm_plus_features.csv')\n",
    "hall18_features_df = pl.read_csv('./hall18_cgm_plus_features.csv')\n",
    "mdex_features_df = pl.read_csv('./mdex_cgm_plus_features.csv')\n",
    "ndiab_features_df = pl.read_csv('./ndiab_cgm_plus_features.csv')\n",
    "repbg_features_df = pl.read_csv('./repbg_cgm_plus_features.csv')\n",
    "rtcgm_features_df = pl.read_csv('./rtcgm_cgm_plus_features.csv')\n",
    "sence_features_df = pl.read_csv('./sence_cgm_plus_features.csv')\n",
    "sevhypo_features_df = pl.read_csv('./sevhypo_cgm_plus_features.csv')\n",
    "wisdm_features_df = pl.read_csv('./wisdm_cgm_plus_features.csv')\n",
    "\n",
    "city_demo_df = pl.read_csv('./city_demographic_data.csv')\n",
    "dclp3_demo_df = pl.read_csv('./dclp3_demographic_data.csv')\n",
    "dclp5_demo_df = pl.read_csv('./dclp5_demographic_data.csv')\n",
    "flair_demo_df = pl.read_csv('./flair_demographic_data.csv')\n",
    "hall18_demo_df = pl.read_csv('./hall18_demographic_data.csv')\n",
    "mdex_demo_df = pl.read_csv('./mdex_demographic_data.csv')\n",
    "repbg_demo_df = pl.read_csv('./repbg_demographic_data.csv')\n",
    "rtcgm_demo_df = pl.read_csv('./rtcgm_demographic_data.csv')\n",
    "sence_demo_df = pl.read_csv('./sence_demographic_data.csv')\n",
    "sevhypo_demo_df = pl.read_csv('./sevhypo_demographic_data.csv')\n",
    "wisdm_demo_df = pl.read_csv('./wisdm_demographic_data.csv')"
   ]
  },
  {
   "cell_type": "code",
   "execution_count": 3,
   "id": "06754d65-a237-4e63-9cfe-73a842f38d56",
   "metadata": {
    "tags": []
   },
   "outputs": [],
   "source": [
    "city_df = city_features_df.join(city_demo_df, on=\"SID\", how=\"left\")\n",
    "dclp3_df = dclp3_features_df.join(dclp3_demo_df, on=\"SID\",how=\"left\")\n",
    "dclp5_df = dclp5_features_df.join(dclp5_demo_df, on=\"SID\",how=\"left\")\n",
    "flair_df = flair_features_df.join(flair_demo_df, on=\"SID\",how=\"left\")\n",
    "hall18_df = hall18_features_df.join(hall18_demo_df, on=\"SID\", how=\"left\")\n",
    "mdex_df = mdex_features_df.join(mdex_demo_df, on=\"SID\", how=\"left\")\n",
    "repbg_df = repbg_features_df.join(repbg_demo_df, on=\"SID\", how=\"left\")\n",
    "rtcgm_df = rtcgm_features_df.join(rtcgm_demo_df, on=\"SID\", how=\"left\")\n",
    "sence_df = sence_features_df.join(sence_demo_df, on=\"SID\", how=\"left\")\n",
    "sevhypo_df = sevhypo_features_df.join(sevhypo_demo_df, on=\"SID\", how=\"left\")\n",
    "wisdm_df = wisdm_features_df.join(wisdm_demo_df, on=\"SID\", how=\"left\")"
   ]
  },
  {
   "cell_type": "code",
   "execution_count": 4,
   "id": "d547a962-db75-4b9a-a594-02bf4a88c808",
   "metadata": {
    "tags": []
   },
   "outputs": [],
   "source": [
    "hall18_df = hall18_df.with_columns(pl.col(\"Age\").cast(pl.Int64))\n",
    "sevhypo_df = sevhypo_df.with_columns(pl.col(\"Age\").fill_null(-1).cast(pl.Int64))"
   ]
  },
  {
   "cell_type": "code",
   "execution_count": 5,
   "id": "eef0766b-6a0c-4522-aff2-213751b5b416",
   "metadata": {
    "tags": []
   },
   "outputs": [],
   "source": [
    "# create a list of the dataframes excluding city and dclp3 dataframe to vstack\n",
    "df_list = [dclp5_df ,flair_df ,hall18_df ,mdex_df ,repbg_df ,rtcgm_df ,sence_df ,sevhypo_df ,wisdm_df]\n",
    "\n",
    "# vstack city and dclp3 dataframe\n",
    "combined_df = city_df.vstack(dclp3_df)\n",
    "\n",
    "# iterate through and add the remaining 10 datasets to the combined df\n",
    "for i in df_list:\n",
    "    combined_df = combined_df.vstack(i)"
   ]
  },
  {
   "cell_type": "code",
   "execution_count": 6,
   "id": "5a926547-5b6b-4255-be28-43e6acf50229",
   "metadata": {
    "tags": []
   },
   "outputs": [],
   "source": [
    "# create the date and date_time columns\n",
    "combined_df = combined_df.with_columns(combined_df['Date'].str.replace(r'\\.0+', '').alias('Date'))\n",
    "combined_df = combined_df.with_columns(pl.col('Date').str.to_datetime('%Y-%m-%d %H:%M:%S').alias('Date'))\n",
    "combined_df = combined_df.with_columns(combined_df['Date_Time'].str.replace(r'\\.[0-9]+', '').alias('Date_Time'))\n",
    "combined_df = combined_df.with_columns(pl.col('Date_Time').str.to_datetime('%Y-%m-%d %H:%M:%S').alias('Date_Time'))"
   ]
  },
  {
   "cell_type": "code",
   "execution_count": 7,
   "id": "ca014031-b8fe-4ebe-b6c5-a4ddaaca7229",
   "metadata": {},
   "outputs": [],
   "source": [
    "# Select Data for EDA Analysis\n",
    "EDA_data = combined_df.select('SID','Day','Hour','Min'\n",
    "                              ,'DT_Index','DailyTI_Index'\n",
    "                              ,'StudyTI_Index','BMI','BMI_Class'\n",
    "                              ,'Tx_Modality', 'Race', 'Sex','Age'\n",
    "                              , 'Value')\n",
    "EDA_data.write_csv('./CGM_EDA_data.csv')"
   ]
  },
  {
   "cell_type": "code",
   "execution_count": 8,
   "id": "e16dd18b-8ce3-4e1d-b159-e8792dc5358c",
   "metadata": {
    "tags": []
   },
   "outputs": [
    {
     "data": {
      "text/plain": [
       "1826"
      ]
     },
     "execution_count": 8,
     "metadata": {},
     "output_type": "execute_result"
    }
   ],
   "source": [
    "# get the unique number of patients\n",
    "len(combined_df['SID'].unique())"
   ]
  },
  {
   "cell_type": "code",
   "execution_count": 9,
   "id": "28e87c03-90b3-4daf-917a-97380a976bfc",
   "metadata": {
    "tags": []
   },
   "outputs": [],
   "source": [
    "# group by patient id and day and get the count of readings per day\n",
    "daily_id_counts = combined_df.group_by(['SID', 'Day']).agg(pl.col('DT_Index').count().alias('DT_Index_Count'))"
   ]
  },
  {
   "cell_type": "code",
   "execution_count": 10,
   "id": "346da9ec-085e-4e12-8e0a-6009f47844d3",
   "metadata": {
    "tags": []
   },
   "outputs": [],
   "source": [
    "# sort by paitent ID and day\n",
    "daily_id_counts = daily_id_counts.sort(['SID', 'Day'])"
   ]
  },
  {
   "cell_type": "code",
   "execution_count": 11,
   "id": "eda25f93-aabc-4794-9391-5bda032ea58f",
   "metadata": {
    "tags": []
   },
   "outputs": [
    {
     "data": {
      "text/plain": [
       "101168"
      ]
     },
     "execution_count": 11,
     "metadata": {},
     "output_type": "execute_result"
    }
   ],
   "source": [
    "# Filter to the number of patient days with 288 readings (reading every 5 minutes)\n",
    "complete_days = daily_id_counts.filter(pl.col('DT_Index_Count') >= 288)\n",
    "\n",
    "# Print number of days\n",
    "len(complete_days)"
   ]
  },
  {
   "cell_type": "code",
   "execution_count": 12,
   "id": "688412b9-12b4-469e-ab6a-5715d20195a7",
   "metadata": {
    "tags": []
   },
   "outputs": [],
   "source": [
    "# create the SID_Day key to join to data to filter out records not a part of complete days\n",
    "complete_days = complete_days.with_columns(\n",
    "    pl.concat_str(\n",
    "        [\n",
    "            pl.col(\"SID\"),\n",
    "            pl.col(\"Day\"),\n",
    "        ],\n",
    "        separator=\" \",\n",
    "    ).alias(\"SID_Day\"),\n",
    ")"
   ]
  },
  {
   "cell_type": "code",
   "execution_count": 13,
   "id": "1316c990-3fc4-499e-b36f-6ce4204c3e08",
   "metadata": {
    "tags": []
   },
   "outputs": [
    {
     "data": {
      "text/html": [
       "<div><style>\n",
       ".dataframe > thead > tr,\n",
       ".dataframe > tbody > tr {\n",
       "  text-align: right;\n",
       "  white-space: pre-wrap;\n",
       "}\n",
       "</style>\n",
       "<small>shape: (1_425, 2)</small><table border=\"1\" class=\"dataframe\"><thead><tr><th>SID</th><th>Complete_Days</th></tr><tr><td>str</td><td>u32</td></tr></thead><tbody><tr><td>&quot;DCLP5-79&quot;</td><td>74</td></tr><tr><td>&quot;DCLP3-005-005&quot;</td><td>134</td></tr><tr><td>&quot;WISDM-182&quot;</td><td>122</td></tr><tr><td>&quot;REPBG-116&quot;</td><td>188</td></tr><tr><td>&quot;SENCE-61&quot;</td><td>88</td></tr><tr><td>&quot;DCLP3-002-021&quot;</td><td>112</td></tr><tr><td>&quot;WISDM-129&quot;</td><td>114</td></tr><tr><td>&quot;RTCGM-186&quot;</td><td>22</td></tr><tr><td>&quot;SEVHYPO-23&quot;</td><td>1</td></tr><tr><td>&quot;RTCGM-300&quot;</td><td>52</td></tr><tr><td>&quot;RTCGM-241&quot;</td><td>19</td></tr><tr><td>&quot;SENCE-49&quot;</td><td>48</td></tr><tr><td>&hellip;</td><td>&hellip;</td></tr><tr><td>&quot;SENCE-91&quot;</td><td>175</td></tr><tr><td>&quot;FLAIR-20&quot;</td><td>28</td></tr><tr><td>&quot;DCLP5-42&quot;</td><td>40</td></tr><tr><td>&quot;RTCGM-206&quot;</td><td>47</td></tr><tr><td>&quot;SENCE-69&quot;</td><td>4</td></tr><tr><td>&quot;RTCGM-396&quot;</td><td>23</td></tr><tr><td>&quot;DCLP3-003-016&quot;</td><td>155</td></tr><tr><td>&quot;RTCGM-337&quot;</td><td>11</td></tr><tr><td>&quot;REPBG-283&quot;</td><td>198</td></tr><tr><td>&quot;RTCGM-86&quot;</td><td>114</td></tr><tr><td>&quot;RTCGM-164&quot;</td><td>47</td></tr><tr><td>&quot;REPBG-273&quot;</td><td>120</td></tr></tbody></table></div>"
      ],
      "text/plain": [
       "shape: (1_425, 2)\n",
       "┌───────────────┬───────────────┐\n",
       "│ SID           ┆ Complete_Days │\n",
       "│ ---           ┆ ---           │\n",
       "│ str           ┆ u32           │\n",
       "╞═══════════════╪═══════════════╡\n",
       "│ DCLP5-79      ┆ 74            │\n",
       "│ DCLP3-005-005 ┆ 134           │\n",
       "│ WISDM-182     ┆ 122           │\n",
       "│ REPBG-116     ┆ 188           │\n",
       "│ SENCE-61      ┆ 88            │\n",
       "│ …             ┆ …             │\n",
       "│ RTCGM-337     ┆ 11            │\n",
       "│ REPBG-283     ┆ 198           │\n",
       "│ RTCGM-86      ┆ 114           │\n",
       "│ RTCGM-164     ┆ 47            │\n",
       "│ REPBG-273     ┆ 120           │\n",
       "└───────────────┴───────────────┘"
      ]
     },
     "execution_count": 13,
     "metadata": {},
     "output_type": "execute_result"
    }
   ],
   "source": [
    "# number of complete days of readings each patient has\n",
    "complete_days.group_by(['SID']).agg(pl.col('Day').count().alias('Complete_Days'))"
   ]
  },
  {
   "cell_type": "code",
   "execution_count": 14,
   "id": "27929d1f-a5ce-4c39-b441-3b1016571e17",
   "metadata": {
    "tags": []
   },
   "outputs": [],
   "source": [
    "# create the SID_Day key to join to data to filter out records not a part of complete days\n",
    "combined_df = combined_df.with_columns(\n",
    "    pl.concat_str(\n",
    "        [\n",
    "            pl.col(\"SID\"),\n",
    "            pl.col(\"Day\"),\n",
    "        ],\n",
    "        separator=\" \",\n",
    "    ).alias(\"SID_Day\"),\n",
    ")"
   ]
  },
  {
   "cell_type": "code",
   "execution_count": 15,
   "id": "fb4fa9ca-ec30-486c-a0d9-eaa850a7b326",
   "metadata": {
    "tags": []
   },
   "outputs": [
    {
     "data": {
      "text/html": [
       "<div><style>\n",
       ".dataframe > thead > tr,\n",
       ".dataframe > tbody > tr {\n",
       "  text-align: right;\n",
       "  white-space: pre-wrap;\n",
       "}\n",
       "</style>\n",
       "<small>shape: (1, 23)</small><table border=\"1\" class=\"dataframe\"><thead><tr><th>SID</th><th>Date_Time</th><th>Date</th><th>Day</th><th>Hour</th><th>Min</th><th>DT_Index</th><th>DailyTI_Index</th><th>StudyTI_Index</th><th>Value</th><th>Study</th><th>Age</th><th>Sex</th><th>Race</th><th>BMI</th><th>BMI_Class</th><th>Baseline_HbA1c</th><th>Tx_Modality</th><th>Diabetes_Type</th><th>SID_Day</th><th>SID_right</th><th>Day_right</th><th>DT_Index_Count</th></tr><tr><td>str</td><td>datetime[μs]</td><td>datetime[μs]</td><td>i64</td><td>i64</td><td>i64</td><td>str</td><td>i64</td><td>i64</td><td>f64</td><td>str</td><td>i64</td><td>str</td><td>str</td><td>f64</td><td>str</td><td>f64</td><td>str</td><td>str</td><td>str</td><td>str</td><td>i64</td><td>u32</td></tr></thead><tbody><tr><td>&quot;CITY-1&quot;</td><td>2000-03-26 00:04:54</td><td>2000-03-26 00:00:00</td><td>1</td><td>0</td><td>4</td><td>&quot;2000-03-26 00:…</td><td>0</td><td>288</td><td>234.0</td><td>&quot;CITY&quot;</td><td>18</td><td>&quot;F&quot;</td><td>&quot;White&quot;</td><td>23.187635</td><td>&quot;Normalweight&quot;</td><td>8.2</td><td>&quot;MDI&quot;</td><td>&quot;T1D&quot;</td><td>&quot;CITY-1 1&quot;</td><td>&quot;CITY-1&quot;</td><td>1</td><td>288</td></tr></tbody></table></div>"
      ],
      "text/plain": [
       "shape: (1, 23)\n",
       "┌────────┬──────────────┬──────────────┬─────┬───┬──────────┬───────────┬───────────┬──────────────┐\n",
       "│ SID    ┆ Date_Time    ┆ Date         ┆ Day ┆ … ┆ SID_Day  ┆ SID_right ┆ Day_right ┆ DT_Index_Cou │\n",
       "│ ---    ┆ ---          ┆ ---          ┆ --- ┆   ┆ ---      ┆ ---       ┆ ---       ┆ nt           │\n",
       "│ str    ┆ datetime[μs] ┆ datetime[μs] ┆ i64 ┆   ┆ str      ┆ str       ┆ i64       ┆ ---          │\n",
       "│        ┆              ┆              ┆     ┆   ┆          ┆           ┆           ┆ u32          │\n",
       "╞════════╪══════════════╪══════════════╪═════╪═══╪══════════╪═══════════╪═══════════╪══════════════╡\n",
       "│ CITY-1 ┆ 2000-03-26   ┆ 2000-03-26   ┆ 1   ┆ … ┆ CITY-1 1 ┆ CITY-1    ┆ 1         ┆ 288          │\n",
       "│        ┆ 00:04:54     ┆ 00:00:00     ┆     ┆   ┆          ┆           ┆           ┆              │\n",
       "└────────┴──────────────┴──────────────┴─────┴───┴──────────┴───────────┴───────────┴──────────────┘"
      ]
     },
     "execution_count": 15,
     "metadata": {},
     "output_type": "execute_result"
    }
   ],
   "source": [
    "# inner join the complete days with all records to create dataset we will use for model building and eval\n",
    "records_kept = combined_df.join(complete_days, on = 'SID_Day', how = 'inner')\n",
    "records_kept.head(1)"
   ]
  },
  {
   "cell_type": "code",
   "execution_count": 16,
   "id": "790a165d-1a7a-4041-9f26-46b829d696d6",
   "metadata": {
    "tags": []
   },
   "outputs": [
    {
     "data": {
      "text/plain": [
       "True"
      ]
     },
     "execution_count": 16,
     "metadata": {},
     "output_type": "execute_result"
    }
   ],
   "source": [
    "# check that the number of complete days is the same as the number of unique days in records kept\n",
    "len(complete_days)==len(records_kept[\"SID_Day\"].unique())"
   ]
  },
  {
   "cell_type": "code",
   "execution_count": 30,
   "id": "668ab1f1-55e1-4485-869f-a88466ab328e",
   "metadata": {
    "tags": []
   },
   "outputs": [
    {
     "data": {
      "text/plain": [
       "101168"
      ]
     },
     "execution_count": 30,
     "metadata": {},
     "output_type": "execute_result"
    }
   ],
   "source": [
    "len(records_kept[\"SID_Day\"].unique())"
   ]
  },
  {
   "cell_type": "code",
   "execution_count": 17,
   "id": "38e204b0-1561-432b-a124-0e7a72f6cc43",
   "metadata": {
    "tags": []
   },
   "outputs": [],
   "source": [
    "# Export data for modeling\n",
    "export_data = records_kept.select('SID','Day','Hour','Min','DT_Index','DailyTI_Index','StudyTI_Index','BMI','BMI_Class','Tx_Modality','Value')\n",
    "export_data.write_csv('./CGM_model_data.csv')"
   ]
  },
  {
   "cell_type": "markdown",
   "id": "bb163e26-4d0d-4306-896d-0ac61773ad38",
   "metadata": {},
   "source": [
    "### Profiling Missingness"
   ]
  },
  {
   "cell_type": "code",
   "execution_count": 18,
   "id": "1e0f0737-776e-45c8-b715-d8016760f5f2",
   "metadata": {
    "tags": []
   },
   "outputs": [],
   "source": [
    "# sort dataframe by SID and Date_Time\n",
    "combined_df = combined_df.sort(['SID', 'Date_Time'])\n",
    "\n",
    "# create a previous missing readings column\n",
    "df = combined_df.with_columns(\n",
    "    pl.when(combined_df['SID'] == combined_df['SID'].shift(1))\n",
    "        .then(combined_df['StudyTI_Index'] - combined_df['StudyTI_Index'].shift(1)-1)\n",
    "        .otherwise(None).alias('previous_missing_readings')\n",
    ")\n",
    "\n",
    "# make any missing more than 1000 readings be 1000\n",
    "df = df.with_columns(\n",
    "    pl.when(df['previous_missing_readings'] >1000)\n",
    "        .then(1000)\n",
    "        .otherwise(df['previous_missing_readings']).alias('previous_missing_readings')\n",
    ")"
   ]
  },
  {
   "cell_type": "code",
   "execution_count": 19,
   "id": "871d4d47-36bd-4a46-aac9-06734166a05f",
   "metadata": {
    "tags": []
   },
   "outputs": [
    {
     "data": {
      "text/plain": [
       "3004598"
      ]
     },
     "execution_count": 19,
     "metadata": {},
     "output_type": "execute_result"
    }
   ],
   "source": [
    "# Number of days missing 1 or 2 readings\n",
    "len(df.filter((pl.col('previous_missing_readings')==1) | (pl.col('previous_missing_readings')==2)))"
   ]
  },
  {
   "cell_type": "code",
   "execution_count": 20,
   "id": "25417bea-4066-43df-9736-a9a555caa7a0",
   "metadata": {
    "tags": []
   },
   "outputs": [
    {
     "data": {
      "text/plain": [
       "Text(0.5, 1.0, 'Histogram of previous_missing_readings')"
      ]
     },
     "execution_count": 20,
     "metadata": {},
     "output_type": "execute_result"
    },
    {
     "data": {
      "image/png": "[encoded data removed]",
      "text/plain": [
       "<Figure size 640x480 with 1 Axes>"
      ]
     },
     "metadata": {},
     "output_type": "display_data"
    }
   ],
   "source": [
    "# Missing readings are defined as more than 3 missing readings for the project\n",
    "missing_readings = df.filter(pl.col('previous_missing_readings') > 3)\n",
    "\n",
    "# create data for a histogram by converting to Numpy\n",
    "hist_data = missing_readings['previous_missing_readings'].to_numpy()\n",
    "\n",
    "# Plot a histogram using matplotlib\n",
    "plt.hist(hist_data, bins=30, alpha=0.7, color='blue', edgecolor='black')\n",
    "\n",
    "# Add labels and title\n",
    "plt.xlabel('previous_missing_readings')\n",
    "plt.ylabel('Frequency')\n",
    "plt.title('Histogram of previous_missing_readings')"
   ]
  },
  {
   "cell_type": "code",
   "execution_count": 21,
   "id": "573f0100-4c74-43e6-9b89-7502d803ba69",
   "metadata": {
    "tags": []
   },
   "outputs": [],
   "source": [
    "# Calculate the percentage of readings missing each count\n",
    "pct_missing_reads = missing_readings.group_by('previous_missing_readings').agg(pl.col('previous_missing_readings').count().alias('Count')).select(\n",
    "        pl.col('previous_missing_readings'),\n",
    "        (pl.col('Count') / len(missing_readings)).alias('Percent')*100\n",
    "    )"
   ]
  },
  {
   "cell_type": "code",
   "execution_count": 22,
   "id": "d4d05d56-6535-42ad-9707-36aedfcf23d7",
   "metadata": {
    "tags": []
   },
   "outputs": [],
   "source": [
    "# Look at the readings missing less than 8 hours of data\n",
    "missing_pct_interest = pct_missing_reads.filter(pl.col('previous_missing_readings') <= 96).sort('previous_missing_readings')"
   ]
  },
  {
   "cell_type": "code",
   "execution_count": 23,
   "id": "c145666a",
   "metadata": {
    "tags": []
   },
   "outputs": [],
   "source": [
    "# Calculate the percentage each group is missing from 4 to 96 to Generate distribution for test set\n",
    "missing_pct_interest = missing_pct_interest.select(pl.col('previous_missing_readings'),\n",
    "                                                   (pl.col('Percent') / missing_pct_interest['Percent'].sum()).alias('Test_Weight')*100\n",
    "    )"
   ]
  },
  {
   "cell_type": "code",
   "execution_count": 24,
   "id": "0ccf5882-610b-4c56-9da4-9ca1a37ec487",
   "metadata": {
    "tags": []
   },
   "outputs": [
    {
     "data": {
      "text/plain": [
       "100.00000000000006"
      ]
     },
     "execution_count": 24,
     "metadata": {},
     "output_type": "execute_result"
    }
   ],
   "source": [
    "# Ensure sums to 100\n",
    "missing_pct_interest['Test_Weight'].sum()"
   ]
  },
  {
   "cell_type": "code",
   "execution_count": 27,
   "id": "371a9e64-f7f8-40aa-8be5-fcaa2b42127e",
   "metadata": {
    "tags": []
   },
   "outputs": [],
   "source": [
    "# View table\n",
    "missing_pct_interest.write_csv('./test_weights.csv')"
   ]
  }
 ],
 "metadata": {
  "kernelspec": {
   "display_name": "Python 3 (ipykernel)",
   "language": "python",
   "name": "python3"
  },
  "language_info": {
   "codemirror_mode": {
    "name": "ipython",
    "version": 3
   },
   "file_extension": ".py",
   "mimetype": "text/x-python",
   "name": "python",
   "nbconvert_exporter": "python",
   "pygments_lexer": "ipython3",
   "version": "3.10.8"
  }
 },
 "nbformat": 4,
 "nbformat_minor": 5
}
